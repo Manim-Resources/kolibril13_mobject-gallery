{
 "cells": [
  {
   "cell_type": "code",
   "execution_count": 3,
   "metadata": {},
   "outputs": [],
   "source": [
    "import json\n",
    "import os\n",
    "import shutil\n",
    "import time\n",
    "from base64 import b64decode\n",
    "from io import BytesIO\n",
    "from IPython import get_ipython\n",
    "from IPython.core.magic import register_cell_magic\n",
    "\n",
    "from pathlib import Path\n",
    "import numpy as np\n",
    "import PIL\n",
    "\n",
    "def rmtree(f: Path):\n",
    "    if f.is_file():\n",
    "        f.unlink()\n",
    "    else:\n",
    "        for child in f.iterdir():\n",
    "            rmtree(child)\n",
    "        f.rmdir()\n",
    "\n",
    "# delete all previous files\n",
    "path = Path.cwd() / \"gallery_assets\"\n",
    "try:\n",
    "    rmtree(path)\n",
    "except:\n",
    "    pass\n",
    "\n",
    "path.mkdir(parents=False, exist_ok=False)\n",
    "\n",
    "# create json file\n",
    "joson_file_path = \"gallery_assets/gallery_parameters.json\"\n",
    "with open(joson_file_path, \"w\") as jsonFile:\n",
    "    json.dump({}, jsonFile, indent=2)"
   ]
  },
  {
   "cell_type": "code",
   "execution_count": null,
   "metadata": {},
   "outputs": [],
   "source": []
  }
 ],
 "metadata": {
  "kernelspec": {
   "display_name": "Python 3.8.13 ('mobject_env': venv)",
   "language": "python",
   "name": "python3"
  },
  "language_info": {
   "codemirror_mode": {
    "name": "ipython",
    "version": 3
   },
   "file_extension": ".py",
   "mimetype": "text/x-python",
   "name": "python",
   "nbconvert_exporter": "python",
   "pygments_lexer": "ipython3",
   "version": "3.8.13"
  },
  "orig_nbformat": 4,
  "vscode": {
   "interpreter": {
    "hash": "de09033afffa3f5a46031dc5f1d6210cdd3d8c3b3fb8f394fa15c15d80f85f8a"
   }
  }
 },
 "nbformat": 4,
 "nbformat_minor": 2
}
