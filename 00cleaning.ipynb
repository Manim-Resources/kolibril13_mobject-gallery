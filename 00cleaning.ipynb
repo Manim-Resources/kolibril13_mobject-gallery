{
 "cells": [
  {
   "cell_type": "code",
   "execution_count": 1,
   "metadata": {},
   "outputs": [],
   "source": [
    "import json\n",
    "import os\n",
    "import shutil\n",
    "import time\n",
    "from base64 import b64decode\n",
    "from io import BytesIO\n",
    "from IPython import get_ipython\n",
    "from IPython.core.magic import register_cell_magic\n",
    "\n",
    "from pathlib import Path\n",
    "import numpy as np\n",
    "import PIL\n",
    "\n",
    "def rmtree(f: Path):\n",
    "    if f.is_file():\n",
    "        f.unlink()\n",
    "    else:\n",
    "        for child in f.iterdir():\n",
    "            rmtree(child)\n",
    "        f.rmdir()\n",
    "\n",
    "# delete all previous files\n",
    "path = Path.cwd() / \"gallery_assets\"\n",
    "try:\n",
    "    rmtree(path)\n",
    "except:\n",
    "    pass\n",
    "\n",
    "path.mkdir(parents=False, exist_ok=False)\n",
    "\n",
    "# create json file\n",
    "joson_file_path = \"gallery_assets/gallery_parameters.json\"\n",
    "with open(joson_file_path, \"w\") as jsonFile:\n",
    "    json.dump({}, jsonFile, indent=2)"
   ]
  }
 ],
 "metadata": {
  "kernelspec": {
   "display_name": ".venv11",
   "language": "python",
   "name": "python3"
  },
  "language_info": {
   "codemirror_mode": {
    "name": "ipython",
    "version": 3
   },
   "file_extension": ".py",
   "mimetype": "text/x-python",
   "name": "python",
   "nbconvert_exporter": "python",
   "pygments_lexer": "ipython3",
   "version": "3.11.0"
  },
  "orig_nbformat": 4,
  "vscode": {
   "interpreter": {
    "hash": "4f2da1240e0bd584740c51555f65b4a6360ecf1e20d5e328709c04764f187336"
   }
  }
 },
 "nbformat": 4,
 "nbformat_minor": 2
}
