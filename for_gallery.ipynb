{
 "cells": [
  {
   "cell_type": "code",
   "execution_count": 23,
   "id": "63e3d9e1",
   "metadata": {},
   "outputs": [],
   "source": [
    "from manim import *"
   ]
  },
  {
   "cell_type": "code",
   "execution_count": 24,
   "id": "e4ba2c91-b12e-4d60-98e6-7e51046d5745",
   "metadata": {},
   "outputs": [],
   "source": [
    "from pathlib import Path\n",
    "import shutil\n",
    "import time\n",
    "\n",
    "def latest_file(path: Path, pattern: str = \"*\"):\n",
    "    files = path.glob(pattern)\n",
    "    return max(files, key=lambda x: x.stat().st_ctime)\n",
    "\n",
    "def save_image(name):\n",
    "    #from_file = latest_file(Path(\"./media/images/mobject-gallery\"))\n",
    "    from_file = Path(\"./media/images/mobject-gallery/Example_ManimCE_v0.10.0.png\")\n",
    "    to_file = Path.cwd() / name\n",
    "    shutil.copy(from_file, to_file)\n",
    "    \n",
    "name_snippet_pairs = {}"
   ]
  },
  {
   "cell_type": "code",
   "execution_count": 25,
   "id": "3d228c15",
   "metadata": {},
   "outputs": [
    {
     "data": {
      "image/png": "[encoded data removed]",
      "text/plain": [
       "<IPython.core.display.Image object>"
      ]
     },
     "metadata": {},
     "output_type": "display_data"
    }
   ],
   "source": [
    "%%manim -v WARNING -r 80,40 -s  --disable_caching Example\n",
    "class Example(ZoomedScene):\n",
    "    def construct(self):\n",
    "        self.camera.frame.scale(1/20)\n",
    "        d = Dot(color = YELLOW)\n",
    "        self.add(d)\n",
    "###******        \n",
    "category = \"basics01\"\n",
    "image_file_name = \"dot.png\"\n",
    "snippet = \"d = Dot(color = YELLOW)\""
   ]
  },
  {
   "cell_type": "code",
   "execution_count": 26,
   "id": "fb6da625-026b-45d0-a22c-8a69c0467962",
   "metadata": {},
   "outputs": [],
   "source": [
    "image_full_name = category + \"_\" + image_file_name\n",
    "save_image(image_full_name)\n",
    "name_snippet_pairs[image_full_name] = snippet"
   ]
  },
  {
   "cell_type": "code",
   "execution_count": 27,
   "id": "ad594e35",
   "metadata": {},
   "outputs": [
    {
     "data": {
      "image/png": "[encoded data removed]",
      "text/plain": [
       "<IPython.core.display.Image object>"
      ]
     },
     "metadata": {},
     "output_type": "display_data"
    }
   ],
   "source": [
    "%%manim -v WARNING -r 80,40 -s  --disable_caching Example\n",
    "class Example(ZoomedScene):\n",
    "    def construct(self):\n",
    "        mob= Circle(color= YELLOW)\n",
    "        self.add(mob)\n",
    "        mob.scale(0.1)\n",
    "        self.camera.frame.scale(1/25)\n",
    "###******        \n",
    "category = \"basics02\"\n",
    "image_file_name = \"circle.png\"\n",
    "snippet = \"circle = Circle(color= YELLOW)\""
   ]
  },
  {
   "cell_type": "code",
   "execution_count": 28,
   "id": "db6d50e4-9da3-4a96-96fd-1c6d88d0e44d",
   "metadata": {},
   "outputs": [],
   "source": [
    "image_full_name = category + \"_\" + image_file_name\n",
    "save_image(image_full_name)\n",
    "name_snippet_pairs[image_full_name] = snippet"
   ]
  },
  {
   "cell_type": "code",
   "execution_count": 29,
   "id": "78d4b603",
   "metadata": {},
   "outputs": [
    {
     "data": {
      "image/png": "[encoded data removed]",
      "text/plain": [
       "<IPython.core.display.Image object>"
      ]
     },
     "metadata": {},
     "output_type": "display_data"
    }
   ],
   "source": [
    "%%manim -v WARNING -r 80,40 -s  --disable_caching Example\n",
    "class Example(ZoomedScene):\n",
    "    def construct(self):\n",
    "        mob= Square(color= YELLOW)\n",
    "        self.add(mob)\n",
    "        mob.scale(0.1)\n",
    "        self.camera.frame.scale(1/25)\n",
    "###******        \n",
    "category = \"basics03\"\n",
    "image_file_name = \"square.png\"\n",
    "snippet = \"square = Square(color= YELLOW)\""
   ]
  },
  {
   "cell_type": "code",
   "execution_count": 30,
   "id": "71a9366d-cf68-4d7b-b647-d34d98799edd",
   "metadata": {},
   "outputs": [],
   "source": [
    "image_full_name = category + \"_\" + image_file_name\n",
    "save_image(image_full_name)\n",
    "name_snippet_pairs[image_full_name] = snippet"
   ]
  },
  {
   "cell_type": "code",
   "execution_count": 31,
   "id": "bc54081a",
   "metadata": {},
   "outputs": [
    {
     "data": {
      "image/png": "[encoded data removed]",
      "text/plain": [
       "<IPython.core.display.Image object>"
      ]
     },
     "metadata": {},
     "output_type": "display_data"
    }
   ],
   "source": [
    "%%manim -v WARNING -r 80,40 -s  --disable_caching Example\n",
    "class Example(ZoomedScene):\n",
    "    def construct(self):\n",
    "        mob = Line(color= YELLOW)\n",
    "        self.add(mob)\n",
    "        mob.scale(0.1)\n",
    "        self.camera.frame.scale(1/25)\n",
    "###******        \n",
    "category = \"basics04\"\n",
    "image_file_name = \"line.png\"\n",
    "snippet = \"line = Line(color= YELLOW)\""
   ]
  },
  {
   "cell_type": "code",
   "execution_count": 32,
   "id": "0b34e199-d4d7-488f-b082-c3079505abf1",
   "metadata": {},
   "outputs": [],
   "source": [
    "image_full_name = category + \"_\" + image_file_name\n",
    "save_image(image_full_name)\n",
    "name_snippet_pairs[image_full_name] = snippet"
   ]
  },
  {
   "cell_type": "code",
   "execution_count": 33,
   "id": "ca89b62d",
   "metadata": {},
   "outputs": [
    {
     "data": {
      "image/png": "[encoded data removed]",
      "text/plain": [
       "<IPython.core.display.Image object>"
      ]
     },
     "metadata": {},
     "output_type": "display_data"
    }
   ],
   "source": [
    "%%manim -v WARNING -r 80,40 -s  --disable_caching Example\n",
    "class Example(ZoomedScene):\n",
    "    def construct(self):\n",
    "        mob= Star(color= YELLOW)\n",
    "        mob.move_to(ORIGIN)\n",
    "        self.add(mob)\n",
    "        mob.scale(0.1)\n",
    "        self.camera.frame.scale(1/25)\n",
    "###******        \n",
    "category = \"basics05\"\n",
    "image_file_name = \"star.png\"\n",
    "snippet = \"star = Star(color = YELLOW)\""
   ]
  },
  {
   "cell_type": "code",
   "execution_count": 34,
   "id": "919d96ef-f910-4289-a7ed-19b54b765d26",
   "metadata": {},
   "outputs": [],
   "source": [
    "image_full_name = category + \"_\" + image_file_name\n",
    "save_image(image_full_name)\n",
    "name_snippet_pairs[image_full_name] = snippet"
   ]
  },
  {
   "cell_type": "code",
   "execution_count": 35,
   "id": "e32bba63-afe6-4857-bffa-24240c9198cb",
   "metadata": {},
   "outputs": [
    {
     "data": {
      "text/plain": [
       "{'basics01_dot.png': 'd = Dot(color = YELLOW)',\n",
       " 'basics02_circle.png': 'circle = Circle(color= YELLOW)',\n",
       " 'basics03_square.png': 'square = Square(color= YELLOW)',\n",
       " 'basics04_line.png': 'line = Line(color= YELLOW)',\n",
       " 'basics05_star.png': 'star = Star(color = YELLOW)'}"
      ]
     },
     "execution_count": 35,
     "metadata": {},
     "output_type": "execute_result"
    }
   ],
   "source": [
    "name_snippet_pairs"
   ]
  },
  {
   "cell_type": "code",
   "execution_count": 36,
   "id": "ab1b24cd-ce2a-4a6c-9e8f-6718dca88478",
   "metadata": {},
   "outputs": [],
   "source": [
    "import json\n",
    "\n",
    "with open('name_snippet_pairs.json', 'w') as fp:\n",
    "    json.dump(name_snippet_pairs, fp)"
   ]
  },
  {
   "cell_type": "code",
   "execution_count": null,
   "id": "4f89ff64-1c1e-4db7-a4bd-47b2ac87e3a6",
   "metadata": {},
   "outputs": [],
   "source": []
  }
 ],
 "metadata": {
  "interpreter": {
   "hash": "956ae1017c005de10cf980548dc93247cd70ec3257bcb31b6a6c2783ea7553f4"
  },
  "kernelspec": {
   "display_name": "Python 3",
   "language": "python",
   "name": "python3"
  },
  "language_info": {
   "codemirror_mode": {
    "name": "ipython",
    "version": 3
   },
   "file_extension": ".py",
   "mimetype": "text/x-python",
   "name": "python",
   "nbconvert_exporter": "python",
   "pygments_lexer": "ipython3",
   "version": "3.9.5"
  }
 },
 "nbformat": 4,
 "nbformat_minor": 5
}
