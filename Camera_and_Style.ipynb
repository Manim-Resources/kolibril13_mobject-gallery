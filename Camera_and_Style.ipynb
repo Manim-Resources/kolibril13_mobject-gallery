{
 "cells": [
  {
   "cell_type": "code",
   "execution_count": 1,
   "id": "e4ba2c91-b12e-4d60-98e6-7e51046d5745",
   "metadata": {},
   "outputs": [
    {
     "data": {
      "text/html": [
       "<pre style=\"white-space:pre;overflow-x:auto;line-height:normal;font-family:Menlo,'DejaVu Sans Mono',consolas,'Courier New',monospace\">Manim Community <span style=\"color: #008000; text-decoration-color: #008000\">v0.10.0</span>\n",
       "\n",
       "</pre>\n"
      ],
      "text/plain": [
       "Manim Community \u001b[32mv0.\u001b[0m\u001b[32m10.0\u001b[0m\n",
       "\n"
      ]
     },
     "metadata": {},
     "output_type": "display_data"
    }
   ],
   "source": [
    "from manim import *\n",
    "from pathlib import Path\n",
    "import shutil\n",
    "import time\n",
    "import json\n",
    "import os\n",
    "\n",
    "params = \" -v WARNING -r 80,40 -s  --disable_caching Example\"\n",
    "    \n",
    "name_snippet_pairs = {}"
   ]
  },
  {
   "cell_type": "code",
   "execution_count": 2,
   "id": "0fd61567-423c-4c00-a242-1ab6c8dd9787",
   "metadata": {},
   "outputs": [
    {
     "data": {
      "image/png": "[encoded data removed]",
      "text/plain": [
       "<IPython.core.display.Image object>"
      ]
     },
     "metadata": {},
     "output_type": "display_data"
    }
   ],
   "source": [
    "%%manim $params\n",
    "class Example(ZoomedScene):\n",
    "    def construct(self):\n",
    "        self.camera.background_color = YELLOW\n",
    "        mob = Tex(r\"\\textbf{Change \\\\ Background}\", color=BLACK)\n",
    "        self.add(mob)\n",
    "        self.camera.frame.scale(1/4)\n",
    "\n",
    "###******        \n",
    "image_full_name = \"Background.png\"\n",
    "snippet = \"\"\"\n",
    "self.camera.background_color = YELLOW\n",
    "\"\"\"\n",
    "name_snippet_pairs[image_full_name] = snippet"
   ]
  },
  {
   "cell_type": "code",
   "execution_count": 3,
   "id": "91267955-c0a4-4184-8149-6b71e6c3158a",
   "metadata": {},
   "outputs": [
    {
     "data": {
      "image/png": "[encoded data removed]",
      "text/plain": [
       "<IPython.core.display.Image object>"
      ]
     },
     "metadata": {},
     "output_type": "display_data"
    }
   ],
   "source": [
    "%%manim $params\n",
    "class Example(ZoomedScene):\n",
    "    def construct(self):\n",
    "        mob = Tex(r\"\\textbf{Zoom \\\\ IN}\", color=YELLOW)\n",
    "        self.camera.frame.scale(0.6)\n",
    "\n",
    "        self.add(mob)\n",
    "        self.camera.frame.scale(1/4)\n",
    "\n",
    "###******        \n",
    "image_full_name = \"ZoomIN.png\"\n",
    "snippet = \"\"\"\n",
    "# Scene needs to be \"class MyExample(ZoomedScene)\"\n",
    "self.camera.frame.scale(0.6)\n",
    "\"\"\"\n",
    "name_snippet_pairs[image_full_name] = snippet"
   ]
  },
  {
   "cell_type": "code",
   "execution_count": 4,
   "id": "c05ff57a-5c0e-4c47-89eb-1291957b9058",
   "metadata": {},
   "outputs": [
    {
     "data": {
      "image/png": "[encoded data removed]",
      "text/plain": [
       "<IPython.core.display.Image object>"
      ]
     },
     "metadata": {},
     "output_type": "display_data"
    }
   ],
   "source": [
    "%%manim $params\n",
    "class Example(ZoomedScene):\n",
    "    def construct(self):\n",
    "        mob = Tex(r\"\\textbf{Zoom \\\\ OUT}\", color=YELLOW)\n",
    "        self.camera.frame.scale(1.2)\n",
    "\n",
    "        self.add(mob)\n",
    "        self.camera.frame.scale(1/4)\n",
    "\n",
    "###******        \n",
    "image_full_name = \"ZoomOUT.png\"\n",
    "snippet = \"\"\"\n",
    "# Scene needs to be \"class MyExample(ZoomedScene)\"\n",
    "self.camera.frame.scale(1.2)\n",
    "\"\"\"\n",
    "name_snippet_pairs[image_full_name] = snippet"
   ]
  },
  {
   "cell_type": "code",
   "execution_count": 5,
   "id": "9081dc78-4d62-43b9-8d9e-3d0ee2ac1ebd",
   "metadata": {},
   "outputs": [
    {
     "data": {
      "image/png": "[encoded data removed]",
      "text/plain": [
       "<IPython.core.display.Image object>"
      ]
     },
     "metadata": {},
     "output_type": "display_data"
    }
   ],
   "source": [
    "%%manim $params\n",
    "class Example(ZoomedScene):\n",
    "    def construct(self):\n",
    "        mob = Tex(r\"\\textbf{Camera \\\\ shift LEFT}\", color=YELLOW)\n",
    "        self.camera.frame.shift(LEFT*0.5)\n",
    "        self.add(mob)\n",
    "        self.camera.frame.scale(1/3.5)\n",
    "\n",
    "###******        \n",
    "image_full_name = \"CameraLEFT.png\"\n",
    "snippet = \"\"\"\n",
    "# Scene needs to be \"class MyExample(ZoomedScene)\"\n",
    "self.camera.frame.shift(LEFT*0.5)\n",
    "\"\"\"\n",
    "name_snippet_pairs[image_full_name] = snippet"
   ]
  },
  {
   "cell_type": "code",
   "execution_count": 6,
   "id": "18d57f08-f2cf-4669-9fc1-ff8bfc9923f5",
   "metadata": {},
   "outputs": [
    {
     "data": {
      "image/png": "[encoded data removed]",
      "text/plain": [
       "<IPython.core.display.Image object>"
      ]
     },
     "metadata": {},
     "output_type": "display_data"
    }
   ],
   "source": [
    "%%manim $params\n",
    "class Example(ZoomedScene):\n",
    "    def construct(self):\n",
    "        mob = Tex(r\"\\textbf{Camera \\\\ shift UP}\", color=YELLOW)\n",
    "        self.camera.frame.shift(UP*0.4)\n",
    "        self.add(mob)\n",
    "        self.camera.frame.scale(1/3.5)\n",
    "\n",
    "###******        \n",
    "image_full_name = \"CameraUP.png\"\n",
    "snippet = \"\"\"\n",
    "# Scene needs to be \"class MyExample(ZoomedScene)\"\n",
    "self.camera.frame.shift(UP*0.4)\n",
    "\"\"\"\n",
    "name_snippet_pairs[image_full_name] = snippet"
   ]
  },
  {
   "cell_type": "code",
   "execution_count": 7,
   "id": "c185b1ae-23fa-46d5-a7de-ef5efa071770",
   "metadata": {},
   "outputs": [
    {
     "data": {
      "image/png": "[encoded data removed]",
      "text/plain": [
       "<IPython.core.display.Image object>"
      ]
     },
     "metadata": {},
     "output_type": "display_data"
    }
   ],
   "source": [
    "%%manim $params\n",
    "class Example(ZoomedScene):\n",
    "    def construct(self):\n",
    "        mob = FullScreenRectangle(stroke_width=200, color= YELLOW)\n",
    "        self.add(mob)\n",
    "\n",
    "###******        \n",
    "image_full_name = \"FullScreenRectangle.png\"\n",
    "snippet = \"\"\"\n",
    "mob = FullScreenRectangle(stroke_width=200, color= YELLOW)\n",
    "\"\"\"\n",
    "name_snippet_pairs[image_full_name] = snippet"
   ]
  },
  {
   "cell_type": "code",
   "execution_count": 12,
   "id": "fd9e6794-9c74-498f-afa5-6f385816abdd",
   "metadata": {},
   "outputs": [
    {
     "data": {
      "image/png": "[encoded data removed]",
      "text/plain": [
       "<IPython.core.display.Image object>"
      ]
     },
     "metadata": {},
     "output_type": "display_data"
    }
   ],
   "source": [
    "%%manim $params\n",
    "class Example(ZoomedScene):\n",
    "    def construct(self):\n",
    "        inner = Tex(r\"\\textbf{Hello}\", color=WHITE)\n",
    "        mob = SurroundingRectangle(inner, corner_radius=0.1)\n",
    "        self.add(mob,inner)\n",
    "        self.camera.frame.scale(1/8)\n",
    "\n",
    "\n",
    "###******        \n",
    "image_full_name = \"SurroundingRectangle.png\"\n",
    "snippet = r\"\"\"\n",
    "inner = Tex(r\"\\textbf{Hello}\", color=WHITE)\n",
    "mob = SurroundingRectangle(inner, corner_radius=0.1)\n",
    "\"\"\"\n",
    "name_snippet_pairs[image_full_name] = snippet"
   ]
  },
  {
   "cell_type": "markdown",
   "id": "7150aa82-899b-49cd-bcad-344ef8bb3e9c",
   "metadata": {},
   "source": [
    "# Save here!"
   ]
  },
  {
   "cell_type": "code",
   "execution_count": 13,
   "id": "53529e00-0617-4ce7-bdbb-fe76d8ae6ad4",
   "metadata": {},
   "outputs": [],
   "source": [
    "#pip install ipylab\n",
    "from ipylab import JupyterFrontEnd\n",
    "\n",
    "app = JupyterFrontEnd()\n",
    "app.commands.execute('docmanager:save')"
   ]
  },
  {
   "cell_type": "code",
   "execution_count": 14,
   "id": "a0a9f13e-13ec-4a03-b5ad-981fcd535dac",
   "metadata": {},
   "outputs": [],
   "source": [
    "file_name = \"Camera_and_Style\""
   ]
  },
  {
   "cell_type": "code",
   "execution_count": 15,
   "id": "312f4676-113b-464d-b7d5-03e0c7ca3c93",
   "metadata": {},
   "outputs": [
    {
     "name": "stdout",
     "output_type": "stream",
     "text": [
      "rm: Camera_and_Style_files: No such file or directory\n",
      "[NbConvertApp] Converting notebook Camera_and_Style.ipynb to markdown\n",
      "[NbConvertApp] Support files will be in Camera_and_Style_files/\n",
      "[NbConvertApp] Making directory Camera_and_Style_files\n",
      "[NbConvertApp] Making directory Camera_and_Style_files\n",
      "[NbConvertApp] Making directory Camera_and_Style_files\n",
      "[NbConvertApp] Making directory Camera_and_Style_files\n",
      "[NbConvertApp] Making directory Camera_and_Style_files\n",
      "[NbConvertApp] Making directory Camera_and_Style_files\n",
      "[NbConvertApp] Making directory Camera_and_Style_files\n",
      "[NbConvertApp] Writing 5500 bytes to Camera_and_Style.md\n"
     ]
    },
    {
     "data": {
      "text/plain": [
       "{'Camera_and_Style_000_Background.png': 'self.camera.background_color = YELLOW',\n",
       " 'Camera_and_Style_001_ZoomIN.png': '# Scene needs to be \"class MyExample(ZoomedScene)\"\\nself.camera.frame.scale(0.6)',\n",
       " 'Camera_and_Style_002_ZoomOUT.png': '# Scene needs to be \"class MyExample(ZoomedScene)\"\\nself.camera.frame.scale(1.2)',\n",
       " 'Camera_and_Style_003_CameraLEFT.png': '# Scene needs to be \"class MyExample(ZoomedScene)\"\\nself.camera.frame.shift(LEFT*0.5)',\n",
       " 'Camera_and_Style_004_CameraUP.png': '# Scene needs to be \"class MyExample(ZoomedScene)\"\\nself.camera.frame.shift(UP*0.4)',\n",
       " 'Camera_and_Style_005_FullScreenRectangle.png': 'mob = FullScreenRectangle(stroke_width=200, color= YELLOW)',\n",
       " 'Camera_and_Style_006_SurroundingRectangle.png': 'inner = Tex(r\"\\\\textbf{Hello}\", color=WHITE)\\nmob = SurroundingRectangle(inner, corner_radius=0.1)'}"
      ]
     },
     "metadata": {},
     "output_type": "display_data"
    }
   ],
   "source": [
    "folder_name = file_name + \"_files\"\n",
    "notebook_name = file_name + \".ipynb\"\n",
    "markdown_name = file_name + \".md\"\n",
    "!rm -r $folder_name\n",
    "!jupyter nbconvert $notebook_name --to markdown\n",
    "!rm -r $markdown_name\n",
    "base_directory = Path.cwd() / folder_name\n",
    "target_directory = Path.cwd() / \"imgs\"\n",
    "target_directory.mkdir(parents=True, exist_ok=True)\n",
    "\n",
    "prefix = file_name # delete files that where created in the past \n",
    "for file in target_directory.rglob(\"*\"):\n",
    "    if (prefix in file.name):\n",
    "        file.unlink() \n",
    "\n",
    "paths = sorted(Path(base_directory).iterdir(), key=os.path.getmtime)\n",
    "dest_names = list(name_snippet_pairs.keys())\n",
    "new_keys = []\n",
    "for num, (p,des) in enumerate(zip(paths,dest_names)):\n",
    "    to_path = target_directory /  f\"{file_name}_{num:03}_{des}\"   \n",
    "    shutil.copy(p,  to_path)\n",
    "    new_keys.append(to_path.name)\n",
    "    \n",
    "new_name_snippet_pairs ={} \n",
    "new_values = list(name_snippet_pairs.values())\n",
    "for key, value in zip(new_keys,new_values):\n",
    "    if value.startswith(\"\\n\"):\n",
    "        value = value[1:]\n",
    "    if value.endswith(\"\\n\"):\n",
    "        value = value[:-1]\n",
    "    new_name_snippet_pairs[key]=value\n",
    "with open(f'imgs/{file_name}.json', 'w') as fp:\n",
    "    json.dump(new_name_snippet_pairs, fp,indent=2)\n",
    "display(new_name_snippet_pairs)\n",
    "!rm -r $folder_name\n",
    "!git add ."
   ]
  },
  {
   "cell_type": "code",
   "execution_count": null,
   "id": "be8e4efe-ee83-4276-8861-58558890748b",
   "metadata": {},
   "outputs": [],
   "source": []
  },
  {
   "cell_type": "code",
   "execution_count": null,
   "id": "33084631-acd9-4c17-adca-4a54b3347c9e",
   "metadata": {},
   "outputs": [],
   "source": []
  }
 ],
 "metadata": {
  "interpreter": {
   "hash": "956ae1017c005de10cf980548dc93247cd70ec3257bcb31b6a6c2783ea7553f4"
  },
  "kernelspec": {
   "display_name": "Python 3",
   "language": "python",
   "name": "python3"
  },
  "language_info": {
   "codemirror_mode": {
    "name": "ipython",
    "version": 3
   },
   "file_extension": ".py",
   "mimetype": "text/x-python",
   "name": "python",
   "nbconvert_exporter": "python",
   "pygments_lexer": "ipython3",
   "version": "3.9.5"
  }
 },
 "nbformat": 4,
 "nbformat_minor": 5
}
