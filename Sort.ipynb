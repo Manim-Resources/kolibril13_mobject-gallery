{
 "cells": [
  {
   "cell_type": "code",
   "execution_count": 29,
   "id": "4fea4dc0-351b-4f9e-af97-74b553cd9515",
   "metadata": {},
   "outputs": [],
   "source": [
    "from manim import *\n",
    "from pathlib import Path\n",
    "import shutil\n",
    "import time\n",
    "import json\n",
    "import os \n",
    "params = \" -v WARNING -r 80,40 -s  --disable_caching Example\"\n",
    "params = f\" -v WARNING -r {80*4},{40*4} -s  --disable_caching Example\"\n",
    "\n",
    "name_snippet_pairs = {}"
   ]
  },
  {
   "cell_type": "code",
   "execution_count": 52,
   "id": "e6445052-3a22-4054-9111-23365a8335ee",
   "metadata": {},
   "outputs": [
    {
     "data": {
      "image/png": "[encoded data removed]",
      "text/plain": [
       "<IPython.core.display.Image object>"
      ]
     },
     "metadata": {},
     "output_type": "display_data"
    }
   ],
   "source": [
    "%%manim $params\n",
    "class Example(ZoomedScene):\n",
    "    def construct(self):\n",
    "        number_plane = NumberPlane(\n",
    "            x_range=[-10, 10, 1],\n",
    "            y_range=[-10, 10, 1],\n",
    "            stroke_width=100,\n",
    "            axis_config = {\n",
    "                \"stroke_color\": YELLOW,\n",
    "                \"stroke_width\": 20,\n",
    "            },\n",
    "            background_line_style={\n",
    "                \"stroke_color\": GREY,\n",
    "                \"stroke_width\": 15,\n",
    "                \"stroke_opacity\": 1\n",
    "            }\n",
    "        )\n",
    "        self.add(number_plane)\n",
    "        self.camera.frame.scale(1/2)\n",
    "###******       \n",
    "image_full_name = \"NumberPlane.png\"\n",
    "snippet =  r\"\"\"\n",
    "number_plane = NumberPlane(\n",
    "x_range=[-10, 10, 1],\n",
    "y_range=[-10, 10, 1],\n",
    "stroke_width=100,\n",
    "axis_config = {\n",
    "    \"stroke_color\": YELLOW,\n",
    "    \"stroke_width\": 20,\n",
    "},\n",
    "background_line_style={\n",
    "    \"stroke_color\": GREY,\n",
    "    \"stroke_width\": 15,\n",
    "    \"stroke_opacity\": 1\n",
    "}\n",
    ")\n",
    "self.add(number_plane)\n",
    "\"\"\"\n",
    "name_snippet_pairs[image_full_name] = snippet"
   ]
  },
  {
   "cell_type": "code",
   "execution_count": null,
   "id": "11f1a060-0e36-4fa5-b6dc-033ad2e7f968",
   "metadata": {},
   "outputs": [],
   "source": []
  }
 ],
 "metadata": {
  "kernelspec": {
   "display_name": "Python 3",
   "language": "python",
   "name": "python3"
  },
  "language_info": {
   "codemirror_mode": {
    "name": "ipython",
    "version": 3
   },
   "file_extension": ".py",
   "mimetype": "text/x-python",
   "name": "python",
   "nbconvert_exporter": "python",
   "pygments_lexer": "ipython3",
   "version": "3.9.5"
  }
 },
 "nbformat": 4,
 "nbformat_minor": 5
}
