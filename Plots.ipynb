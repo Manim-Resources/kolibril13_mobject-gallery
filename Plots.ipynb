{
 "cells": [
  {
   "cell_type": "code",
   "execution_count": 1,
   "id": "e4ba2c91-b12e-4d60-98e6-7e51046d5745",
   "metadata": {},
   "outputs": [
    {
     "data": {
      "text/html": [
       "<pre style=\"white-space:pre;overflow-x:auto;line-height:normal;font-family:Menlo,'DejaVu Sans Mono',consolas,'Courier New',monospace\">Manim Community <span style=\"color: #008000; text-decoration-color: #008000\">v0.10.0</span>\n",
       "\n",
       "</pre>\n"
      ],
      "text/plain": [
       "Manim Community \u001b[32mv0.\u001b[0m\u001b[32m10.0\u001b[0m\n",
       "\n"
      ]
     },
     "metadata": {},
     "output_type": "display_data"
    }
   ],
   "source": [
    "from manim import *\n",
    "from pathlib import Path\n",
    "import shutil\n",
    "import time\n",
    "import json\n",
    "import os\n",
    "\n",
    "params = \" -v WARNING -r 170,170 -s  --disable_caching Example\"\n",
    "    \n",
    "name_snippet_pairs = {}"
   ]
  },
  {
   "cell_type": "code",
   "execution_count": 2,
   "id": "3ff7dd56-da1e-4dce-8590-728accb4f09b",
   "metadata": {},
   "outputs": [
    {
     "data": {
      "image/png": "[encoded data removed]",
      "text/plain": [
       "<IPython.core.display.Image object>"
      ]
     },
     "metadata": {},
     "output_type": "display_data"
    }
   ],
   "source": [
    "%%manim $params\n",
    "class Example(ZoomedScene):\n",
    "    def construct(self):\n",
    "        ax = Axes(x_range=[-1, 10], y_range=[-1, 10], x_length=3, y_length=3)\n",
    "        labels = ax.get_axis_labels(\n",
    "            Text(\"x-axis\"), Text(\"y-axis\")\n",
    "        )\n",
    "        self.add(ax, labels)\n",
    "        VGroup(ax,labels).scale(0.2).move_to(ORIGIN)\n",
    "        self.camera.frame.scale(1/10)\n",
    "\n",
    "\n",
    "###******        \n",
    "image_full_name = \"Axes_x_y_range.png\"\n",
    "snippet = r\"\"\"\n",
    "ax = Axes(x_range=[-1, 10], y_range=[-1, 10], x_length=3, y_length=3)\n",
    "labels = ax.get_axis_labels(\n",
    "    Text(\"x-axis\"), Text(\"y-axis\")\n",
    ")\n",
    "\"\"\"\n",
    "name_snippet_pairs[image_full_name] = snippet"
   ]
  },
  {
   "cell_type": "code",
   "execution_count": 3,
   "id": "0fd61567-423c-4c00-a242-1ab6c8dd9787",
   "metadata": {},
   "outputs": [
    {
     "data": {
      "image/png": "[encoded data removed]",
      "text/plain": [
       "<IPython.core.display.Image object>"
      ]
     },
     "metadata": {},
     "output_type": "display_data"
    }
   ],
   "source": [
    "%%manim $params\n",
    "class Example(ZoomedScene):\n",
    "    def construct(self):\n",
    "        axes  =Axes(x_range=[-8,9,2], y_range=[-6,7,2], x_length=4, y_length=4,\n",
    "                    axis_config={\"include_numbers\":True,\"numbers_to_exclude\":[0]},\n",
    "                    x_axis_config={\"color\":PINK}, y_axis_config={\"color\":ORANGE})\n",
    "        axes_label = axes.get_axis_labels(x_label=\"x\", y_label=\"y\")\n",
    "        graph = axes.get_graph(lambda x: np.e**x,x_range=[-8,2], color= GREEN_E)\n",
    "        graph_label = axes.get_graph_label(graph, label=\"e^x\", color=YELLOW)\n",
    "        self.add(axes,graph, graph_label,axes_label)\n",
    "        self.camera.frame.scale(1/2.5)\n",
    "\n",
    "\n",
    "\n",
    "###******        \n",
    "image_full_name = \"Axes_e_x.png\"\n",
    "snippet = r\"\"\"\n",
    "axes  =Axes(x_range=[-8,9,2], y_range=[-6,7,2], x_length=4, y_length=4,\n",
    "            axis_config={\"include_numbers\":True,\"numbers_to_exclude\":[0]},\n",
    "            x_axis_config={\"color\":PINK}, y_axis_config={\"color\":ORANGE})\n",
    "axes_label = axes.get_axis_labels(x_label=\"x\", y_label=\"y\")\n",
    "graph = axes.get_graph(lambda x: np.e**x,x_range=[-8,2], color= GREEN_E)\n",
    "graph_label = axes.get_graph_label(graph, label=\"e^x\", color=YELLOW)\n",
    "\"\"\"\n",
    "name_snippet_pairs[image_full_name] = snippet"
   ]
  },
  {
   "cell_type": "code",
   "execution_count": 4,
   "id": "35509390-2b98-45e7-885e-f7d0a9700b49",
   "metadata": {},
   "outputs": [
    {
     "data": {
      "image/png": "[encoded data removed]",
      "text/plain": [
       "<IPython.core.display.Image object>"
      ]
     },
     "metadata": {},
     "output_type": "display_data"
    }
   ],
   "source": [
    "%%manim $params\n",
    "class Example(ZoomedScene):\n",
    "    def construct(self):\n",
    "        number_plane = NumberPlane(\n",
    "            x_range=[-10, 10, 1],\n",
    "            y_range=[-10, 10, 1],\n",
    "            background_line_style={\n",
    "                \"stroke_color\": TEAL,\n",
    "                \"stroke_width\": 4,\n",
    "                \"stroke_opacity\": 0.6\n",
    "            }\n",
    "        )\n",
    "        self.add(number_plane)\n",
    "        self.camera.frame.scale(1/2)\n",
    "###******       \n",
    "image_full_name = \"NumberPlane.png\"\n",
    "snippet =  r\"\"\"\n",
    "number_plane = NumberPlane(\n",
    "            x_range=[-10, 10, 1],\n",
    "            y_range=[-10, 10, 1],\n",
    "            background_line_style={\n",
    "                \"stroke_color\": TEAL,\n",
    "                \"stroke_width\": 4,\n",
    "                \"stroke_opacity\": 0.6\n",
    "            }\n",
    "        )\n",
    "\"\"\"\n",
    "name_snippet_pairs[image_full_name] = snippet"
   ]
  },
  {
   "cell_type": "code",
   "execution_count": 5,
   "id": "9fe21ed2-4d17-4d2a-979a-d8de5af532b0",
   "metadata": {},
   "outputs": [
    {
     "data": {
      "text/html": [
       "<pre style=\"white-space:pre;overflow-x:auto;line-height:normal;font-family:Menlo,'DejaVu Sans Mono',consolas,'Courier New',monospace\"><span style=\"color: #7fbfbf; text-decoration-color: #7fbfbf\">[09/18/21 15:45:19] </span><span style=\"color: #800000; text-decoration-color: #800000\">WARNING </span> The method CoordinateSystem.get_center_point  <a href=\"file:///Users/jan-hendrik/projects/manim/manim/utils/deprecation.py\"><span style=\"color: #7f7f7f; text-decoration-color: #7f7f7f\">deprecation.py</span></a><span style=\"color: #7f7f7f; text-decoration-color: #7f7f7f\">:210</span>\n",
       "                             has been deprecated since v0.<span style=\"color: #008000; text-decoration-color: #008000\">10.0</span> and is                        \n",
       "                             expected to be removed after v0.<span style=\"color: #008000; text-decoration-color: #008000\">11.0</span>. Use                       \n",
       "                             get_origin instead.                                             \n",
       "</pre>\n"
      ],
      "text/plain": [
       "\u001b[2;36m[09/18/21 15:45:19]\u001b[0m\u001b[2;36m \u001b[0m\u001b[31mWARNING \u001b[0m The method CoordinateSystem.get_center_point  \u001b]8;id=1631972719.145016-831887;file:///Users/jan-hendrik/projects/manim/manim/utils/deprecation.py\u001b\\\u001b[2mdeprecation.py\u001b[0m\u001b]8;;\u001b\\\u001b[2m:210\u001b[0m\n",
       "                             has been deprecated since v0.\u001b[32m10.0\u001b[0m and is                        \n",
       "                             expected to be removed after v0.\u001b[32m11.0\u001b[0m. Use                       \n",
       "                             get_origin instead.                                             \n"
      ]
     },
     "metadata": {},
     "output_type": "display_data"
    },
    {
     "data": {
      "image/png": "[encoded data removed]",
      "text/plain": [
       "<IPython.core.display.Image object>"
      ]
     },
     "metadata": {},
     "output_type": "display_data"
    }
   ],
   "source": [
    "%%manim $params\n",
    "class Example(ZoomedScene):\n",
    "    def construct(self):\n",
    "        polarplane_pi = PolarPlane(\n",
    "            azimuth_units=\"PI radians\",\n",
    "            size=6,\n",
    "            azimuth_label_font_size=33.6,\n",
    "            radius_config={\"font_size\": 33.6},\n",
    "        ).add_coordinates()\n",
    "        self.add(polarplane_pi)\n",
    "        self.camera.frame.scale(1/2)\n",
    "###******       \n",
    "image_full_name = \"PolarPlane.png\"\n",
    "snippet =  r\"\"\"\n",
    "polarplane_pi = PolarPlane(\n",
    "            azimuth_units=\"PI radians\",\n",
    "            size=6,\n",
    "            azimuth_label_font_size=33.6,\n",
    "            radius_config={\"font_size\": 33.6},\n",
    "        ).add_coordinates()\n",
    "\"\"\"\n",
    "name_snippet_pairs[image_full_name] = snippet"
   ]
  },
  {
   "cell_type": "code",
   "execution_count": 6,
   "id": "651c7d5e-2fc7-4672-aa57-5cc38452cced",
   "metadata": {},
   "outputs": [
    {
     "data": {
      "image/png": "[encoded data removed]",
      "text/plain": [
       "<IPython.core.display.Image object>"
      ]
     },
     "metadata": {},
     "output_type": "display_data"
    }
   ],
   "source": [
    "%%manim $params\n",
    "class Example(ZoomedScene):\n",
    "    def construct(self):\n",
    "        vertices = [1, 2, 3, 4, 5, 6, 7, 8]\n",
    "        edges = [(1, 7), (1, 8), (2, 3), (2, 4), (2, 5),\n",
    "                 (2, 8), (3, 4), (6, 1), (6, 2),\n",
    "                 (6, 3), (7, 2), (7, 4)]\n",
    "        g = Graph(vertices, edges, layout=\"circular\", layout_scale=3,\n",
    "                  labels=True, vertex_config={7: {\"fill_color\": RED}},\n",
    "                  edge_config={(1, 7): {\"stroke_color\": RED},\n",
    "                               (2, 7): {\"stroke_color\": RED},\n",
    "                               (4, 7): {\"stroke_color\": RED}})\n",
    "        self.add(g)\n",
    "        self.camera.frame.scale(1/2)\n",
    "###******       \n",
    "image_full_name = \"Graph_with_Number.png\"\n",
    "snippet = r\"\"\"\n",
    "vertices = [1, 2, 3, 4, 5, 6, 7, 8]\n",
    "edges = [(1, 7), (1, 8), (2, 3), (2, 4), (2, 5),\n",
    "         (2, 8), (3, 4), (6, 1), (6, 2),\n",
    "         (6, 3), (7, 2), (7, 4)]\n",
    "g = Graph(vertices, edges, layout=\"circular\", layout_scale=3,\n",
    "          labels=True, vertex_config={7: {\"fill_color\": RED}},\n",
    "          edge_config={(1, 7): {\"stroke_color\": RED},\n",
    "                       (2, 7): {\"stroke_color\": RED},\n",
    "                       (4, 7): {\"stroke_color\": RED}})\n",
    "\"\"\"\n",
    "name_snippet_pairs[image_full_name] = snippet"
   ]
  },
  {
   "cell_type": "markdown",
   "id": "7150aa82-899b-49cd-bcad-344ef8bb3e9c",
   "metadata": {},
   "source": [
    "# Save here!"
   ]
  },
  {
   "cell_type": "code",
   "execution_count": 7,
   "id": "53529e00-0617-4ce7-bdbb-fe76d8ae6ad4",
   "metadata": {},
   "outputs": [],
   "source": [
    "#pip install ipylab\n",
    "from ipylab import JupyterFrontEnd\n",
    "\n",
    "app = JupyterFrontEnd()\n",
    "app.commands.execute('docmanager:save')"
   ]
  },
  {
   "cell_type": "code",
   "execution_count": 8,
   "id": "a0a9f13e-13ec-4a03-b5ad-981fcd535dac",
   "metadata": {},
   "outputs": [],
   "source": [
    "file_name = \"Plots\""
   ]
  },
  {
   "cell_type": "code",
   "execution_count": 9,
   "id": "312f4676-113b-464d-b7d5-03e0c7ca3c93",
   "metadata": {},
   "outputs": [
    {
     "name": "stdout",
     "output_type": "stream",
     "text": [
      "rm: Plots_files: No such file or directory\n",
      "[NbConvertApp] Converting notebook Plots.ipynb to markdown\n",
      "[NbConvertApp] Support files will be in Plots_files/\n",
      "[NbConvertApp] Making directory Plots_files\n",
      "[NbConvertApp] Making directory Plots_files\n",
      "[NbConvertApp] Making directory Plots_files\n",
      "[NbConvertApp] Making directory Plots_files\n",
      "[NbConvertApp] Making directory Plots_files\n",
      "[NbConvertApp] Writing 7720 bytes to Plots.md\n"
     ]
    },
    {
     "data": {
      "text/plain": [
       "{'Plots_000_Axes_x_y_range.png': 'ax = Axes(x_range=[-1, 10], y_range=[-1, 10], x_length=3, y_length=3)\\nlabels = ax.get_axis_labels(\\n    Text(\"x-axis\"), Text(\"y-axis\")\\n)',\n",
       " 'Plots_001_Axes_e_x.png': 'axes  =Axes(x_range=[-8,9,2], y_range=[-6,7,2], x_length=4, y_length=4,\\n            axis_config={\"include_numbers\":True,\"numbers_to_exclude\":[0]},\\n            x_axis_config={\"color\":PINK}, y_axis_config={\"color\":ORANGE})\\naxes_label = axes.get_axis_labels(x_label=\"x\", y_label=\"y\")\\ngraph = axes.get_graph(lambda x: np.e**x,x_range=[-8,2], color= GREEN_E)\\ngraph_label = axes.get_graph_label(graph, label=\"e^x\", color=YELLOW)',\n",
       " 'Plots_002_NumberPlane.png': 'number_plane = NumberPlane(\\n            x_range=[-10, 10, 1],\\n            y_range=[-10, 10, 1],\\n            background_line_style={\\n                \"stroke_color\": TEAL,\\n                \"stroke_width\": 4,\\n                \"stroke_opacity\": 0.6\\n            }\\n        )',\n",
       " 'Plots_003_PolarPlane.png': 'polarplane_pi = PolarPlane(\\n            azimuth_units=\"PI radians\",\\n            size=6,\\n            azimuth_label_font_size=33.6,\\n            radius_config={\"font_size\": 33.6},\\n        ).add_coordinates()',\n",
       " 'Plots_004_Graph_with_Number.png': 'vertices = [1, 2, 3, 4, 5, 6, 7, 8]\\nedges = [(1, 7), (1, 8), (2, 3), (2, 4), (2, 5),\\n         (2, 8), (3, 4), (6, 1), (6, 2),\\n         (6, 3), (7, 2), (7, 4)]\\ng = Graph(vertices, edges, layout=\"circular\", layout_scale=3,\\n          labels=True, vertex_config={7: {\"fill_color\": RED}},\\n          edge_config={(1, 7): {\"stroke_color\": RED},\\n                       (2, 7): {\"stroke_color\": RED},\\n                       (4, 7): {\"stroke_color\": RED}})'}"
      ]
     },
     "metadata": {},
     "output_type": "display_data"
    }
   ],
   "source": [
    "folder_name = file_name + \"_files\"\n",
    "notebook_name = file_name + \".ipynb\"\n",
    "markdown_name = file_name + \".md\"\n",
    "!rm -r $folder_name\n",
    "!jupyter nbconvert $notebook_name --to markdown\n",
    "!rm -r $markdown_name\n",
    "base_directory = Path.cwd() / folder_name\n",
    "target_directory = Path.cwd() / \"imgs\"\n",
    "target_directory.mkdir(parents=True, exist_ok=True)\n",
    "\n",
    "prefix = file_name # delete files that where created in the past \n",
    "for file in target_directory.rglob(\"*\"):\n",
    "    if (prefix in file.name):\n",
    "        file.unlink() \n",
    "\n",
    "paths = sorted(Path(base_directory).iterdir(), key=os.path.getmtime)\n",
    "dest_names = list(name_snippet_pairs.keys())\n",
    "new_keys = []\n",
    "for num, (p,des) in enumerate(zip(paths,dest_names)):\n",
    "    to_path = target_directory /  f\"{file_name}_{num:03}_{des}\"   \n",
    "    shutil.copy(p,  to_path)\n",
    "    new_keys.append(to_path.name)\n",
    "    \n",
    "new_name_snippet_pairs ={} \n",
    "new_values = list(name_snippet_pairs.values())\n",
    "for key, value in zip(new_keys,new_values):\n",
    "    if value.startswith(\"\\n\"):\n",
    "        value = value[1:]\n",
    "    if value.endswith(\"\\n\"):\n",
    "        value = value[:-1]\n",
    "    new_name_snippet_pairs[key]=value\n",
    "with open(f'imgs/{file_name}.json', 'w') as fp:\n",
    "    json.dump(new_name_snippet_pairs, fp,indent=2)\n",
    "display(new_name_snippet_pairs)\n",
    "!rm -r $folder_name\n",
    "!git add ."
   ]
  },
  {
   "cell_type": "code",
   "execution_count": null,
   "id": "be8e4efe-ee83-4276-8861-58558890748b",
   "metadata": {},
   "outputs": [],
   "source": []
  },
  {
   "cell_type": "code",
   "execution_count": null,
   "id": "9fcb9430-2861-4513-be77-0e5d54916bfe",
   "metadata": {},
   "outputs": [],
   "source": []
  }
 ],
 "metadata": {
  "interpreter": {
   "hash": "956ae1017c005de10cf980548dc93247cd70ec3257bcb31b6a6c2783ea7553f4"
  },
  "kernelspec": {
   "display_name": "Python 3",
   "language": "python",
   "name": "python3"
  },
  "language_info": {
   "codemirror_mode": {
    "name": "ipython",
    "version": 3
   },
   "file_extension": ".py",
   "mimetype": "text/x-python",
   "name": "python",
   "nbconvert_exporter": "python",
   "pygments_lexer": "ipython3",
   "version": "3.9.5"
  }
 },
 "nbformat": 4,
 "nbformat_minor": 5
}
