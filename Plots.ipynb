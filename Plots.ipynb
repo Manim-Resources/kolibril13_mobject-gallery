{
 "cells": [
  {
   "cell_type": "code",
   "execution_count": 7,
   "id": "e4ba2c91-b12e-4d60-98e6-7e51046d5745",
   "metadata": {},
   "outputs": [],
   "source": [
    "from manim import *\n",
    "from pathlib import Path\n",
    "import shutil\n",
    "import time\n",
    "import json\n",
    "import os\n",
    "\n",
    "params = \" -v WARNING -r 200,200 -s  --disable_caching Example\"\n",
    "    \n",
    "name_snippet_pairs = {}"
   ]
  },
  {
   "cell_type": "code",
   "execution_count": 9,
   "id": "0fd61567-423c-4c00-a242-1ab6c8dd9787",
   "metadata": {},
   "outputs": [
    {
     "data": {
      "text/html": [
       "<pre style=\"white-space:pre;overflow-x:auto;line-height:normal;font-family:Menlo,'DejaVu Sans Mono',consolas,'Courier New',monospace\"><span style=\"color: #7fbfbf; text-decoration-color: #7fbfbf\">[09/18/21 14:14:15] </span><span style=\"color: #800000; text-decoration-color: #800000\">WARNING </span> The parameter number_scale_value of method    <a href=\"file:///Users/jan-hendrik/projects/manim/manim/utils/deprecation.py\"><span style=\"color: #7f7f7f; text-decoration-color: #7f7f7f\">deprecation.py</span></a><span style=\"color: #7f7f7f; text-decoration-color: #7f7f7f\">:464</span>\n",
       "                             NumberLine.__init__ has been deprecated since                   \n",
       "                             v0.<span style=\"color: #008000; text-decoration-color: #008000\">10.0</span> and is expected to be removed after                     \n",
       "                             v0.<span style=\"color: #008000; text-decoration-color: #008000\">11.0</span>. Use font_size instead.  To convert                     \n",
       "                             old scale factors to font size, multiply by                     \n",
       "                             <span style=\"color: #008000; text-decoration-color: #008000\">48</span>.                                                             \n",
       "</pre>\n"
      ],
      "text/plain": [
       "\u001b[2;36m[09/18/21 14:14:15]\u001b[0m\u001b[2;36m \u001b[0m\u001b[31mWARNING \u001b[0m The parameter number_scale_value of method    \u001b]8;id=1631967255.999176-901391;file:///Users/jan-hendrik/projects/manim/manim/utils/deprecation.py\u001b\\\u001b[2mdeprecation.py\u001b[0m\u001b]8;;\u001b\\\u001b[2m:464\u001b[0m\n",
       "                             NumberLine.__init__ has been deprecated since                   \n",
       "                             v0.\u001b[32m10.0\u001b[0m and is expected to be removed after                     \n",
       "                             v0.\u001b[32m11.0\u001b[0m. Use font_size instead.  To convert                     \n",
       "                             old scale factors to font size, multiply by                     \n",
       "                             \u001b[32m48\u001b[0m.                                                             \n"
      ]
     },
     "metadata": {},
     "output_type": "display_data"
    },
    {
     "data": {
      "text/html": [
       "<pre style=\"white-space:pre;overflow-x:auto;line-height:normal;font-family:Menlo,'DejaVu Sans Mono',consolas,'Courier New',monospace\"><span style=\"color: #7fbfbf; text-decoration-color: #7fbfbf\">[09/18/21 14:14:16] </span><span style=\"color: #800000; text-decoration-color: #800000\">WARNING </span> The parameter number_scale_value of method    <a href=\"file:///Users/jan-hendrik/projects/manim/manim/utils/deprecation.py\"><span style=\"color: #7f7f7f; text-decoration-color: #7f7f7f\">deprecation.py</span></a><span style=\"color: #7f7f7f; text-decoration-color: #7f7f7f\">:464</span>\n",
       "                             NumberLine.__init__ has been deprecated since                   \n",
       "                             v0.<span style=\"color: #008000; text-decoration-color: #008000\">10.0</span> and is expected to be removed after                     \n",
       "                             v0.<span style=\"color: #008000; text-decoration-color: #008000\">11.0</span>. Use font_size instead.  To convert                     \n",
       "                             old scale factors to font size, multiply by                     \n",
       "                             <span style=\"color: #008000; text-decoration-color: #008000\">48</span>.                                                             \n",
       "</pre>\n"
      ],
      "text/plain": [
       "\u001b[2;36m[09/18/21 14:14:16]\u001b[0m\u001b[2;36m \u001b[0m\u001b[31mWARNING \u001b[0m The parameter number_scale_value of method    \u001b]8;id=1631967256.0469398-380554;file:///Users/jan-hendrik/projects/manim/manim/utils/deprecation.py\u001b\\\u001b[2mdeprecation.py\u001b[0m\u001b]8;;\u001b\\\u001b[2m:464\u001b[0m\n",
       "                             NumberLine.__init__ has been deprecated since                   \n",
       "                             v0.\u001b[32m10.0\u001b[0m and is expected to be removed after                     \n",
       "                             v0.\u001b[32m11.0\u001b[0m. Use font_size instead.  To convert                     \n",
       "                             old scale factors to font size, multiply by                     \n",
       "                             \u001b[32m48\u001b[0m.                                                             \n"
      ]
     },
     "metadata": {},
     "output_type": "display_data"
    },
    {
     "data": {
      "image/png": "[encoded data removed]",
      "text/plain": [
       "<IPython.core.display.Image object>"
      ]
     },
     "metadata": {},
     "output_type": "display_data"
    }
   ],
   "source": [
    "%%manim $params\n",
    "class Example(ZoomedScene):\n",
    "    def construct(self):\n",
    "        axes  =Axes(x_range=[-8,9,1], y_range=[-6,7,1], x_length=8, y_length=6,\n",
    "                    axis_config={\"include_numbers\":True,\"numbers_to_exclude\":[0], \"number_scale_value\":0.5},\n",
    "                    x_axis_config={\"color\":PINK}, y_axis_config={\"color\":ORANGE})\n",
    "        #Argumets passed under axis_config above format the Numberlines acting as axes\n",
    "        # x_axis_config and y_axis_config can be set up to format two axes differently\n",
    "        self.add(axes)\n",
    "        axes_label = axes.get_axis_labels(x_label=\"x\", y_label=\"y\")\n",
    "        graph = axes.get_graph(lambda x: np.e**x,x_range=[-8,2], color= GREEN_E)\n",
    "        graph_label = axes.get_graph_label(graph, label=\"e^x\", color=YELLOW)\n",
    "       \n",
    "        self.add(graph, graph_label,axes_label)\n",
    "        self.camera.frame.scale(1/2)\n",
    "\n",
    "\n",
    "###******        \n",
    "image_full_name = \"AxesXX.png\"\n",
    "snippet = 'mob = Ass(\"Hello\", color=WHITE)'\n",
    "name_snippet_pairs[image_full_name] = snippet"
   ]
  },
  {
   "cell_type": "code",
   "execution_count": 10,
   "id": "83dea982-bd01-4677-8f52-c0c0cc03b294",
   "metadata": {},
   "outputs": [
    {
     "data": {
      "image/png": "[encoded data removed]",
      "text/plain": [
       "<IPython.core.display.Image object>"
      ]
     },
     "metadata": {},
     "output_type": "display_data"
    }
   ],
   "source": [
    "%%manim $params\n",
    "class Example(ZoomedScene):\n",
    "    def construct(self):\n",
    "        mob = Text(\"World\", color=YELLOW,slant=ITALIC)\n",
    "        self.add(mob)\n",
    "        self.camera.frame.scale(1/8)\n",
    "###******       \n",
    "image_full_name = \"XXX.png\"\n",
    "snippet = 'mob = XXX(\"World\", color=YELLOW,slant=ITALIC)'\n",
    "name_snippet_pairs[image_full_name] = snippet"
   ]
  },
  {
   "cell_type": "markdown",
   "id": "7150aa82-899b-49cd-bcad-344ef8bb3e9c",
   "metadata": {},
   "source": [
    "# Save here!"
   ]
  },
  {
   "cell_type": "code",
   "execution_count": 11,
   "id": "53529e00-0617-4ce7-bdbb-fe76d8ae6ad4",
   "metadata": {},
   "outputs": [],
   "source": [
    "#pip install ipylab\n",
    "from ipylab import JupyterFrontEnd\n",
    "\n",
    "app = JupyterFrontEnd()\n",
    "app.commands.execute('docmanager:save')"
   ]
  },
  {
   "cell_type": "code",
   "execution_count": 12,
   "id": "a0a9f13e-13ec-4a03-b5ad-981fcd535dac",
   "metadata": {},
   "outputs": [],
   "source": [
    "file_name = \"Plots\""
   ]
  },
  {
   "cell_type": "code",
   "execution_count": 13,
   "id": "312f4676-113b-464d-b7d5-03e0c7ca3c93",
   "metadata": {},
   "outputs": [
    {
     "name": "stdout",
     "output_type": "stream",
     "text": [
      "rm: Plots_files: No such file or directory\n",
      "[NbConvertApp] Converting notebook Plots.ipynb to markdown\n",
      "[NbConvertApp] Support files will be in Plots_files/\n",
      "[NbConvertApp] Making directory Plots_files\n",
      "[NbConvertApp] Making directory Plots_files\n",
      "[NbConvertApp] Writing 6994 bytes to Plots.md\n"
     ]
    },
    {
     "data": {
      "text/plain": [
       "{'Plots_000_AxesXX.png': 'mob = Ass(\"Hello\", color=WHITE)',\n",
       " 'Plots_001_XXX.png': 'mob = XXX(\"World\", color=YELLOW,slant=ITALIC)'}"
      ]
     },
     "metadata": {},
     "output_type": "display_data"
    }
   ],
   "source": [
    "folder_name = file_name + \"_files\"\n",
    "notebook_name = file_name + \".ipynb\"\n",
    "markdown_name = file_name + \".md\"\n",
    "!rm -r $folder_name\n",
    "!jupyter nbconvert $notebook_name --to markdown\n",
    "!rm -r $markdown_name\n",
    "base_directory = Path.cwd() / folder_name\n",
    "target_directory = Path.cwd() / \"imgs\"\n",
    "target_directory.mkdir(parents=True, exist_ok=True)\n",
    "\n",
    "prefix = file_name # delete files that where created in the past \n",
    "for file in target_directory.rglob(\"*\"):\n",
    "    if (prefix in file.name):\n",
    "        file.unlink() \n",
    "\n",
    "paths = sorted(Path(base_directory).iterdir(), key=os.path.getmtime)\n",
    "dest_names = list(name_snippet_pairs.keys())\n",
    "new_keys = []\n",
    "for num, (p,des) in enumerate(zip(paths,dest_names)):\n",
    "    to_path = target_directory /  f\"{file_name}_{num:03}_{des}\"   \n",
    "    shutil.copy(p,  to_path)\n",
    "    new_keys.append(to_path.name)\n",
    "    \n",
    "new_name_snippet_pairs ={} \n",
    "new_values = list(name_snippet_pairs.values())\n",
    "for key, value in zip(new_keys,new_values):\n",
    "    if value.startswith(\"\\n\"):\n",
    "        value = value[1:]\n",
    "    if value.endswith(\"\\n\"):\n",
    "        value = value[:-1]\n",
    "    new_name_snippet_pairs[key]=value\n",
    "with open(f'imgs/{file_name}.json', 'w') as fp:\n",
    "    json.dump(new_name_snippet_pairs, fp,indent=2)\n",
    "display(new_name_snippet_pairs)\n",
    "!rm -r $folder_name\n",
    "!git add ."
   ]
  },
  {
   "cell_type": "code",
   "execution_count": null,
   "id": "be8e4efe-ee83-4276-8861-58558890748b",
   "metadata": {},
   "outputs": [],
   "source": []
  }
 ],
 "metadata": {
  "interpreter": {
   "hash": "956ae1017c005de10cf980548dc93247cd70ec3257bcb31b6a6c2783ea7553f4"
  },
  "kernelspec": {
   "display_name": "Python 3",
   "language": "python",
   "name": "python3"
  },
  "language_info": {
   "codemirror_mode": {
    "name": "ipython",
    "version": 3
   },
   "file_extension": ".py",
   "mimetype": "text/x-python",
   "name": "python",
   "nbconvert_exporter": "python",
   "pygments_lexer": "ipython3",
   "version": "3.9.5"
  }
 },
 "nbformat": 4,
 "nbformat_minor": 5
}
