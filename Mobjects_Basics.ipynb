{
 "cells": [
  {
   "cell_type": "code",
   "execution_count": 1,
   "id": "e4ba2c91-b12e-4d60-98e6-7e51046d5745",
   "metadata": {},
   "outputs": [
    {
     "data": {
      "text/html": [
       "<pre style=\"white-space:pre;overflow-x:auto;line-height:normal;font-family:Menlo,'DejaVu Sans Mono',consolas,'Courier New',monospace\">Manim Community <span style=\"color: #008000; text-decoration-color: #008000\">v0.10.0</span>\n",
       "\n",
       "</pre>\n"
      ],
      "text/plain": [
       "Manim Community \u001b[32mv0.\u001b[0m\u001b[32m10.0\u001b[0m\n",
       "\n"
      ]
     },
     "metadata": {},
     "output_type": "display_data"
    }
   ],
   "source": [
    "from manim import *\n",
    "from pathlib import Path\n",
    "import shutil\n",
    "import time\n",
    "import json\n",
    "import os \n",
    "params = \" -v WARNING -r 80,40 -s  --disable_caching Example\"\n",
    "params = f\" -v WARNING -r {80*4},{40*4} -s  --disable_caching Example\"\n",
    "\n",
    "name_snippet_pairs = {}"
   ]
  },
  {
   "cell_type": "code",
   "execution_count": 2,
   "id": "3d228c15",
   "metadata": {},
   "outputs": [
    {
     "data": {
      "image/png": "[encoded data removed]",
      "text/plain": [
       "<IPython.core.display.Image object>"
      ]
     },
     "metadata": {},
     "output_type": "display_data"
    }
   ],
   "source": [
    "%%manim $params\n",
    "class Example(ZoomedScene):\n",
    "    def construct(self):\n",
    "        d = Dot(color = YELLOW)\n",
    "        self.add(d)\n",
    "        self.camera.frame.scale(1/20)\n",
    "###******        \n",
    "image_full_name = \"Dot.png\"\n",
    "snippet = \"d = Dot(color = YELLOW)\"\n",
    "name_snippet_pairs[image_full_name] = snippet"
   ]
  },
  {
   "cell_type": "code",
   "execution_count": 3,
   "id": "ad594e35",
   "metadata": {},
   "outputs": [
    {
     "data": {
      "image/png": "[encoded data removed]",
      "text/plain": [
       "<IPython.core.display.Image object>"
      ]
     },
     "metadata": {},
     "output_type": "display_data"
    }
   ],
   "source": [
    "%%manim $params\n",
    "class Example(ZoomedScene):\n",
    "    def construct(self):\n",
    "        mob = Circle(fill_opacity=1, fill_color= ORANGE, stroke_color=YELLOW)\n",
    "        self.add(mob)\n",
    "        mob.scale(0.1)\n",
    "        self.camera.frame.scale(1/25)\n",
    "###******        \n",
    "image_full_name = \"Circle.png\"\n",
    "snippet = \"mob = Circle(fill_opacity=1, fill_color= ORANGE, stroke_color=YELLOW)\"\n",
    "name_snippet_pairs[image_full_name] = snippet"
   ]
  },
  {
   "cell_type": "code",
   "execution_count": 4,
   "id": "018cfefa-c0ba-4888-81f1-664cc46117dd",
   "metadata": {},
   "outputs": [
    {
     "data": {
      "image/png": "[encoded data removed]",
      "text/plain": [
       "<IPython.core.display.Image object>"
      ]
     },
     "metadata": {},
     "output_type": "display_data"
    }
   ],
   "source": [
    "%%manim $params\n",
    "class Example(ZoomedScene):\n",
    "    def construct(self):\n",
    "        mob = Annulus(inner_radius=0.5, outer_radius=1.2,fill_color= DARK_BLUE, stroke_color=YELLOW, stroke_width=2)\n",
    "        self.add(mob)\n",
    "        mob.scale(0.1)\n",
    "        self.camera.frame.scale(1/25)\n",
    "\n",
    "###******        \n",
    "image_full_name = \"Annulus.png\"\n",
    "snippet = \"mob = Annulus(inner_radius=0.5, outer_radius=1.2,fill_color= DARK_BLUE, stroke_color=YELLOW, stroke_width=2)\"\n",
    "name_snippet_pairs[image_full_name] = snippet"
   ]
  },
  {
   "cell_type": "code",
   "execution_count": 5,
   "id": "cd2434de-f766-4d7d-9aee-af607580a62b",
   "metadata": {},
   "outputs": [
    {
     "data": {
      "image/png": "[encoded data removed]",
      "text/plain": [
       "<IPython.core.display.Image object>"
      ]
     },
     "metadata": {},
     "output_type": "display_data"
    }
   ],
   "source": [
    "%%manim $params\n",
    "class Example(ZoomedScene):\n",
    "    def construct(self):\n",
    "        mob= Ellipse(color= YELLOW)\n",
    "        mob.move_to(ORIGIN)\n",
    "        self.add(mob)\n",
    "        mob.scale(0.1)\n",
    "        self.camera.frame.scale(1/25)\n",
    "###******        \n",
    "image_full_name = \"Ellipse.png\"\n",
    "snippet = \"mob = Ellipse(color = YELLOW)\"\n",
    "name_snippet_pairs[image_full_name] = snippet"
   ]
  },
  {
   "cell_type": "code",
   "execution_count": 6,
   "id": "4e833fa8-c565-451e-8642-5a91fbf678bb",
   "metadata": {},
   "outputs": [
    {
     "data": {
      "image/png": "[encoded data removed]",
      "text/plain": [
       "<IPython.core.display.Image object>"
      ]
     },
     "metadata": {},
     "output_type": "display_data"
    }
   ],
   "source": [
    "%%manim $params\n",
    "class Example(ZoomedScene):\n",
    "    def construct(self):\n",
    "        mob = Sector(inner_radius=0.5, outer_radius=1.2,fill_color= DARK_BLUE, stroke_color=YELLOW, stroke_width=2)\n",
    "        self.add(mob)\n",
    "        mob.move_to(ORIGIN+UR*0.05)\n",
    "        mob.scale(0.1)\n",
    "        self.camera.frame.scale(1/25)\n",
    "\n",
    "###******        \n",
    "image_full_name = \"Sector.png\"\n",
    "snippet = \"mob = Sector(inner_radius=0.5, outer_radius=1.2,fill_color= DARK_BLUE, stroke_color=YELLOW, stroke_width=2)\"\n",
    "name_snippet_pairs[image_full_name] = snippet"
   ]
  },
  {
   "cell_type": "code",
   "execution_count": 7,
   "id": "ce890072-a608-4654-941b-198b4dd37280",
   "metadata": {},
   "outputs": [
    {
     "data": {
      "image/png": "[encoded data removed]",
      "text/plain": [
       "<IPython.core.display.Image object>"
      ]
     },
     "metadata": {},
     "output_type": "display_data"
    }
   ],
   "source": [
    "%%manim $params\n",
    "class Example(ZoomedScene):\n",
    "    def construct(self):\n",
    "        mob= Arc(radius=1.3, start_angle=-PI/8, angle=PI,color= YELLOW)\n",
    "        mob.move_to(ORIGIN)\n",
    "        self.add(mob)\n",
    "        mob.scale(0.1)\n",
    "        self.camera.frame.scale(1/25)\n",
    "###******        \n",
    "image_full_name = \"Arc.png\"\n",
    "snippet = \"mob= Arc(radius=1.3, start_angle=-PI/16, angle=PI,color= YELLOW)\"\n",
    "name_snippet_pairs[image_full_name] = snippet"
   ]
  },
  {
   "cell_type": "code",
   "execution_count": 8,
   "id": "a2419fa8-c61a-4ced-b0ad-ef4f36871c36",
   "metadata": {},
   "outputs": [
    {
     "data": {
      "image/png": "[encoded data removed]",
      "text/plain": [
       "<IPython.core.display.Image object>"
      ]
     },
     "metadata": {},
     "output_type": "display_data"
    }
   ],
   "source": [
    "%%manim $params\n",
    "class Example(ZoomedScene):\n",
    "    def construct(self):\n",
    "        mob = ArcBetweenPoints(start=2 * RIGHT, end=2*LEFT, stroke_color=YELLOW)\n",
    "        mob = VGroup(mob, Dot(2 * RIGHT, radius=0.4), Dot(2*LEFT,radius=0.4) )\n",
    "        mob.move_to(ORIGIN)\n",
    "        self.add(mob)\n",
    "        mob.scale(0.1)\n",
    "        self.camera.frame.scale(1/25)\n",
    "###******    \n",
    "image_full_name = \"ArcBetweenPoints.png\"\n",
    "snippet = \"mob= ArcBetweenPoints(start=2 * RIGHT, end=2*LEFT, stroke_color=YELLOW)\"\n",
    "name_snippet_pairs[image_full_name] = snippet"
   ]
  },
  {
   "cell_type": "code",
   "execution_count": 9,
   "id": "0496a236-a7a0-4061-beeb-a967e243f1da",
   "metadata": {},
   "outputs": [
    {
     "data": {
      "image/png": "[encoded data removed]",
      "text/plain": [
       "<IPython.core.display.Image object>"
      ]
     },
     "metadata": {},
     "output_type": "display_data"
    }
   ],
   "source": [
    "%%manim $params\n",
    "class Example(ZoomedScene):\n",
    "    def construct(self):\n",
    "        mob = Line(color= YELLOW)\n",
    "        self.add(mob)\n",
    "        mob.scale(0.1)\n",
    "        self.camera.frame.scale(1/25)\n",
    "###******        \n",
    "image_full_name = \"Line.png\"\n",
    "snippet = \"line = Line(color= YELLOW)\"\n",
    "name_snippet_pairs[image_full_name] = snippet"
   ]
  },
  {
   "cell_type": "code",
   "execution_count": 10,
   "id": "e005acdc-f622-411a-a70e-c24209f60e2a",
   "metadata": {},
   "outputs": [
    {
     "data": {
      "image/png": "[encoded data removed]",
      "text/plain": [
       "<IPython.core.display.Image object>"
      ]
     },
     "metadata": {},
     "output_type": "display_data"
    }
   ],
   "source": [
    "%%manim $params\n",
    "class Example(ZoomedScene):\n",
    "    def construct(self):\n",
    "        mob = DashedLine(0.2*LEFT, 0.2*RIGHT,color= YELLOW)\n",
    "        self.add(mob)\n",
    "        self.camera.frame.scale(1/25)\n",
    "        \n",
    "###******        \n",
    "image_full_name = \"DashedLine.png\"\n",
    "snippet = \"mob = DashedLine(color= YELLOW)\"\n",
    "name_snippet_pairs[image_full_name] = snippet"
   ]
  },
  {
   "cell_type": "code",
   "execution_count": 11,
   "id": "409e3089-3bdf-4e25-8007-b587e9471d83",
   "metadata": {},
   "outputs": [
    {
     "data": {
      "image/png": "[encoded data removed]",
      "text/plain": [
       "<IPython.core.display.Image object>"
      ]
     },
     "metadata": {},
     "output_type": "display_data"
    }
   ],
   "source": [
    "%%manim $params\n",
    "class Example(ZoomedScene):\n",
    "    def construct(self):\n",
    "        circ = Circle(stroke_color=YELLOW)\n",
    "        mob = DashedVMobject(circ, num_dashes=10)\n",
    "\n",
    "        self.add(mob)\n",
    "        mob.scale(0.1)\n",
    "        self.camera.frame.scale(1/25)\n",
    "###******        \n",
    "image_full_name = \"DashedCircle.png\"\n",
    "snippet = r\"\"\"\n",
    "circ = Circle(stroke_color=YELLOW)\n",
    "mob = DashedVMobject(circ, num_dashes=10)\n",
    "\"\"\"\n",
    "name_snippet_pairs[image_full_name] = snippet"
   ]
  },
  {
   "cell_type": "code",
   "execution_count": 12,
   "id": "78d4b603",
   "metadata": {},
   "outputs": [
    {
     "data": {
      "image/png": "[encoded data removed]",
      "text/plain": [
       "<IPython.core.display.Image object>"
      ]
     },
     "metadata": {},
     "output_type": "display_data"
    }
   ],
   "source": [
    "%%manim $params\n",
    "class Example(ZoomedScene):\n",
    "    def construct(self):\n",
    "        mob= Square(color= YELLOW)\n",
    "        self.add(mob)\n",
    "        mob.scale(0.1)\n",
    "        self.camera.frame.scale(1/25)\n",
    "###******        \n",
    "image_full_name = \"Square.png\"\n",
    "snippet = \"square = Square(color= YELLOW)\"\n",
    "name_snippet_pairs[image_full_name] = snippet"
   ]
  },
  {
   "cell_type": "code",
   "execution_count": 13,
   "id": "2b689818-b83e-4413-b994-54b77151a132",
   "metadata": {},
   "outputs": [
    {
     "data": {
      "image/png": "[encoded data removed]",
      "text/plain": [
       "<IPython.core.display.Image object>"
      ]
     },
     "metadata": {},
     "output_type": "display_data"
    }
   ],
   "source": [
    "%%manim $params\n",
    "class Example(ZoomedScene):\n",
    "    def construct(self):\n",
    "        mob= Rectangle(width=3.5, height=2.0, color= YELLOW)\n",
    "        self.add(mob)\n",
    "        mob.scale(0.1)\n",
    "        self.camera.frame.scale(1/25)\n",
    "###******        \n",
    "image_full_name = \"Rectangle.png\"\n",
    "snippet = \"mob= Rectangle(width=3.5, height=2.0)\"\n",
    "name_snippet_pairs[image_full_name] = snippet"
   ]
  },
  {
   "cell_type": "code",
   "execution_count": 14,
   "id": "6b6b0f51-63be-4b30-b54d-fd9a1a143dcd",
   "metadata": {},
   "outputs": [
    {
     "data": {
      "image/png": "[encoded data removed]",
      "text/plain": [
       "<IPython.core.display.Image object>"
      ]
     },
     "metadata": {},
     "output_type": "display_data"
    }
   ],
   "source": [
    "%%manim $params\n",
    "class Example(ZoomedScene):\n",
    "    def construct(self):\n",
    "        mob= Rectangle(width=4, height=2.0,grid_xstep=2, grid_ystep=1,color= YELLOW)\n",
    "        self.add(mob)\n",
    "        mob.scale(0.1)\n",
    "        self.camera.frame.scale(1/25)\n",
    "###******        \n",
    "image_full_name = \"Rectangle_grid.png\"\n",
    "snippet = \"mob= Rectangle(width=4, height=2.0,grid_xstep=2, grid_ystep=1,color= YELLOW)\"\n",
    "name_snippet_pairs[image_full_name] = snippet"
   ]
  },
  {
   "cell_type": "code",
   "execution_count": 15,
   "id": "84a0431b-c79e-4790-9c4c-9cc778b6cf09",
   "metadata": {},
   "outputs": [
    {
     "data": {
      "image/png": "[encoded data removed]",
      "text/plain": [
       "<IPython.core.display.Image object>"
      ]
     },
     "metadata": {},
     "output_type": "display_data"
    }
   ],
   "source": [
    "%%manim $params\n",
    "class Example(ZoomedScene):\n",
    "    def construct(self):\n",
    "        mob= Rectangle(width=4, height=2.0,grid_xstep=2, grid_ystep=1,color= YELLOW)\n",
    "        mob = SampleSpace(width=3, height=2, stroke_width=5, fill_opacity=0.1, stroke_color=LIGHT_GREY)\n",
    "        mob.divide_vertically(p_list=np.array([0.37, 0.13, 0.5]), colors=[YELLOW, WHITE, YELLOW], vect=RIGHT)\n",
    "\n",
    "        self.add(mob)\n",
    "        mob.scale(0.1)\n",
    "        self.camera.frame.scale(1/25)\n",
    "###******        \n",
    "image_full_name = \"SampleSpace.png\"\n",
    "snippet = \"\"\"\n",
    "mob = SampleSpace(width=3, height=2, stroke_width=5, fill_opacity=0.1, stroke_color=LIGHT_GREY)\n",
    "mob.divide_vertically(p_list=np.array([0.37, 0.13, 0.5]), colors=[YELLOW, WHITE, YELLOW], vect=RIGHT)\n",
    "\"\"\"\n",
    "name_snippet_pairs[image_full_name] = snippet"
   ]
  },
  {
   "cell_type": "code",
   "execution_count": 16,
   "id": "afaeb917-27c3-4e57-b14b-70cc492c341c",
   "metadata": {},
   "outputs": [
    {
     "data": {
      "image/png": "[encoded data removed]",
      "text/plain": [
       "<IPython.core.display.Image object>"
      ]
     },
     "metadata": {},
     "output_type": "display_data"
    }
   ],
   "source": [
    "%%manim $params\n",
    "class Example(ZoomedScene):\n",
    "    def construct(self):\n",
    "        mob= RoundedRectangle(corner_radius=0.5, color= YELLOW)\n",
    "        self.add(mob)\n",
    "        mob.scale(0.1)\n",
    "        self.camera.frame.scale(1/25)\n",
    "###******        \n",
    "image_full_name = \"RoundedRectangle1.png\"\n",
    "snippet = \"mob= RoundedRectangle(corner_radius=0.5, color= YELLOW)\"\n",
    "name_snippet_pairs[image_full_name] = snippet"
   ]
  },
  {
   "cell_type": "code",
   "execution_count": 17,
   "id": "21d7e7b2-6029-47ac-8fbe-fcddc37bbcab",
   "metadata": {},
   "outputs": [
    {
     "data": {
      "image/png": "[encoded data removed]",
      "text/plain": [
       "<IPython.core.display.Image object>"
      ]
     },
     "metadata": {},
     "output_type": "display_data"
    }
   ],
   "source": [
    "%%manim $params\n",
    "class Example(ZoomedScene):\n",
    "    def construct(self):\n",
    "        mob= RoundedRectangle(corner_radius=0.8, height=2.2, width=2.2,color= YELLOW)\n",
    "        self.add(mob)\n",
    "        mob.scale(0.1)\n",
    "        self.camera.frame.scale(1/25)\n",
    "###******        \n",
    "image_full_name = \"RoundedRectangle2.png\"\n",
    "snippet = \"mob = RoundedRectangle(corner_radius=0.8, height=2.2, width=2.2,color= YELLOW)\"\n",
    "name_snippet_pairs[image_full_name] = snippet"
   ]
  },
  {
   "cell_type": "code",
   "execution_count": 18,
   "id": "5a41408c-75be-4254-9633-9e35d30d6610",
   "metadata": {},
   "outputs": [
    {
     "data": {
      "image/png": "[encoded data removed]",
      "text/plain": [
       "<IPython.core.display.Image object>"
      ]
     },
     "metadata": {},
     "output_type": "display_data"
    }
   ],
   "source": [
    "%%manim $params\n",
    "class Example(ZoomedScene):\n",
    "    def construct(self):\n",
    "        mob = Elbow(width=0.5, angle=0*DEGREES,color= YELLOW)\n",
    "        self.add(mob)\n",
    "        mob.move_to(ORIGIN)\n",
    "        self.camera.frame.scale(1/10)\n",
    "###******        \n",
    "image_full_name = \"Elbow.png\"\n",
    "snippet = \"Elbow(width=0.5, angle=0*DEGREES,color= YELLOW)\"\n",
    "name_snippet_pairs[image_full_name] = snippet"
   ]
  },
  {
   "cell_type": "code",
   "execution_count": 19,
   "id": "0f321ac7-0d7e-4eb3-8fb6-011011db1df2",
   "metadata": {},
   "outputs": [
    {
     "data": {
      "image/png": "[encoded data removed]",
      "text/plain": [
       "<IPython.core.display.Image object>"
      ]
     },
     "metadata": {},
     "output_type": "display_data"
    }
   ],
   "source": [
    "%%manim $params\n",
    "class Example(ZoomedScene):\n",
    "    def construct(self):\n",
    "        line1 = Line( ORIGIN, RIGHT )\n",
    "        line2 = Line( ORIGIN, UP )\n",
    "        mob = RightAngle(line1, line2, color=YELLOW, stroke_width=7)\n",
    "        self.add(VGroup(mob,line1, line2).shift(DL*0.3))\n",
    "        self.camera.frame.scale(1/6)\n",
    "###******        \n",
    "image_full_name = \"RightAngle.png\"\n",
    "snippet = \"line1 = Line( ORIGIN, RIGHT )\\nline2 = Line( ORIGIN, UP )\\nmob = RightAngle(line1, line2, color=YELLOW, stroke_width=7)\"\n",
    "name_snippet_pairs[image_full_name] = snippet"
   ]
  },
  {
   "cell_type": "code",
   "execution_count": 20,
   "id": "5ee3dd09-db56-4c70-b098-f54454b33e8b",
   "metadata": {},
   "outputs": [
    {
     "data": {
      "image/png": "[encoded data removed]",
      "text/plain": [
       "<IPython.core.display.Image object>"
      ]
     },
     "metadata": {},
     "output_type": "display_data"
    }
   ],
   "source": [
    "%%manim $params\n",
    "class Example(ZoomedScene):\n",
    "    def construct(self):\n",
    "        line1 = Line( LEFT*0.2, RIGHT )\n",
    "        line2 = Line( DOWN*0.2, UP )\n",
    "        a= Angle(line1, line2, dot=True, color=YELLOW, dot_color=YELLOW)\n",
    "        self.add(VGroup(line1, line2, a).move_to(ORIGIN))\n",
    "        self.camera.frame.scale(1/5)\n",
    "image_full_name = \"Angledot.png\"\n",
    "snippet = \"\"\"\n",
    "line1 = Line( LEFT*0.2, RIGHT )\n",
    "line2 = Line( DOWN*0.2, UP )\n",
    "a= Angle(line1, line2, dot=True, color=YELLOW, dot_color=YELLOW)\n",
    "\"\"\"\n",
    "name_snippet_pairs[image_full_name] = snippet"
   ]
  },
  {
   "cell_type": "code",
   "execution_count": 21,
   "id": "558c5450-16f7-40e7-be3e-5a6a192c3a55",
   "metadata": {},
   "outputs": [
    {
     "data": {
      "image/png": "[encoded data removed]",
      "text/plain": [
       "<IPython.core.display.Image object>"
      ]
     },
     "metadata": {},
     "output_type": "display_data"
    }
   ],
   "source": [
    "%%manim $params\n",
    "class Example(ZoomedScene):\n",
    "    def construct(self):\n",
    "        line1 = Line((LEFT+(1/3)*UP)*0.1, RIGHT+(1/3)*DOWN)\n",
    "        line2 = Line((DOWN+(1/3)*RIGHT)*0.1, UP+(1/3)*LEFT)\n",
    "        angle = Angle(line1, line2, radius=0.3)\n",
    "        value = Integer(angle.get_value(degrees=True), unit=\"^{\\circ}\", color=YELLOW)\n",
    "        value.next_to(angle, UR,buff=0)\n",
    "\n",
    "        self.add(VGroup(line1, line2, angle, value).move_to(ORIGIN))\n",
    "        self.camera.frame.scale(1/5)\n",
    "image_full_name = \"Angle_get_value.png\"\n",
    "snippet = \"\"\"\n",
    "line1 = Line((LEFT+(1/3)*UP)*0.1, RIGHT+(1/3)*DOWN)\n",
    "line2 = Line((DOWN+(1/3)*RIGHT)*0.1, UP+(1/3)*LEFT)\n",
    "angle = Angle(line1, line2, radius=0.3)\n",
    "value = Integer(angle.get_value(degrees=True), unit=\"^{\\circ}\", color=YELLOW)\n",
    "value.next_to(angle, UR,buff=0)\n",
    "\"\"\"\n",
    "name_snippet_pairs[image_full_name] = snippet"
   ]
  },
  {
   "cell_type": "code",
   "execution_count": 22,
   "id": "9075a9c7-0eff-4eea-8ce7-dc533bc54120",
   "metadata": {},
   "outputs": [
    {
     "data": {
      "image/png": "[encoded data removed]",
      "text/plain": [
       "<IPython.core.display.Image object>"
      ]
     },
     "metadata": {},
     "output_type": "display_data"
    }
   ],
   "source": [
    "%%manim $params\n",
    "class Example(ZoomedScene):\n",
    "    def construct(self):\n",
    "        mob= Triangle(color= YELLOW)\n",
    "        mob.move_to(ORIGIN)\n",
    "        self.add(mob)\n",
    "        mob.scale(0.1)\n",
    "        self.camera.frame.scale(1/25)\n",
    "###******        \n",
    "image_full_name = \"Triangle.png\"\n",
    "snippet = \"mob = Triangle(color = YELLOW)\"\n",
    "name_snippet_pairs[image_full_name] = snippet"
   ]
  },
  {
   "cell_type": "code",
   "execution_count": 23,
   "id": "63dba20a-2cb2-42e6-b18c-21153203cf7e",
   "metadata": {},
   "outputs": [
    {
     "data": {
      "image/png": "[encoded data removed]",
      "text/plain": [
       "<IPython.core.display.Image object>"
      ]
     },
     "metadata": {},
     "output_type": "display_data"
    }
   ],
   "source": [
    "%%manim $params\n",
    "class Example(ZoomedScene):\n",
    "    def construct(self):\n",
    "        mob= Cross(stroke_color = YELLOW)\n",
    "        mob.move_to(ORIGIN)\n",
    "        self.add(mob)\n",
    "        mob.scale(0.1)\n",
    "        self.camera.frame.scale(1/25)\n",
    "###******        \n",
    "image_full_name = \"Cross.png\"\n",
    "snippet = \"Cross(stroke_color = YELLOW)\"\n",
    "name_snippet_pairs[image_full_name] = snippet"
   ]
  },
  {
   "cell_type": "code",
   "execution_count": 24,
   "id": "ca89b62d",
   "metadata": {},
   "outputs": [
    {
     "data": {
      "image/png": "[encoded data removed]",
      "text/plain": [
       "<IPython.core.display.Image object>"
      ]
     },
     "metadata": {},
     "output_type": "display_data"
    }
   ],
   "source": [
    "%%manim $params\n",
    "class Example(ZoomedScene):\n",
    "    def construct(self):\n",
    "        mob= Star(color= YELLOW)\n",
    "        mob.move_to(ORIGIN)\n",
    "        self.add(mob)\n",
    "        mob.scale(0.2)\n",
    "        self.camera.frame.scale(1/14)\n",
    "###******        \n",
    "image_full_name = \"Star.png\"\n",
    "snippet = \"star = Star(color = YELLOW)\"\n",
    "name_snippet_pairs[image_full_name] = snippet"
   ]
  },
  {
   "cell_type": "code",
   "execution_count": 25,
   "id": "c9fea1a6-65bd-4f44-b219-7e6cd095654f",
   "metadata": {},
   "outputs": [
    {
     "data": {
      "image/png": "[encoded data removed]",
      "text/plain": [
       "<IPython.core.display.Image object>"
      ]
     },
     "metadata": {},
     "output_type": "display_data"
    }
   ],
   "source": [
    "%%manim $params\n",
    "class Example(ZoomedScene):\n",
    "    def construct(self):\n",
    "        mob= RegularPolygram(5,color= YELLOW)\n",
    "        mob.move_to(ORIGIN)\n",
    "        self.add(mob)\n",
    "        mob.scale(0.2)\n",
    "        self.camera.frame.scale(1/15)\n",
    "###******        \n",
    "image_full_name = \"RegularPolygram5.png\"\n",
    "snippet = \"mob= RegularPolygram(5,color= YELLOW)\"\n",
    "name_snippet_pairs[image_full_name] = snippet\n"
   ]
  },
  {
   "cell_type": "code",
   "execution_count": 26,
   "id": "2173c493-be26-4511-80df-0967d2e5baf1",
   "metadata": {},
   "outputs": [
    {
     "data": {
      "image/png": "[encoded data removed]",
      "text/plain": [
       "<IPython.core.display.Image object>"
      ]
     },
     "metadata": {},
     "output_type": "display_data"
    }
   ],
   "source": [
    "%%manim $params\n",
    "class Example(ZoomedScene):\n",
    "    def construct(self):\n",
    "        mob= RegularPolygram(6,color= YELLOW)\n",
    "        mob.move_to(ORIGIN)\n",
    "        self.add(mob)\n",
    "        mob.scale(0.2)\n",
    "        self.camera.frame.scale(1/15)\n",
    "###******        \n",
    "image_full_name = \"RegularPolygram6.png\"\n",
    "snippet = \"mob= RegularPolygram(6,color= YELLOW)\"\n",
    "name_snippet_pairs[image_full_name] = snippet\n"
   ]
  },
  {
   "cell_type": "code",
   "execution_count": 27,
   "id": "e56044ca-139f-45c5-9fa9-1e38a02dca64",
   "metadata": {},
   "outputs": [
    {
     "data": {
      "image/png": "[encoded data removed]",
      "text/plain": [
       "<IPython.core.display.Image object>"
      ]
     },
     "metadata": {},
     "output_type": "display_data"
    }
   ],
   "source": [
    "%%manim $params\n",
    "class Example(ZoomedScene):\n",
    "    def construct(self):\n",
    "        mob= RegularPolygon(5,color= YELLOW)\n",
    "        mob.move_to(ORIGIN)\n",
    "        self.add(mob)\n",
    "        mob.scale(0.1)\n",
    "        self.camera.frame.scale(1/25)\n",
    "###******        \n",
    "image_full_name = \"RegularPolygon5.png\"\n",
    "snippet = \"mob= RegularPolygon(5,color= YELLOW)\"\n",
    "name_snippet_pairs[image_full_name] = snippet\n"
   ]
  },
  {
   "cell_type": "code",
   "execution_count": 28,
   "id": "6c2351d7-d630-4a8c-9ad9-a669722922a1",
   "metadata": {},
   "outputs": [
    {
     "data": {
      "image/png": "[encoded data removed]",
      "text/plain": [
       "<IPython.core.display.Image object>"
      ]
     },
     "metadata": {},
     "output_type": "display_data"
    }
   ],
   "source": [
    "%%manim $params\n",
    "class Example(ZoomedScene):\n",
    "    def construct(self):\n",
    "        mob= RegularPolygon(6,color= YELLOW)\n",
    "        mob.move_to(ORIGIN)\n",
    "        self.add(mob)\n",
    "        mob.scale(0.1)\n",
    "        self.camera.frame.scale(1/25)\n",
    "###******        \n",
    "image_full_name = \"RegularPolygon6.png\"\n",
    "snippet = \"mob= RegularPolygon(6,color= YELLOW)\"\n",
    "name_snippet_pairs[image_full_name] = snippet\n"
   ]
  },
  {
   "cell_type": "code",
   "execution_count": 29,
   "id": "79054cc7-29d7-4906-9c7b-8c6ad44c4465",
   "metadata": {},
   "outputs": [
    {
     "data": {
      "image/png": "[encoded data removed]",
      "text/plain": [
       "<IPython.core.display.Image object>"
      ]
     },
     "metadata": {},
     "output_type": "display_data"
    }
   ],
   "source": [
    "%%manim $params\n",
    "class Example(ZoomedScene):\n",
    "    def construct(self):\n",
    "        s1 = Square().scale(2.5)\n",
    "        s2 = Star().shift(LEFT)\n",
    "        s3 = Circle().shift(RIGHT)\n",
    "        c = Cutout(s1, s2, s3, fill_opacity=1, color=YELLOW)\n",
    "        self.add(c)\n",
    "###******        \n",
    "image_full_name = \"CutOut.png\"\n",
    "snippet = \"s1 = Square().scale(2.5)\\ns2 = Star().shift(LEFT)\\ns3 = Circle().shift(RIGHT)\\nc = Cutout(s1, s2, s3, fill_opacity=1, color=YELLOW)\"\n",
    "name_snippet_pairs[image_full_name] = snippet\n",
    "\n"
   ]
  },
  {
   "cell_type": "code",
   "execution_count": 30,
   "id": "8f13d671-c505-4993-b1a2-9c61dc28c83f",
   "metadata": {},
   "outputs": [
    {
     "data": {
      "image/png": "[encoded data removed]",
      "text/plain": [
       "<IPython.core.display.Image object>"
      ]
     },
     "metadata": {},
     "output_type": "display_data"
    }
   ],
   "source": [
    "%%manim $params\n",
    "class Example(ZoomedScene):\n",
    "    def construct(self):\n",
    "        mob = Arrow(0.2*LEFT, 0.2*RIGHT,color= YELLOW)\n",
    "        self.add(mob)\n",
    "        self.camera.frame.scale(1/25)\n",
    "###******        \n",
    "image_full_name = \"Arrow.png\"\n",
    "snippet = \"mob = Arrow(color= YELLOW)\"\n",
    "name_snippet_pairs[image_full_name] = snippet"
   ]
  },
  {
   "cell_type": "code",
   "execution_count": 31,
   "id": "b6754f9d-8fab-47a6-bb5c-dca97b75e25e",
   "metadata": {},
   "outputs": [
    {
     "data": {
      "image/png": "[encoded data removed]",
      "text/plain": [
       "<IPython.core.display.Image object>"
      ]
     },
     "metadata": {},
     "output_type": "display_data"
    }
   ],
   "source": [
    "%%manim $params\n",
    "class Example(ZoomedScene):\n",
    "    def construct(self):\n",
    "        mob = Arrow(0.2*LEFT, 0.2*RIGHT,color= YELLOW, tip_shape=ArrowSquareTip)\n",
    "        self.add(mob)\n",
    "        self.camera.frame.scale(1/25)\n",
    "###******        \n",
    "image_full_name = \"ArrowSquareTip.png\"\n",
    "snippet = \"mob = Arrow(color= YELLOW, tip_shape=ArrowSquareTip)\"\n",
    "name_snippet_pairs[image_full_name] = snippet"
   ]
  },
  {
   "cell_type": "code",
   "execution_count": 32,
   "id": "f712a179-5e9d-4907-9f17-0448dd26f834",
   "metadata": {},
   "outputs": [
    {
     "data": {
      "image/png": "[encoded data removed]",
      "text/plain": [
       "<IPython.core.display.Image object>"
      ]
     },
     "metadata": {},
     "output_type": "display_data"
    }
   ],
   "source": [
    "%%manim $params\n",
    "class Example(ZoomedScene):\n",
    "    def construct(self):\n",
    "        mob = Arrow(0.2*LEFT, 0.2*RIGHT,color= YELLOW, tip_shape=ArrowSquareFilledTip)\n",
    "        self.add(mob)\n",
    "        self.camera.frame.scale(1/25)\n",
    "###******        \n",
    "image_full_name = \"ArrowSquareFilledTip.png\"\n",
    "snippet = \"mob = Arrow(color= YELLOW, tip_shape=ArrowSquareFilledTip)\"\n",
    "name_snippet_pairs[image_full_name] = snippet"
   ]
  },
  {
   "cell_type": "code",
   "execution_count": 33,
   "id": "f2cf8509-de93-4341-9d88-abd2c863bf07",
   "metadata": {},
   "outputs": [
    {
     "data": {
      "image/png": "[encoded data removed]",
      "text/plain": [
       "<IPython.core.display.Image object>"
      ]
     },
     "metadata": {},
     "output_type": "display_data"
    }
   ],
   "source": [
    "%%manim $params\n",
    "class Example(ZoomedScene):\n",
    "    def construct(self):\n",
    "        mob = Arrow(0.2*LEFT, 0.2*RIGHT,color= YELLOW, tip_shape=ArrowCircleTip)\n",
    "        self.add(mob)\n",
    "        self.camera.frame.scale(1/25)\n",
    "###******        \n",
    "image_full_name = \"ArrowCircleTip.png\"\n",
    "snippet = \"mob = Arrow(color= YELLOW, tip_shape=ArrowCircleTip)\"\n",
    "name_snippet_pairs[image_full_name] = snippet"
   ]
  },
  {
   "cell_type": "code",
   "execution_count": 34,
   "id": "392cb493-1d25-454f-a93b-0cbd6ae19e4d",
   "metadata": {},
   "outputs": [
    {
     "data": {
      "image/png": "[encoded data removed]",
      "text/plain": [
       "<IPython.core.display.Image object>"
      ]
     },
     "metadata": {},
     "output_type": "display_data"
    }
   ],
   "source": [
    "%%manim $params\n",
    "class Example(ZoomedScene):\n",
    "    def construct(self):\n",
    "        mob = Arrow(0.2*LEFT, 0.2*RIGHT,color= YELLOW, tip_shape=ArrowCircleFilledTip)\n",
    "        self.add(mob)\n",
    "        self.camera.frame.scale(1/25)\n",
    "###******        \n",
    "image_full_name = \"ArrowCircleFilledTip.png\"\n",
    "snippet = \"mob = Arrow(color= YELLOW, tip_shape=ArrowCircleFilledTip)\"\n",
    "name_snippet_pairs[image_full_name] = snippet"
   ]
  },
  {
   "cell_type": "code",
   "execution_count": 35,
   "id": "2616b54b-98c4-4171-bec6-7e9cdf55968a",
   "metadata": {},
   "outputs": [
    {
     "data": {
      "image/png": "[encoded data removed]",
      "text/plain": [
       "<IPython.core.display.Image object>"
      ]
     },
     "metadata": {},
     "output_type": "display_data"
    }
   ],
   "source": [
    "%%manim $params\n",
    "class Example(ZoomedScene):\n",
    "    def construct(self):\n",
    "        mob = DoubleArrow(0.2*LEFT, 0.2*RIGHT,color= YELLOW)\n",
    "        self.add(mob)\n",
    "        self.camera.frame.scale(1/25)\n",
    "###******        \n",
    "image_full_name = \"DoubleArrow.png\"\n",
    "snippet = \"mob = DoubleArrow(color= YELLOW)\"\n",
    "name_snippet_pairs[image_full_name] = snippet"
   ]
  },
  {
   "cell_type": "code",
   "execution_count": 36,
   "id": "f1517126-246d-4361-93fb-77d8620c5384",
   "metadata": {},
   "outputs": [
    {
     "data": {
      "image/png": "[encoded data removed]",
      "text/plain": [
       "<IPython.core.display.Image object>"
      ]
     },
     "metadata": {},
     "output_type": "display_data"
    }
   ],
   "source": [
    "%%manim $params\n",
    "class Example(ZoomedScene):\n",
    "    def construct(self):\n",
    "        mob = CurvedArrow(LEFT,RIGHT,color= YELLOW)\n",
    "        self.add(mob)\n",
    "        mob.move_to(ORIGIN)\n",
    "        self.camera.frame.scale(1/6)\n",
    "###******        \n",
    "image_full_name = \"CurvedArrow.png\"\n",
    "snippet = \"mob = CurvedArrow(LEFT,RIGHT,color= YELLOW)\"\n",
    "name_snippet_pairs[image_full_name] = snippet"
   ]
  },
  {
   "cell_type": "code",
   "execution_count": 37,
   "id": "8120aa72-aa99-4078-9859-a8fada7c9167",
   "metadata": {},
   "outputs": [
    {
     "data": {
      "image/png": "[encoded data removed]",
      "text/plain": [
       "<IPython.core.display.Image object>"
      ]
     },
     "metadata": {},
     "output_type": "display_data"
    }
   ],
   "source": [
    "%%manim $params\n",
    "class Example(ZoomedScene):\n",
    "    def construct(self):\n",
    "        mob = ParametricFunction(lambda t: [t,0.2*np.sin(10*t),0],t_range = [-TAU, TAU],color= YELLOW)\n",
    "        self.add(mob)\n",
    "        self.camera.frame.scale(1/10)\n",
    "###******        \n",
    "image_full_name = \"ParametricFunction.png\"\n",
    "snippet = \"mob = ParametricFunction(lambda t: [t,0.2*np.sin(10*t),0],t_range = [-TAU, TAU],color= YELLOW)\"\n",
    "name_snippet_pairs[image_full_name] = snippet"
   ]
  },
  {
   "cell_type": "code",
   "execution_count": 38,
   "id": "1870a184-e3af-4d34-a62f-371b4a56fd41",
   "metadata": {},
   "outputs": [
    {
     "data": {
      "image/png": "[encoded data removed]",
      "text/plain": [
       "<IPython.core.display.Image object>"
      ]
     },
     "metadata": {},
     "output_type": "display_data"
    }
   ],
   "source": [
    "%%manim $params\n",
    "class Example(ZoomedScene):\n",
    "    def construct(self):\n",
    "        p1 = [-3, 1, 0]\n",
    "        p1b=  p1 + 5 * RIGHT + 2 * UP\n",
    "        p2 = [3, -1, 0]\n",
    "        p2b = p2 + 5 * LEFT\n",
    "        bezier = CubicBezier(p1,p1b, p2b, p2, color=YELLOW)\n",
    "        self.add(bezier)\n",
    "        bezier.scale(0.1)\n",
    "        self.camera.frame.scale(1/15)\n",
    "###******        \n",
    "image_full_name = \"CubicBezier.png\"\n",
    "snippet = \"p1 = [-3, 1, 0]\\np1b=  p1 + 5 * RIGHT + 2 * UP\\np2 = [3, -1, 0]\\np2b = p2 + 5 * LEFT\\nbezier = CubicBezier(p1,p1b, p2b, p2, color=YELLOW)\"\n",
    "name_snippet_pairs[image_full_name] = snippet"
   ]
  },
  {
   "cell_type": "code",
   "execution_count": 39,
   "id": "c48a4917-bb93-470e-aaff-d1bf3b25dd91",
   "metadata": {},
   "outputs": [
    {
     "data": {
      "image/png": "[encoded data removed]",
      "text/plain": [
       "<IPython.core.display.Image object>"
      ]
     },
     "metadata": {},
     "output_type": "display_data"
    }
   ],
   "source": [
    "%%manim $params\n",
    "class Example(ZoomedScene):\n",
    "    def construct(self):\n",
    "        mob = Brace(Line(LEFT*0.5,RIGHT*0.5),color= YELLOW)\n",
    "        self.add(mob)\n",
    "        mob.move_to(ORIGIN)\n",
    "        self.camera.frame.scale(1/8)\n",
    "###******        \n",
    "image_full_name = \"Brace.png\"\n",
    "snippet = \"mob = Brace(LEFT,RIGHT,color= YELLOW)\"\n",
    "name_snippet_pairs[image_full_name] = snippet"
   ]
  },
  {
   "cell_type": "code",
   "execution_count": 40,
   "id": "88044daa-ecb8-42d5-8d5f-ab0427b1be5f",
   "metadata": {},
   "outputs": [
    {
     "data": {
      "image/png": "[encoded data removed]",
      "text/plain": [
       "<IPython.core.display.Image object>"
      ]
     },
     "metadata": {},
     "output_type": "display_data"
    }
   ],
   "source": [
    "%%manim $params\n",
    "class Example(ZoomedScene):\n",
    "    def construct(self):\n",
    "        l=Line(ORIGIN, RIGHT*1.4)\n",
    "        mob= BraceLabel(l, text= r\"14 \\, \\text{cm}\", color= YELLOW, buff=0.1)\n",
    "        mob.submobjects[1].set_color(YELLOW)\n",
    "        self.add(VGroup(l,mob).move_to(ORIGIN))\n",
    "        self.camera.frame.scale(1/5)\n",
    "###******        \n",
    "image_full_name = \"BraceLabel.png\"\n",
    "snippet = \"\"\"\n",
    "l=Line(ORIGIN, RIGHT*1.4)\n",
    "mob= BraceLabel(l, text= r\"14 \\, \\text{cm}\", color= YELLOW, buff=0.1)\n",
    "mob.submobjects[1].set_color(YELLOW)\n",
    "self.add(VGroup(l,mob).move_to(ORIGIN))\n",
    "\"\"\"\n",
    "name_snippet_pairs[image_full_name] = snippet"
   ]
  },
  {
   "cell_type": "code",
   "execution_count": 41,
   "id": "28d88d10-6527-4101-ab2e-3420071b79d4",
   "metadata": {},
   "outputs": [
    {
     "data": {
      "image/png": "[encoded data removed]",
      "text/plain": [
       "<IPython.core.display.Image object>"
      ]
     },
     "metadata": {},
     "output_type": "display_data"
    }
   ],
   "source": [
    "%%manim $params\n",
    "class Example(ZoomedScene):\n",
    "    def construct(self):\n",
    "        arc = Arc(radius=0.5,start_angle=0,angle=5*PI/6)\n",
    "        brace = ArcBrace(arc).set_color(YELLOW)\n",
    "        mob = VGroup(arc,brace)        \n",
    "        self.add(mob)\n",
    "        mob.move_to(ORIGIN)\n",
    "        self.camera.frame.scale(1/8)\n",
    "###******        \n",
    "image_full_name = \"ArcBrace.png\"\n",
    "snippet = \"arc = Arc(radius=0.5,start_angle=0,angle=5*PI/6)\\nbrace = ArcBrace(arc).set_color(YELLOW)\"\n",
    "name_snippet_pairs[image_full_name] = snippet"
   ]
  },
  {
   "cell_type": "code",
   "execution_count": 42,
   "id": "7a1d9778-4e1a-41a8-84a4-187a6550086a",
   "metadata": {},
   "outputs": [
    {
     "data": {
      "image/png": "[encoded data removed]",
      "text/plain": [
       "<IPython.core.display.Image object>"
      ]
     },
     "metadata": {},
     "output_type": "display_data"
    }
   ],
   "source": [
    "%%manim $params\n",
    "class Example(ZoomedScene):\n",
    "    def construct(self):\n",
    "        mob = AnnotationDot(stroke_color=YELLOW, fill_color=ORANGE)\n",
    "        self.add(mob)\n",
    "        mob.move_to(ORIGIN)\n",
    "        self.camera.frame.scale(1/15)\n",
    "###******        \n",
    "image_full_name = \"AnnotationDot.png\"\n",
    "snippet = \"mob = AnnotationDot(fill_color=RED)\"\n",
    "name_snippet_pairs[image_full_name] = snippet"
   ]
  },
  {
   "cell_type": "code",
   "execution_count": 43,
   "id": "7893fe85-5177-4e3a-8d85-728e77bf2442",
   "metadata": {},
   "outputs": [
    {
     "data": {
      "image/png": "[encoded data removed]",
      "text/plain": [
       "<IPython.core.display.Image object>"
      ]
     },
     "metadata": {},
     "output_type": "display_data"
    }
   ],
   "source": [
    "%%manim $params\n",
    "class Example(ZoomedScene):\n",
    "    def construct(self):\n",
    "        mob = LabeledDot(Tex(\"42\", color=BLACK), color=YELLOW)\n",
    "        self.add(mob)\n",
    "        mob.move_to(ORIGIN)\n",
    "        self.camera.frame.scale(1/10)\n",
    "###******        \n",
    "image_full_name = \"LabeledDot.png\"\n",
    "snippet = 'mob = LabeledDot(Tex(\"42\", color=BLACK), color=YELLOW)'\n",
    "name_snippet_pairs[image_full_name] = snippet"
   ]
  },
  {
   "cell_type": "code",
   "execution_count": 44,
   "id": "facb7539-059f-4e30-8098-ac04b970666e",
   "metadata": {},
   "outputs": [
    {
     "data": {
      "image/png": "[encoded data removed]",
      "text/plain": [
       "<IPython.core.display.Image object>"
      ]
     },
     "metadata": {},
     "output_type": "display_data"
    }
   ],
   "source": [
    "%%manim $params\n",
    "class Example(ZoomedScene):\n",
    "    def construct(self):\n",
    "        mob = ManimBanner()\n",
    "        self.add(mob)\n",
    "        self.camera.frame.scale(1/1.5)\n",
    "###******        \n",
    "image_full_name = \"ManimBanner.png\"\n",
    "snippet = \"mob = ManimBanner()\"\n",
    "name_snippet_pairs[image_full_name] = snippet"
   ]
  },
  {
   "cell_type": "code",
   "execution_count": 45,
   "id": "e8419e42-4c11-4bab-a864-9e8a97d86e91",
   "metadata": {},
   "outputs": [
    {
     "data": {
      "image/png": "[encoded data removed]",
      "text/plain": [
       "<IPython.core.display.Image object>"
      ]
     },
     "metadata": {},
     "output_type": "display_data"
    }
   ],
   "source": [
    "%%manim $params\n",
    "#-v WARNING -r 80,80 -s  --disable_caching Example\n",
    "class Example(ZoomedScene):\n",
    "    def construct(self):\n",
    "        self.camera.background_color = \"#ece6e2\"\n",
    "        logo_green = \"#87c2a5\"\n",
    "        logo_blue = \"#525893\"\n",
    "        logo_red = \"#e07a5f\"\n",
    "        circle = Circle(color=logo_green, fill_opacity=1).shift(LEFT)\n",
    "        square = Square(color=logo_blue, fill_opacity=1).shift(UP)\n",
    "        triangle = Triangle(color=logo_red, fill_opacity=1).shift(RIGHT)\n",
    "        logo = VGroup(triangle, square, circle).scale(1.3)#.scale(2.0)\n",
    "        logo.move_to(ORIGIN)\n",
    "        self.add(logo)\n",
    "        self.camera.frame.scale(1/1.5)\n",
    "###******        \n",
    "image_full_name = \"HTMLBanner.png\"\n",
    "snippet = \"\"\"\n",
    "self.camera.background_color = \"#ece6e2\"\n",
    "logo_green = \"#87c2a5\"\n",
    "logo_blue = \"#525893\"\n",
    "logo_red = \"#e07a5f\"\n",
    "circle = Circle(color=logo_green, fill_opacity=1).shift(LEFT)\n",
    "square = Square(color=logo_blue, fill_opacity=1).shift(UP)\n",
    "triangle = Triangle(color=logo_red, fill_opacity=1).shift(RIGHT)\n",
    "logo = VGroup(triangle, square, circle).scale(1.3)\n",
    "\"\"\"\n",
    "name_snippet_pairs[image_full_name] = snippet"
   ]
  },
  {
   "cell_type": "code",
   "execution_count": 46,
   "id": "6f793b8a-5987-496a-91ff-9203b49e6f0a",
   "metadata": {},
   "outputs": [
    {
     "data": {
      "image/png": "[encoded data removed]",
      "text/plain": [
       "<IPython.core.display.Image object>"
      ]
     },
     "metadata": {},
     "output_type": "display_data"
    }
   ],
   "source": [
    "%%manim $params\n",
    "\n",
    "from PIL import Image\n",
    "import requests\n",
    "image = Image.open(requests.get(\"https://raw.githubusercontent.com/scikit-image/scikit-image/main/skimage/data/chelsea.png\", stream=True).raw)\n",
    "\n",
    "class Example(ZoomedScene):\n",
    "    def construct(self):\n",
    "        mob = ImageMobject(image).scale(2)\n",
    "        self.add(mob)\n",
    "        self.camera.frame.scale(1/1.5)\n",
    "###******        \n",
    "image_full_name = \"ImageMobject.png\"\n",
    "snippet = \"\"\"\n",
    "mob = ImageMobject(image)\n",
    "\"\"\"\n",
    "name_snippet_pairs[image_full_name] = snippet"
   ]
  },
  {
   "cell_type": "code",
   "execution_count": 47,
   "id": "29443491-d1fa-4001-bdbc-5465f4c2d4be",
   "metadata": {},
   "outputs": [
    {
     "data": {
      "image/png": "[encoded data removed]",
      "text/plain": [
       "<IPython.core.display.Image object>"
      ]
     },
     "metadata": {},
     "output_type": "display_data"
    }
   ],
   "source": [
    "%%manim $params\n",
    "\n",
    "class Example(ZoomedScene):\n",
    "    def construct(self):\n",
    "        np.random.seed(41)\n",
    "        a= np.random.randint(0, 255, size=(3, 4))\n",
    "        img = ImageMobject(np.uint8(a))\n",
    "        img.height = 6\n",
    "        img.set_resampling_algorithm(RESAMPLING_ALGORITHMS[\"nearest\"])\n",
    "        self.add(img)\n",
    "###******        \n",
    "image_full_name = \"ImageMobject_nearest.png\"\n",
    "snippet = \"\"\"\n",
    "np.random.seed(41)\n",
    "a= np.random.randint(0, 255, size=(3, 4))\n",
    "img = ImageMobject(np.uint8(a))\n",
    "img.height = 6\n",
    "img.set_resampling_algorithm(RESAMPLING_ALGORITHMS[\"nearest\"])\n",
    "\"\"\"\n",
    "name_snippet_pairs[image_full_name] = snippet"
   ]
  },
  {
   "cell_type": "code",
   "execution_count": 48,
   "id": "67479843-49ca-48be-95b1-f335746119f7",
   "metadata": {},
   "outputs": [
    {
     "data": {
      "image/png": "[encoded data removed]",
      "text/plain": [
       "<IPython.core.display.Image object>"
      ]
     },
     "metadata": {},
     "output_type": "display_data"
    }
   ],
   "source": [
    "%%manim $params\n",
    "\n",
    "class Example(ZoomedScene):\n",
    "    def construct(self):\n",
    "        np.random.seed(41)\n",
    "        a= np.random.randint(0, 255, size=(3, 4))\n",
    "        img = ImageMobject(np.uint8(a))\n",
    "        img.height = 6\n",
    "        img.set_resampling_algorithm(RESAMPLING_ALGORITHMS[\"cubic\"])\n",
    "        self.add(img)\n",
    "###******        \n",
    "image_full_name = \"ImageMobject_cubic.png\"\n",
    "snippet = \"\"\"\n",
    "np.random.seed(41)\n",
    "a= np.random.randint(0, 255, size=(3, 4))\n",
    "img = ImageMobject(np.uint8(a))\n",
    "img.height = 6\n",
    "img.set_resampling_algorithm(RESAMPLING_ALGORITHMS[\"cubic\"])\n",
    "\"\"\"\n",
    "name_snippet_pairs[image_full_name] = snippet"
   ]
  },
  {
   "cell_type": "code",
   "execution_count": 49,
   "id": "294bfe52-956e-44e3-9bbc-8b15144c69a7",
   "metadata": {},
   "outputs": [
    {
     "data": {
      "image/png": "[encoded data removed]",
      "text/plain": [
       "<IPython.core.display.Image object>"
      ]
     },
     "metadata": {},
     "output_type": "display_data"
    }
   ],
   "source": [
    "%%manim $params\n",
    "\n",
    "class Example(ZoomedScene):\n",
    "    def construct(self):\n",
    "        mob = SVGMobject(\"svg_logo.svg\")\n",
    "        self.add(mob)\n",
    "        self.camera.frame.scale(1/3)\n",
    "###******        \n",
    "image_full_name = \"SVGMobject.png\"\n",
    "snippet = \"\"\"\n",
    "mob = SVGMobject(\"svg_logo.svg\")\n",
    "self.add(mob)\n",
    "\"\"\"\n",
    "name_snippet_pairs[image_full_name] = snippet"
   ]
  },
  {
   "cell_type": "code",
   "execution_count": 50,
   "id": "0c2ea233-0685-4d02-bf1b-cfa5c481e075",
   "metadata": {},
   "outputs": [
    {
     "data": {
      "image/png": "[encoded data removed]",
      "text/plain": [
       "<IPython.core.display.Image object>"
      ]
     },
     "metadata": {},
     "output_type": "display_data"
    }
   ],
   "source": [
    "%%manim $params\n",
    "\n",
    "class Example(ZoomedScene):\n",
    "    def construct(self):\n",
    "        mob = Matrix([[9, 3], [1, 5]])\n",
    "        bra = mob.get_brackets()\n",
    "        bra.set_color(YELLOW)\n",
    "        self.add(mob)\n",
    "        self.camera.frame.scale(1/4)\n",
    "###******        \n",
    "image_full_name = \"Matrix.png\"\n",
    "snippet = \"\"\"\n",
    "mob = Matrix([[9, 3], [1, 5]])\n",
    "bra = mob.get_brackets()\n",
    "bra.set_color(YELLOW)\n",
    "\"\"\"\n",
    "name_snippet_pairs[image_full_name] = snippet"
   ]
  },
  {
   "cell_type": "code",
   "execution_count": 51,
   "id": "afc7349a-1d0f-4ffb-aea4-8f1fcff18054",
   "metadata": {},
   "outputs": [
    {
     "data": {
      "image/png": "[encoded data removed]",
      "text/plain": [
       "<IPython.core.display.Image object>"
      ]
     },
     "metadata": {},
     "output_type": "display_data"
    }
   ],
   "source": [
    "%%manim $params\n",
    "\n",
    "class Example(ZoomedScene):\n",
    "    def construct(self):\n",
    "        mob = Matrix([[\"\\pi\", 3], [1, 5]])\n",
    "        mob.add(SurroundingRectangle(mob.get_columns()[1]))\n",
    "        self.add(mob)\n",
    "        self.camera.frame.scale(1/4)\n",
    "###******        \n",
    "image_full_name = \"Matrix_SurroundingRectangle.png\"\n",
    "snippet = \"\"\"\n",
    "mob = Matrix([[\"\\pi\", 3], [1, 5]])\n",
    "mob.add(SurroundingRectangle(mob.get_columns()[1]))\n",
    "\"\"\"\n",
    "name_snippet_pairs[image_full_name] = snippet"
   ]
  },
  {
   "cell_type": "code",
   "execution_count": 52,
   "id": "b835bb28-b605-4c9c-bbac-3de6661a46f3",
   "metadata": {},
   "outputs": [
    {
     "data": {
      "image/png": "[encoded data removed]",
      "text/plain": [
       "<IPython.core.display.Image object>"
      ]
     },
     "metadata": {},
     "output_type": "display_data"
    }
   ],
   "source": [
    "%%manim $params\n",
    "\n",
    "class Example(ZoomedScene):\n",
    "    def construct(self):\n",
    "        a = Circle(color=YELLOW).scale(0.3)\n",
    "        b = Square().scale(0.3)\n",
    "        c = MathTex(\"\\pi\").scale(2)\n",
    "        d = Star(color=YELLOW).scale(0.3)\n",
    "        mob = MobjectMatrix([[a, b], [c, d]])\n",
    "        self.add(mob)\n",
    "        self.camera.frame.scale(1/3.5)\n",
    "###******        \n",
    "image_full_name = \"MobjectMatrix.png\"\n",
    "snippet = \"\"\"\n",
    "a = Circle(color=YELLOW).scale(0.3)\n",
    "b = Square().scale(0.3)\n",
    "c = MathTex(\"\\pi\").scale(2)\n",
    "d = Star(color=YELLOW).scale(0.3)\n",
    "mob = MobjectMatrix([[a, b], [c, d]])\n",
    "\"\"\"\n",
    "name_snippet_pairs[image_full_name] = snippet\n"
   ]
  },
  {
   "cell_type": "code",
   "execution_count": 53,
   "id": "fbb9aa6e-9554-4aea-81c6-96bd598ddf9e",
   "metadata": {},
   "outputs": [
    {
     "data": {
      "image/png": "[encoded data removed]",
      "text/plain": [
       "<IPython.core.display.Image object>"
      ]
     },
     "metadata": {},
     "output_type": "display_data"
    }
   ],
   "source": [
    "%%manim $params\n",
    "\n",
    "class Example(ZoomedScene):\n",
    "    def construct(self):\n",
    "        mob = Matrix([[2, 0, 4], [-1, 1, 5]],\n",
    "            v_buff=0.8,\n",
    "            h_buff=0.8,\n",
    "            bracket_h_buff=SMALL_BUFF,\n",
    "            bracket_v_buff=SMALL_BUFF,\n",
    "            left_bracket=\"\\{\",\n",
    "            right_bracket=\"\\}\")\n",
    "        mob.set_row_colors(YELLOW, YELLOW)\n",
    "        self.add(mob)\n",
    "        self.camera.frame.scale(1/4)\n",
    "###******        \n",
    "image_full_name = \"Matrix_bracket.png\"\n",
    "snippet = \"\"\"\n",
    "mob = Matrix([[2, 0, 4], [-1, 1, 5]],\n",
    "            v_buff=0.8,\n",
    "            h_buff=0.8,\n",
    "            bracket_h_buff=SMALL_BUFF,\n",
    "            bracket_v_buff=SMALL_BUFF,\n",
    "            left_bracket=\"\\{\",\n",
    "            right_bracket=\"\\}\")\n",
    "mob.set_row_colors(YELLOW, YELLOW)\n",
    "\"\"\"\n",
    "name_snippet_pairs[image_full_name] = snippet"
   ]
  },
  {
   "cell_type": "code",
   "execution_count": 54,
   "id": "ab229e3b-c831-4cb2-8bad-6e61717b0263",
   "metadata": {},
   "outputs": [
    {
     "data": {
      "image/png": "[encoded data removed]",
      "text/plain": [
       "<IPython.core.display.Image object>"
      ]
     },
     "metadata": {},
     "output_type": "display_data"
    }
   ],
   "source": [
    "%%manim $params\n",
    "class Example(ZoomedScene):\n",
    "    def construct(self):\n",
    "        self.camera.background_color = \"#ece6e2\"\n",
    "        code= 'j = 1 \\nk = \"Hello\"'\n",
    "        rendered_code = Code(code=code, background_stroke_color= WHITE, tab_width=2, background=\"window\",\n",
    "                            language=\"Python\", font=\"Monospace\").scale(4)\n",
    "        self.add(rendered_code)\n",
    "###******       \n",
    "image_full_name = \"Code.png\"\n",
    "code= 'j = 1 \\nk = \"Hello\"'\n",
    "rendered_code = Code(code=code, background_stroke_color= WHITE, tab_width=2, background=\"window\",\n",
    "                    language=\"Python\", font=\"Monospace\").scale(4)\n",
    "name_snippet_pairs[image_full_name] = snippet"
   ]
  },
  {
   "cell_type": "code",
   "execution_count": 55,
   "id": "bbde775b-f785-4f61-b8cf-70501d5cf2fb",
   "metadata": {},
   "outputs": [
    {
     "name": "stdout",
     "output_type": "stream",
     "text": [
      "Number: 1\n",
      "Number: 2\n",
      "Number: 4\n",
      "Number: 8\n",
      "Number: 16\n",
      "Number: 32\n",
      "Number: 64\n",
      "Number: 128\n",
      "Number: 256\n",
      "Number: 512\n"
     ]
    }
   ],
   "source": [
    "for i in range(0,10):\n",
    "    num=2**i\n",
    "    print(f\"Number: {num}\")"
   ]
  },
  {
   "cell_type": "code",
   "execution_count": 56,
   "id": "39c5518d-2cf7-414c-a4e3-b2d5ed032406",
   "metadata": {},
   "outputs": [
    {
     "data": {
      "image/png": "[encoded data removed]",
      "text/plain": [
       "<IPython.core.display.Image object>"
      ]
     },
     "metadata": {},
     "output_type": "display_data"
    }
   ],
   "source": [
    "%%manim $params\n",
    "class Example(ZoomedScene):\n",
    "    def construct(self):\n",
    "        number_plane = NumberPlane(\n",
    "            x_range=[-10, 10, 1],\n",
    "            y_range=[-10, 10, 1],\n",
    "            stroke_width=100,\n",
    "            axis_config = {\n",
    "                \"stroke_color\": YELLOW,\n",
    "                \"stroke_width\": 20,\n",
    "            },\n",
    "            background_line_style={\n",
    "                \"stroke_color\": GREY,\n",
    "                \"stroke_width\": 15,\n",
    "                \"stroke_opacity\": 1\n",
    "            }\n",
    "        )\n",
    "        self.add(number_plane)\n",
    "        self.camera.frame.scale(1/2)\n",
    "###******       \n",
    "image_full_name = \"NumberPlane.png\"\n",
    "snippet =  r\"\"\"\n",
    "number_plane = NumberPlane(\n",
    "x_range=[-10, 10, 1],\n",
    "y_range=[-10, 10, 1],\n",
    "stroke_width=100,\n",
    "axis_config = {\n",
    "    \"stroke_color\": YELLOW,\n",
    "    \"stroke_width\": 20,\n",
    "},\n",
    "background_line_style={\n",
    "    \"stroke_color\": GREY,\n",
    "    \"stroke_width\": 15,\n",
    "    \"stroke_opacity\": 1\n",
    "}\n",
    ")\n",
    "self.add(number_plane)\n",
    "\"\"\"\n",
    "name_snippet_pairs[image_full_name] = snippet"
   ]
  },
  {
   "cell_type": "code",
   "execution_count": 57,
   "id": "c3f34606-da32-4b52-bc79-3dc83425bbd3",
   "metadata": {},
   "outputs": [
    {
     "data": {
      "image/png": "[encoded data removed]",
      "text/plain": [
       "<IPython.core.display.Image object>"
      ]
     },
     "metadata": {},
     "output_type": "display_data"
    }
   ],
   "source": [
    "%%manim $params\n",
    "\n",
    "class Example(ZoomedScene):\n",
    "    def construct(self):\n",
    "        mob = NumberLine(\n",
    "            x_range=[-4, 4, 2],\n",
    "            length=2,\n",
    "            color=YELLOW,\n",
    "            include_numbers=True,\n",
    "            label_direction=UP,\n",
    "        )\n",
    "\n",
    "        self.add(mob.move_to(ORIGIN))\n",
    "        self.camera.frame.scale(1/5)\n",
    "###******        \n",
    "image_full_name = \"NumberLine.png\"\n",
    "snippet = \"\"\"\n",
    "mob = NumberLine(\n",
    "    x_range=[-4, 4, 2],\n",
    "    length=2,\n",
    "    color=YELLOW,\n",
    "    include_numbers=True,\n",
    "    label_direction=UP,\n",
    ")\n",
    "\"\"\"\n",
    "name_snippet_pairs[image_full_name] = snippet"
   ]
  },
  {
   "cell_type": "code",
   "execution_count": 58,
   "id": "9b486165-84d2-48cf-8af3-b78b18516aa5",
   "metadata": {},
   "outputs": [
    {
     "data": {
      "image/png": "[encoded data removed]",
      "text/plain": [
       "<IPython.core.display.Image object>"
      ]
     },
     "metadata": {},
     "output_type": "display_data"
    }
   ],
   "source": [
    "%%manim $params\n",
    "\n",
    "class Example(ZoomedScene):\n",
    "    def construct(self):\n",
    "        mob = NumberLine(\n",
    "            x_range=[0, 4, 1],\n",
    "            length=2,\n",
    "            include_tip=True,\n",
    "            color=YELLOW,\n",
    "            include_numbers=True,\n",
    "            rotation=10 * DEGREES,\n",
    "        )\n",
    "        self.add(mob.move_to(ORIGIN))\n",
    "        self.camera.frame.scale(1/5)\n",
    "###******        \n",
    "image_full_name = \"NumberLine_rotation.png\"\n",
    "snippet = \"\"\"\n",
    "mob = NumberLine(\n",
    "    x_range=[0, 4, 1],\n",
    "    length=2,\n",
    "    include_tip=True,\n",
    "    color=YELLOW,\n",
    "    include_numbers=True,\n",
    "    rotation=10 * DEGREES,\n",
    ")\n",
    "\"\"\"\n",
    "name_snippet_pairs[image_full_name] = snippet\n"
   ]
  },
  {
   "cell_type": "code",
   "execution_count": 59,
   "id": "2a0d2f63-9f22-4b42-8cfc-d2ca71503469",
   "metadata": {},
   "outputs": [
    {
     "data": {
      "image/png": "[encoded data removed]",
      "text/plain": [
       "<IPython.core.display.Image object>"
      ]
     },
     "metadata": {},
     "output_type": "display_data"
    }
   ],
   "source": [
    "%%manim $params\n",
    "\n",
    "class Example(ZoomedScene):\n",
    "    def construct(self):\n",
    "        mob = NumberLine(\n",
    "            x_range=[-4, 4, 2.5],\n",
    "            length=3,\n",
    "            decimal_number_config={\"num_decimal_places\": 2},\n",
    "            include_numbers=True,\n",
    "        )\n",
    "        mob.numbers[2].set_color(YELLOW)\n",
    "        self.add(mob.move_to(ORIGIN))\n",
    "        self.camera.frame.scale(1/5)\n",
    "###******        \n",
    "image_full_name = \"NumberLine_decimal.png\"\n",
    "snippet = \"\"\"\n",
    "mob = NumberLine(\n",
    "    x_range=[-4, 4, 2.5],\n",
    "    length=3,\n",
    "    decimal_number_config={\"num_decimal_places\": 2},\n",
    "    include_numbers=True,\n",
    ")\n",
    "mob.numbers[2].set_color(YELLOW)\n",
    "\"\"\"\n",
    "name_snippet_pairs[image_full_name] = snippet"
   ]
  },
  {
   "cell_type": "code",
   "execution_count": 60,
   "id": "7a0cabfb-42b3-4957-af92-53aefe4dcb75",
   "metadata": {},
   "outputs": [
    {
     "data": {
      "image/png": "[encoded data removed]",
      "text/plain": [
       "<IPython.core.display.Image object>"
      ]
     },
     "metadata": {},
     "output_type": "display_data"
    }
   ],
   "source": [
    "%%manim $params\n",
    "\n",
    "class Example(ZoomedScene):\n",
    "    def construct(self):\n",
    "        vals = [1, 3, 2, 5]\n",
    "        labels = [\n",
    "            \"foo\",\n",
    "            \"bar\",\n",
    "            \"foo3\",\n",
    "            \"foo2\",\n",
    "        ]\n",
    "        colors = [\"#003f5c\", \"#58508d\", \"#bc5090\", \"#ff6361\"]\n",
    "        bar = BarChart(\n",
    "            vals,\n",
    "            max_value=max(vals),\n",
    "            bar_colors=colors,\n",
    "            bar_names=labels,\n",
    "            bar_label_scale_val=1,\n",
    "        )\n",
    "        self.add(bar)\n",
    "        self.camera.frame.scale(1/1.4)\n",
    "###******        \n",
    "image_full_name = \"BarChart.png\"\n",
    "snippet = \"\"\"\n",
    "vals = [1, 3, 2, 5]\n",
    "labels = [\n",
    "    \"foo\",\n",
    "    \"bar\",\n",
    "    \"foo3\",\n",
    "    \"foo2\",\n",
    "]\n",
    "colors = [\"#003f5c\", \"#58508d\", \"#bc5090\", \"#ff6361\"]\n",
    "bar = BarChart(\n",
    "    vals,\n",
    "    max_value=max(vals),\n",
    "    bar_colors=colors,\n",
    "    bar_names=labels,\n",
    "    bar_label_scale_val=1,\n",
    ")\n",
    "\"\"\"\n",
    "name_snippet_pairs[image_full_name] = snippet"
   ]
  },
  {
   "cell_type": "code",
   "execution_count": 61,
   "id": "1e7803e8-45ef-4950-8bc6-83628197fbdb",
   "metadata": {},
   "outputs": [
    {
     "data": {
      "image/png": "[encoded data removed]",
      "text/plain": [
       "<IPython.core.display.Image object>"
      ]
     },
     "metadata": {},
     "output_type": "display_data"
    }
   ],
   "source": [
    "%%manim $params\n",
    "\n",
    "class Example(ZoomedScene):\n",
    "    def construct(self):\n",
    "        self.camera.background_color = WHITE\n",
    "        Text.change_default(color=BLACK) # this will work from version  manim v0.11.0\n",
    "        Line.change_default(color=YELLOW)\n",
    "        Line.change_default(stroke_width=20)\n",
    "\n",
    "        mob = Text(\"Light Mode\") \n",
    "        l=Line(2*LEFT,2*RIGHT).next_to(mob,DOWN)\n",
    "        self.add(mob,l)\n",
    "\n",
    "        self.camera.frame.scale(1/4)\n",
    "###******        \n",
    "image_full_name = \"Light_change_default.png\"\n",
    "snippet = \"\"\"\n",
    "self.camera.background_color = WHITE\n",
    "Text.change_default(color=BLACK) # this will work from version  manim v0.11.0\n",
    "Line.change_default(color=YELLOW)\n",
    "Line.change_default(stroke_width=20)\n",
    "\n",
    "mob = Text(\"White Mode\") \n",
    "l=Line(2*LEFT,2*RIGHT).next_to(mob,DOWN)\n",
    "\"\"\"\n",
    "name_snippet_pairs[image_full_name] = snippet"
   ]
  },
  {
   "cell_type": "markdown",
   "id": "7150aa82-899b-49cd-bcad-344ef8bb3e9c",
   "metadata": {},
   "source": [
    "# Save here!"
   ]
  },
  {
   "cell_type": "code",
   "execution_count": null,
   "id": "bfe7589d-7743-4dd2-98ae-291eb6f0a45e",
   "metadata": {},
   "outputs": [],
   "source": [
    "#pip install ipylab\n",
    "from ipylab import JupyterFrontEnd\n",
    "\n",
    "app = JupyterFrontEnd()\n",
    "app.commands.execute('docmanager:save')"
   ]
  },
  {
   "cell_type": "code",
   "execution_count": null,
   "id": "224d81aa-cc4d-41a5-b329-c1f8375e89c0",
   "metadata": {},
   "outputs": [],
   "source": [
    "file_name = \"Mobjects_Basics\""
   ]
  },
  {
   "cell_type": "code",
   "execution_count": null,
   "id": "b96dd10b-3830-4208-a2fd-7fe9e1c3e577",
   "metadata": {},
   "outputs": [],
   "source": [
    "folder_name = file_name + \"_files\"\n",
    "notebook_name = file_name + \".ipynb\"\n",
    "markdown_name = file_name + \".md\"\n",
    "!rm -r $folder_name\n",
    "!jupyter nbconvert $notebook_name --to markdown\n",
    "!rm -r $markdown_name\n",
    "base_directory = Path.cwd() / folder_name\n",
    "target_directory = Path.cwd() / \"imgs\"\n",
    "target_directory.mkdir(parents=True, exist_ok=True)\n",
    "\n",
    "prefix = file_name # delete files that where created in the past \n",
    "for file in target_directory.rglob(\"*\"):\n",
    "    if (prefix in file.name):\n",
    "        file.unlink() \n",
    "\n",
    "paths = sorted(Path(base_directory).iterdir(), key=os.path.getmtime)\n",
    "dest_names = list(name_snippet_pairs.keys())\n",
    "new_keys = []\n",
    "for num, (p,des) in enumerate(zip(paths,dest_names)):\n",
    "    to_path = target_directory /  f\"{file_name}_{num:03}_{des}\"   \n",
    "    shutil.copy(p,  to_path)\n",
    "    new_keys.append(to_path.name)\n",
    "    \n",
    "new_name_snippet_pairs ={} \n",
    "new_values = list(name_snippet_pairs.values())\n",
    "for key, value in zip(new_keys,new_values):\n",
    "    if value.startswith(\"\\n\"):\n",
    "        value = value[1:]\n",
    "    if value.endswith(\"\\n\"):\n",
    "        value = value[:-1]\n",
    "    new_name_snippet_pairs[key]=value\n",
    "with open(f'imgs/{file_name}.json', 'w') as fp:\n",
    "    json.dump(new_name_snippet_pairs, fp,indent=2)\n",
    "display(new_name_snippet_pairs)\n",
    "!rm -r $folder_name\n",
    "!git add ."
   ]
  },
  {
   "cell_type": "code",
   "execution_count": null,
   "id": "3cdb3ae6-e42b-4173-982d-b8f73902559c",
   "metadata": {},
   "outputs": [],
   "source": []
  }
 ],
 "metadata": {
  "interpreter": {
   "hash": "956ae1017c005de10cf980548dc93247cd70ec3257bcb31b6a6c2783ea7553f4"
  },
  "kernelspec": {
   "display_name": "Python 3",
   "language": "python",
   "name": "python3"
  },
  "language_info": {
   "codemirror_mode": {
    "name": "ipython",
    "version": 3
   },
   "file_extension": ".py",
   "mimetype": "text/x-python",
   "name": "python",
   "nbconvert_exporter": "python",
   "pygments_lexer": "ipython3",
   "version": "3.9.5"
  }
 },
 "nbformat": 4,
 "nbformat_minor": 5
}
