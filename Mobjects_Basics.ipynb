{
 "cells": [
  {
   "cell_type": "code",
   "execution_count": 1,
   "id": "e4ba2c91-b12e-4d60-98e6-7e51046d5745",
   "metadata": {},
   "outputs": [
    {
     "data": {
      "text/html": [
       "<pre style=\"white-space:pre;overflow-x:auto;line-height:normal;font-family:Menlo,'DejaVu Sans Mono',consolas,'Courier New',monospace\">Manim Community <span style=\"color: #008000; text-decoration-color: #008000\">v0.10.0</span>\n",
       "\n",
       "</pre>\n"
      ],
      "text/plain": [
       "Manim Community \u001b[32mv0.\u001b[0m\u001b[32m10.0\u001b[0m\n",
       "\n"
      ]
     },
     "metadata": {},
     "output_type": "display_data"
    }
   ],
   "source": [
    "from manim import *\n",
    "from pathlib import Path\n",
    "import shutil\n",
    "import time\n",
    "import json\n",
    "\n",
    "params = \" -v WARNING -r 80,40 -s  --disable_caching Example\"\n",
    "\n",
    "#def latest_file(path: Path, pattern: str = \"*\"):\n",
    "#   files = path.glob(pattern)\n",
    "#   return max(files, key=lambda x: x.stat().st_ctime)\n",
    "\n",
    "def save_image(name):\n",
    "    #from_file = latest_file(Path(\"./media/images/mobject-gallery\"))\n",
    "    from_file = Path(\"./media/images/mobject-gallery/Example_ManimCE_v0.10.0.png\")\n",
    "    to_file = Path.cwd() / name\n",
    "    shutil.copy(from_file, to_file)\n",
    "    \n",
    "name_snippet_pairs = {}"
   ]
  },
  {
   "cell_type": "markdown",
   "id": "4863ffad-8ac7-4370-accd-a089ad2f02ff",
   "metadata": {},
   "source": [
    "# ----------------"
   ]
  },
  {
   "cell_type": "code",
   "execution_count": 2,
   "id": "3d228c15",
   "metadata": {},
   "outputs": [
    {
     "data": {
      "image/png": "[encoded data removed]",
      "text/plain": [
       "<IPython.core.display.Image object>"
      ]
     },
     "metadata": {},
     "output_type": "display_data"
    }
   ],
   "source": [
    "%%manim $params\n",
    "class Example(ZoomedScene):\n",
    "    def construct(self):\n",
    "        self.camera.frame.scale(1/20)\n",
    "        d = Dot(color = YELLOW)\n",
    "        self.add(d)\n",
    "###******        \n",
    "category = \"basics01\"\n",
    "image_file_name = \"dot.png\"\n",
    "snippet = \"d = Dot(color = YELLOW)\""
   ]
  },
  {
   "cell_type": "code",
   "execution_count": 3,
   "id": "fb6da625-026b-45d0-a22c-8a69c0467962",
   "metadata": {},
   "outputs": [],
   "source": [
    "image_full_name = category + \"_\" + image_file_name\n",
    "save_image(image_full_name)\n",
    "name_snippet_pairs[image_full_name] = snippet"
   ]
  },
  {
   "cell_type": "markdown",
   "id": "518357a2-5d24-4ce2-bb77-b180b0da3ea5",
   "metadata": {},
   "source": [
    "# ----------------"
   ]
  },
  {
   "cell_type": "code",
   "execution_count": 4,
   "id": "ad594e35",
   "metadata": {},
   "outputs": [
    {
     "data": {
      "image/png": "[encoded data removed]",
      "text/plain": [
       "<IPython.core.display.Image object>"
      ]
     },
     "metadata": {},
     "output_type": "display_data"
    }
   ],
   "source": [
    "%%manim $params\n",
    "class Example(ZoomedScene):\n",
    "    def construct(self):\n",
    "        mob= Circle(color= YELLOW)\n",
    "        self.add(mob)\n",
    "        mob.scale(0.1)\n",
    "        self.camera.frame.scale(1/25)\n",
    "###******        \n",
    "category = \"basics02\"\n",
    "image_file_name = \"circle.png\"\n",
    "snippet = \"circle = Circle(color= YELLOW)\""
   ]
  },
  {
   "cell_type": "code",
   "execution_count": 5,
   "id": "db6d50e4-9da3-4a96-96fd-1c6d88d0e44d",
   "metadata": {},
   "outputs": [],
   "source": [
    "image_full_name = category + \"_\" + image_file_name\n",
    "save_image(image_full_name)\n",
    "name_snippet_pairs[image_full_name] = snippet"
   ]
  },
  {
   "cell_type": "markdown",
   "id": "1f8f6f69-74c4-42bd-9672-f54c6aff05e3",
   "metadata": {},
   "source": [
    "# ----------------\n"
   ]
  },
  {
   "cell_type": "code",
   "execution_count": 6,
   "id": "78d4b603",
   "metadata": {},
   "outputs": [
    {
     "data": {
      "image/png": "[encoded data removed]",
      "text/plain": [
       "<IPython.core.display.Image object>"
      ]
     },
     "metadata": {},
     "output_type": "display_data"
    }
   ],
   "source": [
    "%%manim $params\n",
    "class Example(ZoomedScene):\n",
    "    def construct(self):\n",
    "        mob= Square(color= YELLOW)\n",
    "        self.add(mob)\n",
    "        mob.scale(0.1)\n",
    "        self.camera.frame.scale(1/25)\n",
    "###******        \n",
    "category = \"basics03\"\n",
    "image_file_name = \"square.png\"\n",
    "snippet = \"square = Square(color= YELLOW)\""
   ]
  },
  {
   "cell_type": "code",
   "execution_count": 7,
   "id": "71a9366d-cf68-4d7b-b647-d34d98799edd",
   "metadata": {},
   "outputs": [],
   "source": [
    "image_full_name = category + \"_\" + image_file_name\n",
    "save_image(image_full_name)\n",
    "name_snippet_pairs[image_full_name] = snippet"
   ]
  },
  {
   "cell_type": "markdown",
   "id": "ed311019-e6bd-4e3d-8626-aac82ba3dddf",
   "metadata": {},
   "source": [
    "# ----------------"
   ]
  },
  {
   "cell_type": "code",
   "execution_count": 8,
   "id": "bc54081a",
   "metadata": {},
   "outputs": [
    {
     "data": {
      "image/png": "[encoded data removed]",
      "text/plain": [
       "<IPython.core.display.Image object>"
      ]
     },
     "metadata": {},
     "output_type": "display_data"
    }
   ],
   "source": [
    "%%manim $params\n",
    "class Example(ZoomedScene):\n",
    "    def construct(self):\n",
    "        mob = Line(color= YELLOW)\n",
    "        self.add(mob)\n",
    "        mob.scale(0.1)\n",
    "        self.camera.frame.scale(1/25)\n",
    "###******        \n",
    "category = \"basics04\"\n",
    "image_file_name = \"line.png\"\n",
    "snippet = \"line = Line(color= YELLOW)\""
   ]
  },
  {
   "cell_type": "code",
   "execution_count": 9,
   "id": "0b34e199-d4d7-488f-b082-c3079505abf1",
   "metadata": {},
   "outputs": [],
   "source": [
    "image_full_name = category + \"_\" + image_file_name\n",
    "save_image(image_full_name)\n",
    "name_snippet_pairs[image_full_name] = snippet"
   ]
  },
  {
   "cell_type": "markdown",
   "id": "32ff193f-16d1-4e36-9184-bbb763a27d00",
   "metadata": {},
   "source": [
    "# ----------------"
   ]
  },
  {
   "cell_type": "code",
   "execution_count": 10,
   "id": "ca89b62d",
   "metadata": {},
   "outputs": [
    {
     "data": {
      "image/png": "[encoded data removed]",
      "text/plain": [
       "<IPython.core.display.Image object>"
      ]
     },
     "metadata": {},
     "output_type": "display_data"
    }
   ],
   "source": [
    "%%manim $params\n",
    "class Example(ZoomedScene):\n",
    "    def construct(self):\n",
    "        mob= Star(color= YELLOW)\n",
    "        mob.move_to(ORIGIN)\n",
    "        self.add(mob)\n",
    "        mob.scale(0.1)\n",
    "        self.camera.frame.scale(1/25)\n",
    "###******        \n",
    "category = \"basics05\"\n",
    "image_file_name = \"star.png\"\n",
    "snippet = \"star = Star(color = YELLOW)\""
   ]
  },
  {
   "cell_type": "code",
   "execution_count": 11,
   "id": "919d96ef-f910-4289-a7ed-19b54b765d26",
   "metadata": {},
   "outputs": [],
   "source": [
    "image_full_name = category + \"_\" + image_file_name\n",
    "save_image(image_full_name)\n",
    "name_snippet_pairs[image_full_name] = snippet"
   ]
  },
  {
   "cell_type": "markdown",
   "id": "2ee59eea-27a8-4de3-a260-0c5af3b0e37b",
   "metadata": {},
   "source": [
    "# ----------------"
   ]
  },
  {
   "cell_type": "code",
   "execution_count": 92,
   "id": "9075a9c7-0eff-4eea-8ce7-dc533bc54120",
   "metadata": {},
   "outputs": [
    {
     "data": {
      "image/png": "[encoded data removed]",
      "text/plain": [
       "<IPython.core.display.Image object>"
      ]
     },
     "metadata": {},
     "output_type": "display_data"
    }
   ],
   "source": [
    "%%manim $params\n",
    "class Example(ZoomedScene):\n",
    "    def construct(self):\n",
    "        mob= Triangle(color= YELLOW)\n",
    "        mob.move_to(ORIGIN)\n",
    "        self.add(mob)\n",
    "        mob.scale(0.1)\n",
    "        self.camera.frame.scale(1/25)\n",
    "###******        \n",
    "category = \"basics06\"\n",
    "image_file_name = \"triangle.png\"\n",
    "snippet = \"star = Triangle(color = YELLOW)\""
   ]
  },
  {
   "cell_type": "code",
   "execution_count": 93,
   "id": "3d45a4e7-c83e-469f-b426-8b797085d747",
   "metadata": {},
   "outputs": [],
   "source": [
    "image_full_name = category + \"_\" + image_file_name\n",
    "save_image(image_full_name)\n",
    "name_snippet_pairs[image_full_name] = snippet"
   ]
  },
  {
   "cell_type": "markdown",
   "id": "f5ca20cb-d1e5-44a7-aa2c-51c33a406c86",
   "metadata": {},
   "source": [
    "# ----------------"
   ]
  },
  {
   "cell_type": "code",
   "execution_count": 94,
   "id": "2d23b37a-295e-48a8-9341-54da3e5ef138",
   "metadata": {},
   "outputs": [
    {
     "data": {
      "image/png": "[encoded data removed]",
      "text/plain": [
       "<IPython.core.display.Image object>"
      ]
     },
     "metadata": {},
     "output_type": "display_data"
    }
   ],
   "source": [
    "%%manim $params\n",
    "class Example(ZoomedScene):\n",
    "    def construct(self):\n",
    "        mob= Ellipse(color= YELLOW)\n",
    "        mob.move_to(ORIGIN)\n",
    "        self.add(mob)\n",
    "        mob.scale(0.1)\n",
    "        self.camera.frame.scale(1/25)\n",
    "###******        \n",
    "category = \"basics07\"\n",
    "image_file_name = \"ellipse.png\"\n",
    "snippet = \"star = Ellipse(color = YELLOW)\""
   ]
  },
  {
   "cell_type": "code",
   "execution_count": 95,
   "id": "b4d73320-fbcd-403f-ba13-04ece1106710",
   "metadata": {},
   "outputs": [],
   "source": [
    "image_full_name = category + \"_\" + image_file_name\n",
    "save_image(image_full_name)\n",
    "name_snippet_pairs[image_full_name] = snippet"
   ]
  },
  {
   "cell_type": "markdown",
   "id": "6dbca066-682b-4133-a6c0-162e322a783a",
   "metadata": {},
   "source": [
    "# ----------------"
   ]
  },
  {
   "cell_type": "code",
   "execution_count": 16,
   "id": "b42bf6be-ee48-49fc-a553-539674a1d09d",
   "metadata": {},
   "outputs": [
    {
     "data": {
      "image/png": "[encoded data removed]",
      "text/plain": [
       "<IPython.core.display.Image object>"
      ]
     },
     "metadata": {},
     "output_type": "display_data"
    }
   ],
   "source": [
    "%%manim $params\n",
    "class Example(ZoomedScene):\n",
    "    def construct(self):\n",
    "        mob= Star(color= YELLOW)\n",
    "        mob.move_to(ORIGIN)\n",
    "        self.add(mob)\n",
    "        mob.scale(0.1)\n",
    "        self.camera.frame.scale(1/25)\n",
    "###******        \n",
    "category = \"basics05\"\n",
    "image_file_name = \"star.png\"\n",
    "snippet = \"star = Star(color = YELLOW)\""
   ]
  },
  {
   "cell_type": "code",
   "execution_count": 17,
   "id": "11d58e05-7552-4a4e-9ec2-e847106d0f2b",
   "metadata": {},
   "outputs": [],
   "source": [
    "image_full_name = category + \"_\" + image_file_name\n",
    "save_image(image_full_name)\n",
    "name_snippet_pairs[image_full_name] = snippet"
   ]
  },
  {
   "cell_type": "markdown",
   "id": "b9288da0-6c36-4666-830c-e2cd1292f50f",
   "metadata": {},
   "source": [
    "# ----------------"
   ]
  },
  {
   "cell_type": "code",
   "execution_count": 18,
   "id": "843b17ff-db31-46d8-b3e5-c0a04489b0b4",
   "metadata": {},
   "outputs": [
    {
     "data": {
      "image/png": "[encoded data removed]",
      "text/plain": [
       "<IPython.core.display.Image object>"
      ]
     },
     "metadata": {},
     "output_type": "display_data"
    }
   ],
   "source": [
    "%%manim $params\n",
    "class Example(ZoomedScene):\n",
    "    def construct(self):\n",
    "        mob= Star(color= YELLOW)\n",
    "        mob.move_to(ORIGIN)\n",
    "        self.add(mob)\n",
    "        mob.scale(0.1)\n",
    "        self.camera.frame.scale(1/25)\n",
    "###******        \n",
    "category = \"basics05\"\n",
    "image_file_name = \"star.png\"\n",
    "snippet = \"star = Star(color = YELLOW)\""
   ]
  },
  {
   "cell_type": "code",
   "execution_count": 19,
   "id": "867bac9c-bde6-40fc-bf8d-bb2f9634a4e7",
   "metadata": {},
   "outputs": [],
   "source": [
    "image_full_name = category + \"_\" + image_file_name\n",
    "save_image(image_full_name)\n",
    "name_snippet_pairs[image_full_name] = snippet"
   ]
  },
  {
   "cell_type": "markdown",
   "id": "c175d9a4-4e39-4077-ae4e-33ae001a1216",
   "metadata": {},
   "source": [
    "# ----------------"
   ]
  },
  {
   "cell_type": "code",
   "execution_count": 20,
   "id": "1b16df4a-ba62-4f30-834b-7ff36abddd2e",
   "metadata": {},
   "outputs": [
    {
     "data": {
      "image/png": "[encoded data removed]",
      "text/plain": [
       "<IPython.core.display.Image object>"
      ]
     },
     "metadata": {},
     "output_type": "display_data"
    }
   ],
   "source": [
    "%%manim $params\n",
    "class Example(ZoomedScene):\n",
    "    def construct(self):\n",
    "        mob= Star(color= YELLOW)\n",
    "        mob.move_to(ORIGIN)\n",
    "        self.add(mob)\n",
    "        mob.scale(0.1)\n",
    "        self.camera.frame.scale(1/25)\n",
    "###******        \n",
    "category = \"basics05\"\n",
    "image_file_name = \"star.png\"\n",
    "snippet = \"star = Star(color = YELLOW)\""
   ]
  },
  {
   "cell_type": "code",
   "execution_count": 21,
   "id": "e42d8b77-ed53-4fc1-b507-68db0dc26011",
   "metadata": {},
   "outputs": [],
   "source": [
    "image_full_name = category + \"_\" + image_file_name\n",
    "save_image(image_full_name)\n",
    "name_snippet_pairs[image_full_name] = snippet"
   ]
  },
  {
   "cell_type": "markdown",
   "id": "b0793a99-569f-44b1-81d3-af9b7ffa3f3b",
   "metadata": {},
   "source": [
    "# ----------------"
   ]
  },
  {
   "cell_type": "code",
   "execution_count": 22,
   "id": "391683c9-4224-47e0-b1ce-23a5ffdd03fe",
   "metadata": {},
   "outputs": [
    {
     "data": {
      "image/png": "[encoded data removed]",
      "text/plain": [
       "<IPython.core.display.Image object>"
      ]
     },
     "metadata": {},
     "output_type": "display_data"
    }
   ],
   "source": [
    "%%manim $params\n",
    "class Example(ZoomedScene):\n",
    "    def construct(self):\n",
    "        mob= Star(color= YELLOW)\n",
    "        mob.move_to(ORIGIN)\n",
    "        self.add(mob)\n",
    "        mob.scale(0.1)\n",
    "        self.camera.frame.scale(1/25)\n",
    "###******        \n",
    "category = \"basics05\"\n",
    "image_file_name = \"star.png\"\n",
    "snippet = \"star = Star(color = YELLOW)\""
   ]
  },
  {
   "cell_type": "code",
   "execution_count": 23,
   "id": "64648a78-0ca0-435b-b3dd-bc2092ca75d5",
   "metadata": {},
   "outputs": [],
   "source": [
    "image_full_name = category + \"_\" + image_file_name\n",
    "save_image(image_full_name)\n",
    "name_snippet_pairs[image_full_name] = snippet"
   ]
  },
  {
   "cell_type": "markdown",
   "id": "d8d294f7-9a7b-424c-b202-62447415b85c",
   "metadata": {},
   "source": [
    "# ----------------"
   ]
  },
  {
   "cell_type": "code",
   "execution_count": 24,
   "id": "2ba5812d-7c59-405a-8319-b8d3c8cc68b5",
   "metadata": {},
   "outputs": [
    {
     "data": {
      "image/png": "[encoded data removed]",
      "text/plain": [
       "<IPython.core.display.Image object>"
      ]
     },
     "metadata": {},
     "output_type": "display_data"
    }
   ],
   "source": [
    "%%manim $params\n",
    "class Example(ZoomedScene):\n",
    "    def construct(self):\n",
    "        mob= Star(color= YELLOW)\n",
    "        mob.move_to(ORIGIN)\n",
    "        self.add(mob)\n",
    "        mob.scale(0.1)\n",
    "        self.camera.frame.scale(1/25)\n",
    "###******        \n",
    "category = \"basics05\"\n",
    "image_file_name = \"star.png\"\n",
    "snippet = \"star = Star(color = YELLOW)\""
   ]
  },
  {
   "cell_type": "code",
   "execution_count": 25,
   "id": "2395d00b-d6d4-43f4-845f-640e8078e851",
   "metadata": {},
   "outputs": [],
   "source": [
    "image_full_name = category + \"_\" + image_file_name\n",
    "save_image(image_full_name)\n",
    "name_snippet_pairs[image_full_name] = snippet"
   ]
  },
  {
   "cell_type": "markdown",
   "id": "0301cd57-60e3-4286-818b-e5fd76f18a34",
   "metadata": {},
   "source": [
    "# ----------------"
   ]
  },
  {
   "cell_type": "code",
   "execution_count": 26,
   "id": "516e4398-e2bc-4581-b1cd-e6d98271aa9c",
   "metadata": {},
   "outputs": [
    {
     "data": {
      "image/png": "[encoded data removed]",
      "text/plain": [
       "<IPython.core.display.Image object>"
      ]
     },
     "metadata": {},
     "output_type": "display_data"
    }
   ],
   "source": [
    "%%manim $params\n",
    "class Example(ZoomedScene):\n",
    "    def construct(self):\n",
    "        mob= Star(color= YELLOW)\n",
    "        mob.move_to(ORIGIN)\n",
    "        self.add(mob)\n",
    "        mob.scale(0.1)\n",
    "        self.camera.frame.scale(1/25)\n",
    "###******        \n",
    "category = \"basics05\"\n",
    "image_file_name = \"star.png\"\n",
    "snippet = \"star = Star(color = YELLOW)\""
   ]
  },
  {
   "cell_type": "code",
   "execution_count": 27,
   "id": "f8380a45-07eb-4638-87ab-23090f379c14",
   "metadata": {},
   "outputs": [],
   "source": [
    "image_full_name = category + \"_\" + image_file_name\n",
    "save_image(image_full_name)\n",
    "name_snippet_pairs[image_full_name] = snippet"
   ]
  },
  {
   "cell_type": "markdown",
   "id": "3c6042b0-e3e2-490c-bdbf-69ddaa7e790d",
   "metadata": {},
   "source": [
    "# ----------------"
   ]
  },
  {
   "cell_type": "code",
   "execution_count": 28,
   "id": "4015dfca-a929-4760-a33b-3e406e6f5acc",
   "metadata": {},
   "outputs": [
    {
     "data": {
      "image/png": "[encoded data removed]",
      "text/plain": [
       "<IPython.core.display.Image object>"
      ]
     },
     "metadata": {},
     "output_type": "display_data"
    }
   ],
   "source": [
    "%%manim $params\n",
    "class Example(ZoomedScene):\n",
    "    def construct(self):\n",
    "        mob= Star(color= YELLOW)\n",
    "        mob.move_to(ORIGIN)\n",
    "        self.add(mob)\n",
    "        mob.scale(0.1)\n",
    "        self.camera.frame.scale(1/25)\n",
    "###******        \n",
    "category = \"basics05\"\n",
    "image_file_name = \"star.png\"\n",
    "snippet = \"star = Star(color = YELLOW)\""
   ]
  },
  {
   "cell_type": "code",
   "execution_count": 29,
   "id": "1fa73fc7-27d4-437d-8512-133b3b14f9f8",
   "metadata": {},
   "outputs": [],
   "source": [
    "image_full_name = category + \"_\" + image_file_name\n",
    "save_image(image_full_name)\n",
    "name_snippet_pairs[image_full_name] = snippet"
   ]
  },
  {
   "cell_type": "markdown",
   "id": "a1354bbf-0a7c-40f3-9819-e069f7d957d1",
   "metadata": {},
   "source": [
    "# ----------------"
   ]
  },
  {
   "cell_type": "code",
   "execution_count": 30,
   "id": "f09cacf3-3140-407f-bcf7-a0030e4cb4d9",
   "metadata": {},
   "outputs": [
    {
     "data": {
      "image/png": "[encoded data removed]",
      "text/plain": [
       "<IPython.core.display.Image object>"
      ]
     },
     "metadata": {},
     "output_type": "display_data"
    }
   ],
   "source": [
    "%%manim $params\n",
    "class Example(ZoomedScene):\n",
    "    def construct(self):\n",
    "        mob= Star(color= YELLOW)\n",
    "        mob.move_to(ORIGIN)\n",
    "        self.add(mob)\n",
    "        mob.scale(0.1)\n",
    "        self.camera.frame.scale(1/25)\n",
    "###******        \n",
    "category = \"basics05\"\n",
    "image_file_name = \"star.png\"\n",
    "snippet = \"star = Star(color = YELLOW)\""
   ]
  },
  {
   "cell_type": "code",
   "execution_count": 31,
   "id": "11128ef1-3e10-4077-a84d-096583f14973",
   "metadata": {},
   "outputs": [],
   "source": [
    "image_full_name = category + \"_\" + image_file_name\n",
    "save_image(image_full_name)\n",
    "name_snippet_pairs[image_full_name] = snippet"
   ]
  },
  {
   "cell_type": "markdown",
   "id": "0ef7714b-1c3c-46b7-82f5-515b8e394f3f",
   "metadata": {},
   "source": [
    "# ----------------"
   ]
  },
  {
   "cell_type": "code",
   "execution_count": 32,
   "id": "a61ba334-9371-44bd-b88f-e34fa1656119",
   "metadata": {},
   "outputs": [
    {
     "data": {
      "image/png": "[encoded data removed]",
      "text/plain": [
       "<IPython.core.display.Image object>"
      ]
     },
     "metadata": {},
     "output_type": "display_data"
    }
   ],
   "source": [
    "%%manim $params\n",
    "class Example(ZoomedScene):\n",
    "    def construct(self):\n",
    "        mob= Star(color= YELLOW)\n",
    "        mob.move_to(ORIGIN)\n",
    "        self.add(mob)\n",
    "        mob.scale(0.1)\n",
    "        self.camera.frame.scale(1/25)\n",
    "###******        \n",
    "category = \"basics05\"\n",
    "image_file_name = \"star.png\"\n",
    "snippet = \"star = Star(color = YELLOW)\""
   ]
  },
  {
   "cell_type": "code",
   "execution_count": 33,
   "id": "5713c53c-b32d-403d-8872-75629178314a",
   "metadata": {},
   "outputs": [],
   "source": [
    "image_full_name = category + \"_\" + image_file_name\n",
    "save_image(image_full_name)\n",
    "name_snippet_pairs[image_full_name] = snippet"
   ]
  },
  {
   "cell_type": "markdown",
   "id": "ba207a90-e9cf-4ac3-b5b3-452811846ee4",
   "metadata": {},
   "source": [
    "# ----------------"
   ]
  },
  {
   "cell_type": "code",
   "execution_count": 34,
   "id": "ef7c3b5f-feb9-45f1-88a8-9b9347e8cc25",
   "metadata": {},
   "outputs": [
    {
     "data": {
      "image/png": "[encoded data removed]",
      "text/plain": [
       "<IPython.core.display.Image object>"
      ]
     },
     "metadata": {},
     "output_type": "display_data"
    }
   ],
   "source": [
    "%%manim $params\n",
    "class Example(ZoomedScene):\n",
    "    def construct(self):\n",
    "        mob= Star(color= YELLOW)\n",
    "        mob.move_to(ORIGIN)\n",
    "        self.add(mob)\n",
    "        mob.scale(0.1)\n",
    "        self.camera.frame.scale(1/25)\n",
    "###******        \n",
    "category = \"basics05\"\n",
    "image_file_name = \"star.png\"\n",
    "snippet = \"star = Star(color = YELLOW)\""
   ]
  },
  {
   "cell_type": "code",
   "execution_count": 35,
   "id": "50f4ec4a-489b-498c-be82-7e868082c9a5",
   "metadata": {},
   "outputs": [],
   "source": [
    "image_full_name = category + \"_\" + image_file_name\n",
    "save_image(image_full_name)\n",
    "name_snippet_pairs[image_full_name] = snippet"
   ]
  },
  {
   "cell_type": "markdown",
   "id": "d2ef0f2c-a999-41f5-9e1f-d9a818fb4213",
   "metadata": {},
   "source": [
    "# ----------------"
   ]
  },
  {
   "cell_type": "code",
   "execution_count": 36,
   "id": "9c56f95a-60a5-4afd-aba4-84dd61d165c9",
   "metadata": {},
   "outputs": [
    {
     "data": {
      "image/png": "[encoded data removed]",
      "text/plain": [
       "<IPython.core.display.Image object>"
      ]
     },
     "metadata": {},
     "output_type": "display_data"
    }
   ],
   "source": [
    "%%manim $params\n",
    "class Example(ZoomedScene):\n",
    "    def construct(self):\n",
    "        mob= Star(color= YELLOW)\n",
    "        mob.move_to(ORIGIN)\n",
    "        self.add(mob)\n",
    "        mob.scale(0.1)\n",
    "        self.camera.frame.scale(1/25)\n",
    "###******        \n",
    "category = \"basics05\"\n",
    "image_file_name = \"star.png\"\n",
    "snippet = \"star = Star(color = YELLOW)\""
   ]
  },
  {
   "cell_type": "code",
   "execution_count": 37,
   "id": "80617994-a260-4bb3-a201-afbe11d58235",
   "metadata": {},
   "outputs": [],
   "source": [
    "image_full_name = category + \"_\" + image_file_name\n",
    "save_image(image_full_name)\n",
    "name_snippet_pairs[image_full_name] = snippet"
   ]
  },
  {
   "cell_type": "markdown",
   "id": "50d4b911-f281-4db2-b037-76f15d7aa8e5",
   "metadata": {},
   "source": [
    "# ----------------"
   ]
  },
  {
   "cell_type": "code",
   "execution_count": 38,
   "id": "044c6dfa-f0d2-4b92-b66b-1f0fdfb3b2fc",
   "metadata": {},
   "outputs": [
    {
     "data": {
      "image/png": "[encoded data removed]",
      "text/plain": [
       "<IPython.core.display.Image object>"
      ]
     },
     "metadata": {},
     "output_type": "display_data"
    }
   ],
   "source": [
    "%%manim $params\n",
    "class Example(ZoomedScene):\n",
    "    def construct(self):\n",
    "        mob= Star(color= YELLOW)\n",
    "        mob.move_to(ORIGIN)\n",
    "        self.add(mob)\n",
    "        mob.scale(0.1)\n",
    "        self.camera.frame.scale(1/25)\n",
    "###******        \n",
    "category = \"basics05\"\n",
    "image_file_name = \"star.png\"\n",
    "snippet = \"star = Star(color = YELLOW)\""
   ]
  },
  {
   "cell_type": "code",
   "execution_count": 39,
   "id": "6b9dd0b3-cfc1-423b-86fe-f507ef76ccac",
   "metadata": {},
   "outputs": [],
   "source": [
    "image_full_name = category + \"_\" + image_file_name\n",
    "save_image(image_full_name)\n",
    "name_snippet_pairs[image_full_name] = snippet"
   ]
  },
  {
   "cell_type": "markdown",
   "id": "262921ab-f872-4d09-a08a-bf223aac951e",
   "metadata": {},
   "source": [
    "# ----------------"
   ]
  },
  {
   "cell_type": "code",
   "execution_count": 40,
   "id": "b7ea1325-7ea7-4d04-9571-df624eee0a5c",
   "metadata": {},
   "outputs": [
    {
     "data": {
      "image/png": "[encoded data removed]",
      "text/plain": [
       "<IPython.core.display.Image object>"
      ]
     },
     "metadata": {},
     "output_type": "display_data"
    }
   ],
   "source": [
    "%%manim $params\n",
    "class Example(ZoomedScene):\n",
    "    def construct(self):\n",
    "        mob= Star(color= YELLOW)\n",
    "        mob.move_to(ORIGIN)\n",
    "        self.add(mob)\n",
    "        mob.scale(0.1)\n",
    "        self.camera.frame.scale(1/25)\n",
    "###******        \n",
    "category = \"basics05\"\n",
    "image_file_name = \"star.png\"\n",
    "snippet = \"star = Star(color = YELLOW)\""
   ]
  },
  {
   "cell_type": "code",
   "execution_count": 41,
   "id": "c0b1490a-5b1c-4a97-bbdb-0f26b7e27b27",
   "metadata": {},
   "outputs": [],
   "source": [
    "image_full_name = category + \"_\" + image_file_name\n",
    "save_image(image_full_name)\n",
    "name_snippet_pairs[image_full_name] = snippet"
   ]
  },
  {
   "cell_type": "markdown",
   "id": "30a411bc-ae99-4007-92c7-624e494e0a79",
   "metadata": {},
   "source": [
    "# ----------------"
   ]
  },
  {
   "cell_type": "code",
   "execution_count": 42,
   "id": "b531939d-1569-445f-ba20-cd5c90ad857d",
   "metadata": {},
   "outputs": [
    {
     "data": {
      "image/png": "[encoded data removed]",
      "text/plain": [
       "<IPython.core.display.Image object>"
      ]
     },
     "metadata": {},
     "output_type": "display_data"
    }
   ],
   "source": [
    "%%manim $params\n",
    "class Example(ZoomedScene):\n",
    "    def construct(self):\n",
    "        mob= Star(color= YELLOW)\n",
    "        mob.move_to(ORIGIN)\n",
    "        self.add(mob)\n",
    "        mob.scale(0.1)\n",
    "        self.camera.frame.scale(1/25)\n",
    "###******        \n",
    "category = \"basics05\"\n",
    "image_file_name = \"star.png\"\n",
    "snippet = \"star = Star(color = YELLOW)\""
   ]
  },
  {
   "cell_type": "code",
   "execution_count": 43,
   "id": "f404fcdc-4401-443f-b490-53f6a2f6d9a9",
   "metadata": {},
   "outputs": [],
   "source": [
    "image_full_name = category + \"_\" + image_file_name\n",
    "save_image(image_full_name)\n",
    "name_snippet_pairs[image_full_name] = snippet"
   ]
  },
  {
   "cell_type": "markdown",
   "id": "5184fa58-058b-4d0e-a357-efa310b61d09",
   "metadata": {},
   "source": [
    "# ----------------"
   ]
  },
  {
   "cell_type": "code",
   "execution_count": 44,
   "id": "23ccbd1a-a344-4111-a604-885f9ecb0bac",
   "metadata": {},
   "outputs": [
    {
     "data": {
      "image/png": "[encoded data removed]",
      "text/plain": [
       "<IPython.core.display.Image object>"
      ]
     },
     "metadata": {},
     "output_type": "display_data"
    }
   ],
   "source": [
    "%%manim $params\n",
    "class Example(ZoomedScene):\n",
    "    def construct(self):\n",
    "        mob= Star(color= YELLOW)\n",
    "        mob.move_to(ORIGIN)\n",
    "        self.add(mob)\n",
    "        mob.scale(0.1)\n",
    "        self.camera.frame.scale(1/25)\n",
    "###******        \n",
    "category = \"basics05\"\n",
    "image_file_name = \"star.png\"\n",
    "snippet = \"star = Star(color = YELLOW)\""
   ]
  },
  {
   "cell_type": "code",
   "execution_count": 45,
   "id": "d16c7a87-22ed-4d9b-9672-030ce60dbc70",
   "metadata": {},
   "outputs": [],
   "source": [
    "image_full_name = category + \"_\" + image_file_name\n",
    "save_image(image_full_name)\n",
    "name_snippet_pairs[image_full_name] = snippet"
   ]
  },
  {
   "cell_type": "markdown",
   "id": "4093747d-f662-4c7f-bfd1-bc7d8ff4c662",
   "metadata": {},
   "source": [
    "# ----------------"
   ]
  },
  {
   "cell_type": "code",
   "execution_count": 46,
   "id": "3cedda9b-afda-4c36-ad5e-624ee2a02bbd",
   "metadata": {},
   "outputs": [
    {
     "data": {
      "image/png": "[encoded data removed]",
      "text/plain": [
       "<IPython.core.display.Image object>"
      ]
     },
     "metadata": {},
     "output_type": "display_data"
    }
   ],
   "source": [
    "%%manim $params\n",
    "class Example(ZoomedScene):\n",
    "    def construct(self):\n",
    "        mob= Star(color= YELLOW)\n",
    "        mob.move_to(ORIGIN)\n",
    "        self.add(mob)\n",
    "        mob.scale(0.1)\n",
    "        self.camera.frame.scale(1/25)\n",
    "###******        \n",
    "category = \"basics05\"\n",
    "image_file_name = \"star.png\"\n",
    "snippet = \"star = Star(color = YELLOW)\""
   ]
  },
  {
   "cell_type": "code",
   "execution_count": 47,
   "id": "517fc93c-6481-4f80-b3da-d0a459332bd9",
   "metadata": {},
   "outputs": [],
   "source": [
    "image_full_name = category + \"_\" + image_file_name\n",
    "save_image(image_full_name)\n",
    "name_snippet_pairs[image_full_name] = snippet"
   ]
  },
  {
   "cell_type": "markdown",
   "id": "7dec33b6-ff3b-403b-989e-524cacead7e3",
   "metadata": {},
   "source": [
    "# ----------------"
   ]
  },
  {
   "cell_type": "code",
   "execution_count": 48,
   "id": "a25c51c8-2f90-4196-966e-fadb39bbaef3",
   "metadata": {},
   "outputs": [
    {
     "data": {
      "image/png": "[encoded data removed]",
      "text/plain": [
       "<IPython.core.display.Image object>"
      ]
     },
     "metadata": {},
     "output_type": "display_data"
    }
   ],
   "source": [
    "%%manim $params\n",
    "class Example(ZoomedScene):\n",
    "    def construct(self):\n",
    "        mob= Star(color= YELLOW)\n",
    "        mob.move_to(ORIGIN)\n",
    "        self.add(mob)\n",
    "        mob.scale(0.1)\n",
    "        self.camera.frame.scale(1/25)\n",
    "###******        \n",
    "category = \"basics05\"\n",
    "image_file_name = \"star.png\"\n",
    "snippet = \"star = Star(color = YELLOW)\""
   ]
  },
  {
   "cell_type": "code",
   "execution_count": 49,
   "id": "eca3e0ee-6a94-4350-a150-3807d6779a6c",
   "metadata": {},
   "outputs": [],
   "source": [
    "image_full_name = category + \"_\" + image_file_name\n",
    "save_image(image_full_name)\n",
    "name_snippet_pairs[image_full_name] = snippet"
   ]
  },
  {
   "cell_type": "markdown",
   "id": "b56286b9-3d20-4bb1-a234-381f9bb5139e",
   "metadata": {},
   "source": [
    "# ----------------"
   ]
  },
  {
   "cell_type": "code",
   "execution_count": 50,
   "id": "b5fd5fa3-cc26-42c8-8d1b-ce70740d04f4",
   "metadata": {},
   "outputs": [
    {
     "data": {
      "image/png": "[encoded data removed]",
      "text/plain": [
       "<IPython.core.display.Image object>"
      ]
     },
     "metadata": {},
     "output_type": "display_data"
    }
   ],
   "source": [
    "%%manim $params\n",
    "class Example(ZoomedScene):\n",
    "    def construct(self):\n",
    "        mob= Star(color= YELLOW)\n",
    "        mob.move_to(ORIGIN)\n",
    "        self.add(mob)\n",
    "        mob.scale(0.1)\n",
    "        self.camera.frame.scale(1/25)\n",
    "###******        \n",
    "category = \"basics05\"\n",
    "image_file_name = \"star.png\"\n",
    "snippet = \"star = Star(color = YELLOW)\""
   ]
  },
  {
   "cell_type": "code",
   "execution_count": 51,
   "id": "55c5cdb0-275b-4f11-b64f-49a1706d4c95",
   "metadata": {},
   "outputs": [],
   "source": [
    "image_full_name = category + \"_\" + image_file_name\n",
    "save_image(image_full_name)\n",
    "name_snippet_pairs[image_full_name] = snippet"
   ]
  },
  {
   "cell_type": "markdown",
   "id": "6fa581f8-1701-45fc-b7fa-1e2bcaeab0ed",
   "metadata": {},
   "source": [
    "# ----------------"
   ]
  },
  {
   "cell_type": "code",
   "execution_count": 52,
   "id": "01c569e7-8020-4dd6-ae4e-518b05c3a936",
   "metadata": {},
   "outputs": [
    {
     "data": {
      "image/png": "[encoded data removed]",
      "text/plain": [
       "<IPython.core.display.Image object>"
      ]
     },
     "metadata": {},
     "output_type": "display_data"
    }
   ],
   "source": [
    "%%manim $params\n",
    "class Example(ZoomedScene):\n",
    "    def construct(self):\n",
    "        mob= Star(color= YELLOW)\n",
    "        mob.move_to(ORIGIN)\n",
    "        self.add(mob)\n",
    "        mob.scale(0.1)\n",
    "        self.camera.frame.scale(1/25)\n",
    "###******        \n",
    "category = \"basics05\"\n",
    "image_file_name = \"star.png\"\n",
    "snippet = \"star = Star(color = YELLOW)\""
   ]
  },
  {
   "cell_type": "code",
   "execution_count": 53,
   "id": "dc4dfe76-1286-4c4e-832b-a5d6810ecedb",
   "metadata": {},
   "outputs": [],
   "source": [
    "image_full_name = category + \"_\" + image_file_name\n",
    "save_image(image_full_name)\n",
    "name_snippet_pairs[image_full_name] = snippet"
   ]
  },
  {
   "cell_type": "markdown",
   "id": "5534c9ab-0487-46f6-aa9d-2c1b796e7dff",
   "metadata": {},
   "source": [
    "# ----------------"
   ]
  },
  {
   "cell_type": "code",
   "execution_count": 54,
   "id": "2cd63b10-98d7-4e36-9d61-192eead9cc4b",
   "metadata": {},
   "outputs": [
    {
     "data": {
      "image/png": "[encoded data removed]",
      "text/plain": [
       "<IPython.core.display.Image object>"
      ]
     },
     "metadata": {},
     "output_type": "display_data"
    }
   ],
   "source": [
    "%%manim $params\n",
    "class Example(ZoomedScene):\n",
    "    def construct(self):\n",
    "        mob= Star(color= YELLOW)\n",
    "        mob.move_to(ORIGIN)\n",
    "        self.add(mob)\n",
    "        mob.scale(0.1)\n",
    "        self.camera.frame.scale(1/25)\n",
    "###******        \n",
    "category = \"basics05\"\n",
    "image_file_name = \"star.png\"\n",
    "snippet = \"star = Star(color = YELLOW)\""
   ]
  },
  {
   "cell_type": "code",
   "execution_count": 55,
   "id": "a70303d0-a1e1-408b-b093-c64a0783b6f9",
   "metadata": {},
   "outputs": [],
   "source": [
    "image_full_name = category + \"_\" + image_file_name\n",
    "save_image(image_full_name)\n",
    "name_snippet_pairs[image_full_name] = snippet"
   ]
  },
  {
   "cell_type": "markdown",
   "id": "adc08cd4-2145-48b8-a170-31068e4fad3e",
   "metadata": {},
   "source": [
    "# ----------------"
   ]
  },
  {
   "cell_type": "code",
   "execution_count": 56,
   "id": "907f6650-6a21-483d-b160-9e3e43b3d6c5",
   "metadata": {},
   "outputs": [
    {
     "data": {
      "image/png": "[encoded data removed]",
      "text/plain": [
       "<IPython.core.display.Image object>"
      ]
     },
     "metadata": {},
     "output_type": "display_data"
    }
   ],
   "source": [
    "%%manim $params\n",
    "class Example(ZoomedScene):\n",
    "    def construct(self):\n",
    "        mob= Star(color= YELLOW)\n",
    "        mob.move_to(ORIGIN)\n",
    "        self.add(mob)\n",
    "        mob.scale(0.1)\n",
    "        self.camera.frame.scale(1/25)\n",
    "###******        \n",
    "category = \"basics05\"\n",
    "image_file_name = \"star.png\"\n",
    "snippet = \"star = Star(color = YELLOW)\""
   ]
  },
  {
   "cell_type": "code",
   "execution_count": 57,
   "id": "fa0efc6e-2c7b-4f5f-b427-a3231bfda1d6",
   "metadata": {},
   "outputs": [],
   "source": [
    "image_full_name = category + \"_\" + image_file_name\n",
    "save_image(image_full_name)\n",
    "name_snippet_pairs[image_full_name] = snippet"
   ]
  },
  {
   "cell_type": "markdown",
   "id": "b053e63a-b593-48af-8270-2aca680b6926",
   "metadata": {},
   "source": [
    "# ----------------"
   ]
  },
  {
   "cell_type": "code",
   "execution_count": 58,
   "id": "b81a143c-f555-41e0-a6da-86d71a286c7b",
   "metadata": {},
   "outputs": [
    {
     "data": {
      "image/png": "[encoded data removed]",
      "text/plain": [
       "<IPython.core.display.Image object>"
      ]
     },
     "metadata": {},
     "output_type": "display_data"
    }
   ],
   "source": [
    "%%manim $params\n",
    "class Example(ZoomedScene):\n",
    "    def construct(self):\n",
    "        mob= Star(color= YELLOW)\n",
    "        mob.move_to(ORIGIN)\n",
    "        self.add(mob)\n",
    "        mob.scale(0.1)\n",
    "        self.camera.frame.scale(1/25)\n",
    "###******        \n",
    "category = \"basics05\"\n",
    "image_file_name = \"star.png\"\n",
    "snippet = \"star = Star(color = YELLOW)\""
   ]
  },
  {
   "cell_type": "code",
   "execution_count": 59,
   "id": "faedbe56-ac35-4a80-88ea-83cde1f5e6d3",
   "metadata": {},
   "outputs": [],
   "source": [
    "image_full_name = category + \"_\" + image_file_name\n",
    "save_image(image_full_name)\n",
    "name_snippet_pairs[image_full_name] = snippet"
   ]
  },
  {
   "cell_type": "markdown",
   "id": "1d05699a-cd44-4253-8f23-9fef9ef01f80",
   "metadata": {},
   "source": [
    "# ----------------"
   ]
  },
  {
   "cell_type": "code",
   "execution_count": 60,
   "id": "68592e16-a0e8-4cd8-b9da-63c5cde437c8",
   "metadata": {},
   "outputs": [
    {
     "data": {
      "image/png": "[encoded data removed]",
      "text/plain": [
       "<IPython.core.display.Image object>"
      ]
     },
     "metadata": {},
     "output_type": "display_data"
    }
   ],
   "source": [
    "%%manim $params\n",
    "class Example(ZoomedScene):\n",
    "    def construct(self):\n",
    "        mob= Star(color= YELLOW)\n",
    "        mob.move_to(ORIGIN)\n",
    "        self.add(mob)\n",
    "        mob.scale(0.1)\n",
    "        self.camera.frame.scale(1/25)\n",
    "###******        \n",
    "category = \"basics05\"\n",
    "image_file_name = \"star.png\"\n",
    "snippet = \"star = Star(color = YELLOW)\""
   ]
  },
  {
   "cell_type": "code",
   "execution_count": 61,
   "id": "7e101f25-5797-468d-97fe-10926db747bc",
   "metadata": {},
   "outputs": [],
   "source": [
    "image_full_name = category + \"_\" + image_file_name\n",
    "save_image(image_full_name)\n",
    "name_snippet_pairs[image_full_name] = snippet"
   ]
  },
  {
   "cell_type": "markdown",
   "id": "c5480d3e-68aa-4470-8514-36a7df28e753",
   "metadata": {},
   "source": [
    "# ----------------"
   ]
  },
  {
   "cell_type": "code",
   "execution_count": 62,
   "id": "1a2eec70-6bb2-4f0a-86d2-57782c9534f6",
   "metadata": {},
   "outputs": [
    {
     "data": {
      "image/png": "[encoded data removed]",
      "text/plain": [
       "<IPython.core.display.Image object>"
      ]
     },
     "metadata": {},
     "output_type": "display_data"
    }
   ],
   "source": [
    "%%manim $params\n",
    "class Example(ZoomedScene):\n",
    "    def construct(self):\n",
    "        mob= Star(color= YELLOW)\n",
    "        mob.move_to(ORIGIN)\n",
    "        self.add(mob)\n",
    "        mob.scale(0.1)\n",
    "        self.camera.frame.scale(1/25)\n",
    "###******        \n",
    "category = \"basics05\"\n",
    "image_file_name = \"star.png\"\n",
    "snippet = \"star = Star(color = YELLOW)\""
   ]
  },
  {
   "cell_type": "code",
   "execution_count": 63,
   "id": "75138ad4-ed5a-47cb-9fa9-991fdfed4ab6",
   "metadata": {},
   "outputs": [],
   "source": [
    "image_full_name = category + \"_\" + image_file_name\n",
    "save_image(image_full_name)\n",
    "name_snippet_pairs[image_full_name] = snippet"
   ]
  },
  {
   "cell_type": "markdown",
   "id": "5bd44bf0-1f87-4d58-a601-6e9a7ebf9720",
   "metadata": {},
   "source": [
    "# ----------------"
   ]
  },
  {
   "cell_type": "code",
   "execution_count": 64,
   "id": "79b28102-de2a-4e0e-880b-c2e6ecd267a0",
   "metadata": {},
   "outputs": [
    {
     "data": {
      "image/png": "[encoded data removed]",
      "text/plain": [
       "<IPython.core.display.Image object>"
      ]
     },
     "metadata": {},
     "output_type": "display_data"
    }
   ],
   "source": [
    "%%manim $params\n",
    "class Example(ZoomedScene):\n",
    "    def construct(self):\n",
    "        mob= Star(color= YELLOW)\n",
    "        mob.move_to(ORIGIN)\n",
    "        self.add(mob)\n",
    "        mob.scale(0.1)\n",
    "        self.camera.frame.scale(1/25)\n",
    "###******        \n",
    "category = \"basics05\"\n",
    "image_file_name = \"star.png\"\n",
    "snippet = \"star = Star(color = YELLOW)\""
   ]
  },
  {
   "cell_type": "code",
   "execution_count": 65,
   "id": "87b0fa5c-5a98-499c-bdcf-1270d804da66",
   "metadata": {},
   "outputs": [],
   "source": [
    "image_full_name = category + \"_\" + image_file_name\n",
    "save_image(image_full_name)\n",
    "name_snippet_pairs[image_full_name] = snippet"
   ]
  },
  {
   "cell_type": "markdown",
   "id": "a080b8f1-a6fd-4084-9334-de19c85c658b",
   "metadata": {},
   "source": [
    "# ----------------"
   ]
  },
  {
   "cell_type": "code",
   "execution_count": 66,
   "id": "9e963b7f-3dfa-41d6-a2a8-a16db9901ae2",
   "metadata": {},
   "outputs": [
    {
     "data": {
      "image/png": "[encoded data removed]",
      "text/plain": [
       "<IPython.core.display.Image object>"
      ]
     },
     "metadata": {},
     "output_type": "display_data"
    }
   ],
   "source": [
    "%%manim $params\n",
    "class Example(ZoomedScene):\n",
    "    def construct(self):\n",
    "        mob= Star(color= YELLOW)\n",
    "        mob.move_to(ORIGIN)\n",
    "        self.add(mob)\n",
    "        mob.scale(0.1)\n",
    "        self.camera.frame.scale(1/25)\n",
    "###******        \n",
    "category = \"basics05\"\n",
    "image_file_name = \"star.png\"\n",
    "snippet = \"star = Star(color = YELLOW)\""
   ]
  },
  {
   "cell_type": "code",
   "execution_count": 67,
   "id": "b1cbe989-5b3c-4906-8ed5-d4f79e103f66",
   "metadata": {},
   "outputs": [],
   "source": [
    "image_full_name = category + \"_\" + image_file_name\n",
    "save_image(image_full_name)\n",
    "name_snippet_pairs[image_full_name] = snippet"
   ]
  },
  {
   "cell_type": "markdown",
   "id": "f612b87f-ffab-4113-a8ff-2da660c6f776",
   "metadata": {},
   "source": [
    "# ----------------"
   ]
  },
  {
   "cell_type": "code",
   "execution_count": 68,
   "id": "00edd8d0-6cd8-4825-ac1e-fc2e1a004240",
   "metadata": {},
   "outputs": [
    {
     "data": {
      "image/png": "[encoded data removed]",
      "text/plain": [
       "<IPython.core.display.Image object>"
      ]
     },
     "metadata": {},
     "output_type": "display_data"
    }
   ],
   "source": [
    "%%manim $params\n",
    "class Example(ZoomedScene):\n",
    "    def construct(self):\n",
    "        mob= Star(color= YELLOW)\n",
    "        mob.move_to(ORIGIN)\n",
    "        self.add(mob)\n",
    "        mob.scale(0.1)\n",
    "        self.camera.frame.scale(1/25)\n",
    "###******        \n",
    "category = \"basics05\"\n",
    "image_file_name = \"star.png\"\n",
    "snippet = \"star = Star(color = YELLOW)\""
   ]
  },
  {
   "cell_type": "code",
   "execution_count": 69,
   "id": "ec9b8bb9-5b59-4395-b914-8b1a63ac5a28",
   "metadata": {},
   "outputs": [],
   "source": [
    "image_full_name = category + \"_\" + image_file_name\n",
    "save_image(image_full_name)\n",
    "name_snippet_pairs[image_full_name] = snippet"
   ]
  },
  {
   "cell_type": "markdown",
   "id": "17414180-70aa-4aad-9718-ae69173d9b75",
   "metadata": {},
   "source": [
    "# ----------------"
   ]
  },
  {
   "cell_type": "code",
   "execution_count": 70,
   "id": "ed90daa0-cf51-4b8e-a9aa-b94103c4e1e0",
   "metadata": {},
   "outputs": [
    {
     "data": {
      "image/png": "[encoded data removed]",
      "text/plain": [
       "<IPython.core.display.Image object>"
      ]
     },
     "metadata": {},
     "output_type": "display_data"
    }
   ],
   "source": [
    "%%manim $params\n",
    "class Example(ZoomedScene):\n",
    "    def construct(self):\n",
    "        mob= Star(color= YELLOW)\n",
    "        mob.move_to(ORIGIN)\n",
    "        self.add(mob)\n",
    "        mob.scale(0.1)\n",
    "        self.camera.frame.scale(1/25)\n",
    "###******        \n",
    "category = \"basics05\"\n",
    "image_file_name = \"star.png\"\n",
    "snippet = \"star = Star(color = YELLOW)\""
   ]
  },
  {
   "cell_type": "code",
   "execution_count": 71,
   "id": "e7826665-01bb-4b98-8a4b-d82325ff974c",
   "metadata": {},
   "outputs": [],
   "source": [
    "image_full_name = category + \"_\" + image_file_name\n",
    "save_image(image_full_name)\n",
    "name_snippet_pairs[image_full_name] = snippet"
   ]
  },
  {
   "cell_type": "markdown",
   "id": "d737b875-345c-41e5-ab38-abbb363168c9",
   "metadata": {},
   "source": [
    "# ----------------"
   ]
  },
  {
   "cell_type": "code",
   "execution_count": 72,
   "id": "3fa35f9b-5c78-4303-88b6-50ab1014d9d7",
   "metadata": {},
   "outputs": [
    {
     "data": {
      "image/png": "[encoded data removed]",
      "text/plain": [
       "<IPython.core.display.Image object>"
      ]
     },
     "metadata": {},
     "output_type": "display_data"
    }
   ],
   "source": [
    "%%manim $params\n",
    "class Example(ZoomedScene):\n",
    "    def construct(self):\n",
    "        mob= Star(color= YELLOW)\n",
    "        mob.move_to(ORIGIN)\n",
    "        self.add(mob)\n",
    "        mob.scale(0.1)\n",
    "        self.camera.frame.scale(1/25)\n",
    "###******        \n",
    "category = \"basics05\"\n",
    "image_file_name = \"star.png\"\n",
    "snippet = \"star = Star(color = YELLOW)\""
   ]
  },
  {
   "cell_type": "code",
   "execution_count": 73,
   "id": "25d68d38-a594-4625-8952-c1b08a4a63b3",
   "metadata": {},
   "outputs": [],
   "source": [
    "image_full_name = category + \"_\" + image_file_name\n",
    "save_image(image_full_name)\n",
    "name_snippet_pairs[image_full_name] = snippet"
   ]
  },
  {
   "cell_type": "markdown",
   "id": "690e4871-daff-4608-b39f-dce9b9cf8f12",
   "metadata": {},
   "source": [
    "# ----------------"
   ]
  },
  {
   "cell_type": "code",
   "execution_count": 74,
   "id": "dd61b854-a7d6-4cc7-a8d9-fcd2668bfec3",
   "metadata": {},
   "outputs": [
    {
     "data": {
      "image/png": "[encoded data removed]",
      "text/plain": [
       "<IPython.core.display.Image object>"
      ]
     },
     "metadata": {},
     "output_type": "display_data"
    }
   ],
   "source": [
    "%%manim $params\n",
    "class Example(ZoomedScene):\n",
    "    def construct(self):\n",
    "        mob= Star(color= YELLOW)\n",
    "        mob.move_to(ORIGIN)\n",
    "        self.add(mob)\n",
    "        mob.scale(0.1)\n",
    "        self.camera.frame.scale(1/25)\n",
    "###******        \n",
    "category = \"basics05\"\n",
    "image_file_name = \"star.png\"\n",
    "snippet = \"star = Star(color = YELLOW)\""
   ]
  },
  {
   "cell_type": "code",
   "execution_count": 75,
   "id": "993eea61-3c02-4f9a-9602-06a9409524b4",
   "metadata": {},
   "outputs": [],
   "source": [
    "image_full_name = category + \"_\" + image_file_name\n",
    "save_image(image_full_name)\n",
    "name_snippet_pairs[image_full_name] = snippet"
   ]
  },
  {
   "cell_type": "markdown",
   "id": "0b6b6f66-5601-44c0-b676-a8bf09b40d4c",
   "metadata": {},
   "source": [
    "# ----------------"
   ]
  },
  {
   "cell_type": "code",
   "execution_count": 76,
   "id": "6cf0e648-62c1-4e51-ab86-7996ad6e8b2e",
   "metadata": {},
   "outputs": [
    {
     "data": {
      "image/png": "[encoded data removed]",
      "text/plain": [
       "<IPython.core.display.Image object>"
      ]
     },
     "metadata": {},
     "output_type": "display_data"
    }
   ],
   "source": [
    "%%manim $params\n",
    "class Example(ZoomedScene):\n",
    "    def construct(self):\n",
    "        mob= Star(color= YELLOW)\n",
    "        mob.move_to(ORIGIN)\n",
    "        self.add(mob)\n",
    "        mob.scale(0.1)\n",
    "        self.camera.frame.scale(1/25)\n",
    "###******        \n",
    "category = \"basics05\"\n",
    "image_file_name = \"star.png\"\n",
    "snippet = \"star = Star(color = YELLOW)\""
   ]
  },
  {
   "cell_type": "code",
   "execution_count": 77,
   "id": "84383ddc-a356-4a9c-8702-5253fa5a88b9",
   "metadata": {},
   "outputs": [],
   "source": [
    "image_full_name = category + \"_\" + image_file_name\n",
    "save_image(image_full_name)\n",
    "name_snippet_pairs[image_full_name] = snippet"
   ]
  },
  {
   "cell_type": "markdown",
   "id": "2f344bf1-378d-4b5c-9e38-6bb4eb48b472",
   "metadata": {},
   "source": [
    "# ----------------"
   ]
  },
  {
   "cell_type": "code",
   "execution_count": 78,
   "id": "98825222-cd56-460a-bbbf-3750c61eeb38",
   "metadata": {},
   "outputs": [
    {
     "data": {
      "image/png": "[encoded data removed]",
      "text/plain": [
       "<IPython.core.display.Image object>"
      ]
     },
     "metadata": {},
     "output_type": "display_data"
    }
   ],
   "source": [
    "%%manim $params\n",
    "class Example(ZoomedScene):\n",
    "    def construct(self):\n",
    "        mob= Star(color= YELLOW)\n",
    "        mob.move_to(ORIGIN)\n",
    "        self.add(mob)\n",
    "        mob.scale(0.1)\n",
    "        self.camera.frame.scale(1/25)\n",
    "###******        \n",
    "category = \"basics05\"\n",
    "image_file_name = \"star.png\"\n",
    "snippet = \"star = Star(color = YELLOW)\""
   ]
  },
  {
   "cell_type": "code",
   "execution_count": 79,
   "id": "b80a876e-6b12-4a5b-ae60-5415c6b5c555",
   "metadata": {},
   "outputs": [],
   "source": [
    "image_full_name = category + \"_\" + image_file_name\n",
    "save_image(image_full_name)\n",
    "name_snippet_pairs[image_full_name] = snippet"
   ]
  },
  {
   "cell_type": "markdown",
   "id": "72f7b7e0-329d-427a-aa21-482ed651a340",
   "metadata": {},
   "source": [
    "# ----------------"
   ]
  },
  {
   "cell_type": "code",
   "execution_count": 80,
   "id": "b55d1d1a-c315-46e2-b495-51c6cbdcab10",
   "metadata": {},
   "outputs": [
    {
     "data": {
      "image/png": "[encoded data removed]",
      "text/plain": [
       "<IPython.core.display.Image object>"
      ]
     },
     "metadata": {},
     "output_type": "display_data"
    }
   ],
   "source": [
    "%%manim $params\n",
    "class Example(ZoomedScene):\n",
    "    def construct(self):\n",
    "        mob= Star(color= YELLOW)\n",
    "        mob.move_to(ORIGIN)\n",
    "        self.add(mob)\n",
    "        mob.scale(0.1)\n",
    "        self.camera.frame.scale(1/25)\n",
    "###******        \n",
    "category = \"basics05\"\n",
    "image_file_name = \"star.png\"\n",
    "snippet = \"star = Star(color = YELLOW)\""
   ]
  },
  {
   "cell_type": "code",
   "execution_count": 81,
   "id": "f0440d26-bb78-4f83-9488-659b517db6e3",
   "metadata": {},
   "outputs": [],
   "source": [
    "image_full_name = category + \"_\" + image_file_name\n",
    "save_image(image_full_name)\n",
    "name_snippet_pairs[image_full_name] = snippet"
   ]
  },
  {
   "cell_type": "markdown",
   "id": "e72acc61-af1a-4f73-86e3-634c9fe7bdd4",
   "metadata": {},
   "source": [
    "# ----------------"
   ]
  },
  {
   "cell_type": "code",
   "execution_count": 82,
   "id": "947e2158-78da-4b5e-9289-cb14a3369796",
   "metadata": {},
   "outputs": [
    {
     "data": {
      "image/png": "[encoded data removed]",
      "text/plain": [
       "<IPython.core.display.Image object>"
      ]
     },
     "metadata": {},
     "output_type": "display_data"
    }
   ],
   "source": [
    "%%manim $params\n",
    "class Example(ZoomedScene):\n",
    "    def construct(self):\n",
    "        mob= Star(color= YELLOW)\n",
    "        mob.move_to(ORIGIN)\n",
    "        self.add(mob)\n",
    "        mob.scale(0.1)\n",
    "        self.camera.frame.scale(1/25)\n",
    "###******        \n",
    "category = \"basics05\"\n",
    "image_file_name = \"star.png\"\n",
    "snippet = \"star = Star(color = YELLOW)\""
   ]
  },
  {
   "cell_type": "code",
   "execution_count": 83,
   "id": "b831cee8-bf33-46a2-9e89-c3f50f85d2a9",
   "metadata": {},
   "outputs": [],
   "source": [
    "image_full_name = category + \"_\" + image_file_name\n",
    "save_image(image_full_name)\n",
    "name_snippet_pairs[image_full_name] = snippet"
   ]
  },
  {
   "cell_type": "markdown",
   "id": "7e42da8b-4a24-4701-9a9c-67039cf3b807",
   "metadata": {},
   "source": [
    "# ----------------"
   ]
  },
  {
   "cell_type": "code",
   "execution_count": 96,
   "id": "e32bba63-afe6-4857-bffa-24240c9198cb",
   "metadata": {},
   "outputs": [
    {
     "data": {
      "text/plain": [
       "{'basics01_dot.png': 'd = Dot(color = YELLOW)',\n",
       " 'basics02_circle.png': 'circle = Circle(color= YELLOW)',\n",
       " 'basics03_square.png': 'square = Square(color= YELLOW)',\n",
       " 'basics04_line.png': 'line = Line(color= YELLOW)',\n",
       " 'basics05_star.png': 'star = Star(color = YELLOW)',\n",
       " 'basics06_triangle.png': 'star = Triangle(color = YELLOW)',\n",
       " 'basics07_ellipse.png': 'star = Ellipse(color = YELLOW)'}"
      ]
     },
     "execution_count": 96,
     "metadata": {},
     "output_type": "execute_result"
    }
   ],
   "source": [
    "name_snippet_pairs"
   ]
  },
  {
   "cell_type": "code",
   "execution_count": 97,
   "id": "ab1b24cd-ce2a-4a6c-9e8f-6718dca88478",
   "metadata": {},
   "outputs": [],
   "source": [
    "with open('name_snippet_pairs.json', 'w') as fp:\n",
    "    json.dump(name_snippet_pairs, fp)"
   ]
  },
  {
   "cell_type": "code",
   "execution_count": null,
   "id": "01758aea-68d2-45d3-acca-6c4afcd18cce",
   "metadata": {},
   "outputs": [],
   "source": []
  }
 ],
 "metadata": {
  "interpreter": {
   "hash": "956ae1017c005de10cf980548dc93247cd70ec3257bcb31b6a6c2783ea7553f4"
  },
  "kernelspec": {
   "display_name": "Python 3",
   "language": "python",
   "name": "python3"
  },
  "language_info": {
   "codemirror_mode": {
    "name": "ipython",
    "version": 3
   },
   "file_extension": ".py",
   "mimetype": "text/x-python",
   "name": "python",
   "nbconvert_exporter": "python",
   "pygments_lexer": "ipython3",
   "version": "3.9.5"
  }
 },
 "nbformat": 4,
 "nbformat_minor": 5
}
