{
 "cells": [
  {
   "cell_type": "code",
   "execution_count": 1,
   "id": "e4ba2c91-b12e-4d60-98e6-7e51046d5745",
   "metadata": {},
   "outputs": [
    {
     "data": {
      "text/html": [
       "<pre style=\"white-space:pre;overflow-x:auto;line-height:normal;font-family:Menlo,'DejaVu Sans Mono',consolas,'Courier New',monospace\">Manim Community <span style=\"color: #008000; text-decoration-color: #008000\">v0.10.0</span>\n",
       "\n",
       "</pre>\n"
      ],
      "text/plain": [
       "Manim Community \u001b[32mv0.\u001b[0m\u001b[32m10.0\u001b[0m\n",
       "\n"
      ]
     },
     "metadata": {},
     "output_type": "display_data"
    }
   ],
   "source": [
    "from manim import *\n",
    "from pathlib import Path\n",
    "import shutil\n",
    "import time\n",
    "import json\n",
    "\n",
    "params = \" -v WARNING -r 80,40 -s  --disable_caching Example\"\n",
    "\n",
    "#def latest_file(path: Path, pattern: str = \"*\"):\n",
    "#   files = path.glob(pattern)\n",
    "#   return max(files, key=lambda x: x.stat().st_ctime)\n",
    "\n",
    "def save_image(name):\n",
    "    #from_file = latest_file(Path(\"./media/images/mobject-gallery\"))\n",
    "    from_file = Path(\"./media/images/mobject-gallery/Example_ManimCE_v0.10.0.png\")\n",
    "    to_file = Path.cwd() / name\n",
    "    shutil.copy(from_file, to_file)\n",
    "    \n",
    "name_snippet_pairs = {}"
   ]
  },
  {
   "cell_type": "code",
   "execution_count": 2,
   "id": "3d228c15",
   "metadata": {},
   "outputs": [
    {
     "data": {
      "image/png": "[encoded data removed]",
      "text/plain": [
       "<IPython.core.display.Image object>"
      ]
     },
     "metadata": {},
     "output_type": "display_data"
    }
   ],
   "source": [
    "%%manim $params\n",
    "class Example(ZoomedScene):\n",
    "    def construct(self):\n",
    "        self.camera.frame.scale(1/20)\n",
    "        d = Dot(color = YELLOW)\n",
    "        self.add(d)\n",
    "###******        \n",
    "category = \"basics\"\n",
    "image_file_name = \"Dot.png\"\n",
    "snippet = \"d = Dot(color = YELLOW)\"\n",
    "image_full_name = category + \"_\" + image_file_name\n",
    "name_snippet_pairs[image_full_name] = snippet"
   ]
  },
  {
   "cell_type": "code",
   "execution_count": 3,
   "id": "ad594e35",
   "metadata": {},
   "outputs": [
    {
     "data": {
      "image/png": "[encoded data removed]",
      "text/plain": [
       "<IPython.core.display.Image object>"
      ]
     },
     "metadata": {},
     "output_type": "display_data"
    }
   ],
   "source": [
    "%%manim $params\n",
    "class Example(ZoomedScene):\n",
    "    def construct(self):\n",
    "        mob= Circle(color= YELLOW)\n",
    "        self.add(mob)\n",
    "        mob.scale(0.1)\n",
    "        self.camera.frame.scale(1/25)\n",
    "###******        \n",
    "category = \"basics\"\n",
    "image_file_name = \"Circle.png\"\n",
    "snippet = \"circle = Circle(color= YELLOW)\"\n",
    "image_full_name = category + \"_\" + image_file_name\n",
    "name_snippet_pairs[image_full_name] = snippet"
   ]
  },
  {
   "cell_type": "code",
   "execution_count": 4,
   "id": "ce890072-a608-4654-941b-198b4dd37280",
   "metadata": {},
   "outputs": [
    {
     "data": {
      "image/png": "[encoded data removed]",
      "text/plain": [
       "<IPython.core.display.Image object>"
      ]
     },
     "metadata": {},
     "output_type": "display_data"
    }
   ],
   "source": [
    "%%manim $params\n",
    "class Example(ZoomedScene):\n",
    "    def construct(self):\n",
    "        mob= Arc(radius=1.3, start_angle=-PI/16, angle=PI,color= YELLOW)\n",
    "        mob.move_to(ORIGIN)\n",
    "        self.add(mob)\n",
    "        mob.scale(0.1)\n",
    "        self.camera.frame.scale(1/25)\n",
    "###******        \n",
    "category = \"basics\"\n",
    "image_file_name = \"Arc.png\"\n",
    "snippet = \"mob= Arc(radius=1.3, start_angle=-PI/16, angle=PI,color= YELLOW)\"\n",
    "image_full_name = category + \"_\" + image_file_name\n",
    "name_snippet_pairs[image_full_name] = snippet"
   ]
  },
  {
   "cell_type": "code",
   "execution_count": 5,
   "id": "cd2434de-f766-4d7d-9aee-af607580a62b",
   "metadata": {},
   "outputs": [
    {
     "data": {
      "image/png": "[encoded data removed]",
      "text/plain": [
       "<IPython.core.display.Image object>"
      ]
     },
     "metadata": {},
     "output_type": "display_data"
    }
   ],
   "source": [
    "%%manim $params\n",
    "class Example(ZoomedScene):\n",
    "    def construct(self):\n",
    "        mob= Ellipse(color= YELLOW)\n",
    "        mob.move_to(ORIGIN)\n",
    "        self.add(mob)\n",
    "        mob.scale(0.1)\n",
    "        self.camera.frame.scale(1/25)\n",
    "###******        \n",
    "category = \"basics\"\n",
    "image_file_name = \"Ellipse.png\"\n",
    "snippet = \"mob = Ellipse(color = YELLOW)\"\n",
    "image_full_name = category + \"_\" + image_file_name\n",
    "name_snippet_pairs[image_full_name] = snippet"
   ]
  },
  {
   "cell_type": "code",
   "execution_count": 6,
   "id": "78d4b603",
   "metadata": {},
   "outputs": [
    {
     "data": {
      "image/png": "[encoded data removed]",
      "text/plain": [
       "<IPython.core.display.Image object>"
      ]
     },
     "metadata": {},
     "output_type": "display_data"
    }
   ],
   "source": [
    "%%manim $params\n",
    "class Example(ZoomedScene):\n",
    "    def construct(self):\n",
    "        mob= Square(color= YELLOW)\n",
    "        self.add(mob)\n",
    "        mob.scale(0.1)\n",
    "        self.camera.frame.scale(1/25)\n",
    "###******        \n",
    "category = \"basics\"\n",
    "image_file_name = \"Square.png\"\n",
    "snippet = \"square = Square(color= YELLOW)\"\n",
    "image_full_name = category + \"_\" + image_file_name\n",
    "name_snippet_pairs[image_full_name] = snippet"
   ]
  },
  {
   "cell_type": "code",
   "execution_count": 7,
   "id": "ca89b62d",
   "metadata": {},
   "outputs": [
    {
     "data": {
      "image/png": "[encoded data removed]",
      "text/plain": [
       "<IPython.core.display.Image object>"
      ]
     },
     "metadata": {},
     "output_type": "display_data"
    }
   ],
   "source": [
    "%%manim $params\n",
    "class Example(ZoomedScene):\n",
    "    def construct(self):\n",
    "        mob= Star(color= YELLOW)\n",
    "        mob.move_to(ORIGIN)\n",
    "        self.add(mob)\n",
    "        mob.scale(0.1)\n",
    "        self.camera.frame.scale(1/25)\n",
    "###******        \n",
    "category = \"basics\"\n",
    "image_file_name = \"Star.png\"\n",
    "snippet = \"star = Star(color = YELLOW)\"\n",
    "image_full_name = category + \"_\" + image_file_name\n",
    "name_snippet_pairs[image_full_name] = snippet"
   ]
  },
  {
   "cell_type": "code",
   "execution_count": 8,
   "id": "9075a9c7-0eff-4eea-8ce7-dc533bc54120",
   "metadata": {},
   "outputs": [
    {
     "data": {
      "image/png": "[encoded data removed]",
      "text/plain": [
       "<IPython.core.display.Image object>"
      ]
     },
     "metadata": {},
     "output_type": "display_data"
    }
   ],
   "source": [
    "%%manim $params\n",
    "class Example(ZoomedScene):\n",
    "    def construct(self):\n",
    "        mob= Triangle(color= YELLOW)\n",
    "        mob.move_to(ORIGIN)\n",
    "        self.add(mob)\n",
    "        mob.scale(0.1)\n",
    "        self.camera.frame.scale(1/25)\n",
    "###******        \n",
    "category = \"basics\"\n",
    "image_file_name = \"Triangle.png\"\n",
    "snippet = \"mob = Triangle(color = YELLOW)\"\n",
    "image_full_name = category + \"_\" + image_file_name\n",
    "name_snippet_pairs[image_full_name] = snippet"
   ]
  },
  {
   "cell_type": "code",
   "execution_count": 9,
   "id": "bc54081a",
   "metadata": {},
   "outputs": [
    {
     "data": {
      "image/png": "[encoded data removed]",
      "text/plain": [
       "<IPython.core.display.Image object>"
      ]
     },
     "metadata": {},
     "output_type": "display_data"
    }
   ],
   "source": [
    "%%manim $params\n",
    "class Example(ZoomedScene):\n",
    "    def construct(self):\n",
    "        mob = Line(color= YELLOW)\n",
    "        self.add(mob)\n",
    "        mob.scale(0.1)\n",
    "        self.camera.frame.scale(1/25)\n",
    "###******        \n",
    "category = \"basics\"\n",
    "image_file_name = \"Line.png\"\n",
    "snippet = \"line = Line(color= YELLOW)\"\n",
    "image_full_name = category + \"_\" + image_file_name\n",
    "name_snippet_pairs[image_full_name] = snippet"
   ]
  },
  {
   "cell_type": "code",
   "execution_count": 10,
   "id": "214af3ad-d1a0-446b-bb8d-6d02304ffaec",
   "metadata": {},
   "outputs": [
    {
     "data": {
      "image/png": "[encoded data removed]",
      "text/plain": [
       "<IPython.core.display.Image object>"
      ]
     },
     "metadata": {},
     "output_type": "display_data"
    }
   ],
   "source": [
    "%%manim $params\n",
    "class Example(ZoomedScene):\n",
    "    def construct(self):\n",
    "        mob = DashedLine(0.2*LEFT, 0.2*RIGHT,color= YELLOW)\n",
    "        self.add(mob)\n",
    "        self.camera.frame.scale(1/25)\n",
    "        \n",
    "###******        \n",
    "category = \"basics\"\n",
    "image_file_name = \"DashedLine.png\"\n",
    "snippet = \"mob = DashedLine(color= YELLOW)\"\n",
    "image_full_name = category + \"_\" + image_file_name\n",
    "name_snippet_pairs[image_full_name] = snippet"
   ]
  },
  {
   "cell_type": "code",
   "execution_count": 11,
   "id": "8f13d671-c505-4993-b1a2-9c61dc28c83f",
   "metadata": {},
   "outputs": [
    {
     "data": {
      "image/png": "[encoded data removed]",
      "text/plain": [
       "<IPython.core.display.Image object>"
      ]
     },
     "metadata": {},
     "output_type": "display_data"
    }
   ],
   "source": [
    "%%manim $params\n",
    "class Example(ZoomedScene):\n",
    "    def construct(self):\n",
    "        mob = Arrow(0.2*LEFT, 0.2*RIGHT,color= YELLOW)\n",
    "        self.add(mob)\n",
    "        self.camera.frame.scale(1/25)\n",
    "###******        \n",
    "category = \"basics\"\n",
    "image_file_name = \"Arrow.png\"\n",
    "snippet = \"mob = Arrow(color= YELLOW)\"\n",
    "image_full_name = category + \"_\" + image_file_name\n",
    "name_snippet_pairs[image_full_name] = snippet"
   ]
  },
  {
   "cell_type": "code",
   "execution_count": 12,
   "id": "2616b54b-98c4-4171-bec6-7e9cdf55968a",
   "metadata": {},
   "outputs": [
    {
     "data": {
      "image/png": "[encoded data removed]",
      "text/plain": [
       "<IPython.core.display.Image object>"
      ]
     },
     "metadata": {},
     "output_type": "display_data"
    }
   ],
   "source": [
    "%%manim $params\n",
    "class Example(ZoomedScene):\n",
    "    def construct(self):\n",
    "        mob = DoubleArrow(0.2*LEFT, 0.2*RIGHT,color= YELLOW)\n",
    "        self.add(mob)\n",
    "        self.camera.frame.scale(1/25)\n",
    "###******        \n",
    "category = \"basics\"\n",
    "image_file_name = \"DoubleArrow.png\"\n",
    "snippet = \"mob = DoubleArrow(color= YELLOW)\"\n",
    "image_full_name = category + \"_\" + image_file_name\n",
    "name_snippet_pairs[image_full_name] = snippet"
   ]
  },
  {
   "cell_type": "code",
   "execution_count": 13,
   "id": "8120aa72-aa99-4078-9859-a8fada7c9167",
   "metadata": {},
   "outputs": [
    {
     "data": {
      "image/png": "[encoded data removed]",
      "text/plain": [
       "<IPython.core.display.Image object>"
      ]
     },
     "metadata": {},
     "output_type": "display_data"
    }
   ],
   "source": [
    "%%manim $params\n",
    "class Example(ZoomedScene):\n",
    "    def construct(self):\n",
    "        mob = ParametricFunction(lambda t: [t,0.2*np.sin(10*t),0],t_range = [-TAU, TAU],color= YELLOW)\n",
    "        self.add(mob)\n",
    "        self.camera.frame.scale(1/10)\n",
    "###******        \n",
    "category = \"basics\"\n",
    "image_file_name = \"ParametricFunction.png\"\n",
    "snippet = \"mob = ParametricFunction(lambda t: [t,0.2*np.sin(10*t),0],t_range = [-TAU, TAU],color= YELLOW)\"\n",
    "image_full_name = category + \"_\" + image_file_name\n",
    "name_snippet_pairs[image_full_name] = snippet"
   ]
  },
  {
   "cell_type": "code",
   "execution_count": 14,
   "id": "f1517126-246d-4361-93fb-77d8620c5384",
   "metadata": {},
   "outputs": [
    {
     "data": {
      "image/png": "[encoded data removed]",
      "text/plain": [
       "<IPython.core.display.Image object>"
      ]
     },
     "metadata": {},
     "output_type": "display_data"
    }
   ],
   "source": [
    "%%manim $params\n",
    "class Example(ZoomedScene):\n",
    "    def construct(self):\n",
    "        mob = CurvedArrow(LEFT,RIGHT,color= YELLOW)\n",
    "        self.add(mob)\n",
    "        mob.move_to(ORIGIN)\n",
    "        self.camera.frame.scale(1/6)\n",
    "###******        \n",
    "category = \"basics\"\n",
    "image_file_name = \"CurvedArrow.png\"\n",
    "snippet = \"mob = CurvedArrow(LEFT,RIGHT,color= YELLOW)\"\n",
    "image_full_name = category + \"_\" + image_file_name\n",
    "name_snippet_pairs[image_full_name] = snippet"
   ]
  },
  {
   "cell_type": "code",
   "execution_count": 15,
   "id": "7a1d9778-4e1a-41a8-84a4-187a6550086a",
   "metadata": {},
   "outputs": [
    {
     "data": {
      "image/png": "[encoded data removed]",
      "text/plain": [
       "<IPython.core.display.Image object>"
      ]
     },
     "metadata": {},
     "output_type": "display_data"
    }
   ],
   "source": [
    "%%manim $params\n",
    "class Example(ZoomedScene):\n",
    "    def construct(self):\n",
    "        mob = AnnotationDot(fill_color=RED)\n",
    "        self.add(mob)\n",
    "        mob.move_to(ORIGIN)\n",
    "        self.camera.frame.scale(1/15)\n",
    "###******        \n",
    "category = \"basics\"\n",
    "image_file_name = \"AnnotationDot.png\"\n",
    "snippet = \"mob = AnnotationDot(fill_color=RED)\"\n",
    "image_full_name = category + \"_\" + image_file_name\n",
    "name_snippet_pairs[image_full_name] = snippet"
   ]
  },
  {
   "cell_type": "code",
   "execution_count": 16,
   "id": "7893fe85-5177-4e3a-8d85-728e77bf2442",
   "metadata": {},
   "outputs": [
    {
     "data": {
      "image/png": "[encoded data removed]",
      "text/plain": [
       "<IPython.core.display.Image object>"
      ]
     },
     "metadata": {},
     "output_type": "display_data"
    }
   ],
   "source": [
    "%%manim $params\n",
    "class Example(ZoomedScene):\n",
    "    def construct(self):\n",
    "        mob = LabeledDot(Tex(\"42\", color=GREEN))\n",
    "        self.add(mob)\n",
    "        mob.move_to(ORIGIN)\n",
    "        self.camera.frame.scale(1/10)\n",
    "###******        \n",
    "category = \"basics\"\n",
    "image_file_name = \"LabeledDot.png\"\n",
    "snippet = 'mob = LabeledDot(Tex(\"42\", color=GREEN))'\n",
    "image_full_name = category + \"_\" + image_file_name\n",
    "name_snippet_pairs[image_full_name] = snippet"
   ]
  },
  {
   "cell_type": "code",
   "execution_count": 17,
   "id": "facb7539-059f-4e30-8098-ac04b970666e",
   "metadata": {},
   "outputs": [
    {
     "data": {
      "image/png": "[encoded data removed]",
      "text/plain": [
       "<IPython.core.display.Image object>"
      ]
     },
     "metadata": {},
     "output_type": "display_data"
    }
   ],
   "source": [
    "%%manim $params\n",
    "class Example(ZoomedScene):\n",
    "    def construct(self):\n",
    "        mob = ManimBanner()\n",
    "        self.add(mob)\n",
    "        self.camera.frame.scale(1/1.5)\n",
    "###******        \n",
    "category = \"basics\"\n",
    "image_file_name = \"ManimBanner.png\"\n",
    "snippet = \"mob = ManimBanner()\"\n",
    "image_full_name = category + \"_\" + image_file_name\n",
    "name_snippet_pairs[image_full_name] = snippet"
   ]
  },
  {
   "cell_type": "code",
   "execution_count": 18,
   "id": "0fd61567-423c-4c00-a242-1ab6c8dd9787",
   "metadata": {},
   "outputs": [
    {
     "data": {
      "image/png": "[encoded data removed]",
      "text/plain": [
       "<IPython.core.display.Image object>"
      ]
     },
     "metadata": {},
     "output_type": "display_data"
    }
   ],
   "source": [
    "%%manim $params\n",
    "class Example(ZoomedScene):\n",
    "    def construct(self):\n",
    "        mob = Text(\"Hello\", color=BLUE)\n",
    "        self.add(mob)\n",
    "        self.camera.frame.scale(1/8)\n",
    "###******        \n",
    "category = \"basics\"\n",
    "image_file_name = \"Text.png\"\n",
    "snippet = 'mob = Text(\"Hello\", color=BLUE)'\n",
    "image_full_name = category + \"_\" + image_file_name\n",
    "name_snippet_pairs[image_full_name] = snippet"
   ]
  },
  {
   "cell_type": "markdown",
   "id": "7150aa82-899b-49cd-bcad-344ef8bb3e9c",
   "metadata": {},
   "source": [
    "# Save here!"
   ]
  },
  {
   "cell_type": "code",
   "execution_count": 40,
   "id": "b96dd10b-3830-4208-a2fd-7fe9e1c3e577",
   "metadata": {},
   "outputs": [
    {
     "name": "stdout",
     "output_type": "stream",
     "text": [
      "rm: Mobjects_Basics_files: No such file or directory\n"
     ]
    }
   ],
   "source": [
    "!rm -r Mobjects_Basics_files"
   ]
  },
  {
   "cell_type": "code",
   "execution_count": 51,
   "id": "7dc0296a-ac01-4e2e-940b-71c82a5ffb77",
   "metadata": {},
   "outputs": [
    {
     "name": "stdout",
     "output_type": "stream",
     "text": [
      "[NbConvertApp] Converting notebook Mobjects_Basics.ipynb to markdown\n",
      "[NbConvertApp] Support files will be in Mobjects_Basics_files/\n",
      "[NbConvertApp] Making directory Mobjects_Basics_files\n",
      "[NbConvertApp] Making directory Mobjects_Basics_files\n",
      "[NbConvertApp] Making directory Mobjects_Basics_files\n",
      "[NbConvertApp] Making directory Mobjects_Basics_files\n",
      "[NbConvertApp] Making directory Mobjects_Basics_files\n",
      "[NbConvertApp] Making directory Mobjects_Basics_files\n",
      "[NbConvertApp] Making directory Mobjects_Basics_files\n",
      "[NbConvertApp] Making directory Mobjects_Basics_files\n",
      "[NbConvertApp] Making directory Mobjects_Basics_files\n",
      "[NbConvertApp] Making directory Mobjects_Basics_files\n",
      "[NbConvertApp] Making directory Mobjects_Basics_files\n",
      "[NbConvertApp] Making directory Mobjects_Basics_files\n",
      "[NbConvertApp] Making directory Mobjects_Basics_files\n",
      "[NbConvertApp] Making directory Mobjects_Basics_files\n",
      "[NbConvertApp] Making directory Mobjects_Basics_files\n",
      "[NbConvertApp] Making directory Mobjects_Basics_files\n",
      "[NbConvertApp] Making directory Mobjects_Basics_files\n",
      "[NbConvertApp] Writing 13895 bytes to Mobjects_Basics.md\n"
     ]
    }
   ],
   "source": [
    "!jupyter nbconvert Mobjects_Basics.ipynb --to markdown"
   ]
  },
  {
   "cell_type": "code",
   "execution_count": 52,
   "id": "bda246f2-9afc-45fc-b3e6-4745465d5f4d",
   "metadata": {},
   "outputs": [],
   "source": [
    "!rm -r Mobjects_Basics.md"
   ]
  },
  {
   "cell_type": "code",
   "execution_count": 54,
   "id": "9d624a60-fd80-4156-a23f-ebb8203f3d59",
   "metadata": {},
   "outputs": [],
   "source": [
    "base_directory = Path.cwd() / \"Mobjects_Basics_files\"\n",
    "target_directory = Path.cwd() / \"images\"\n",
    "import os\n",
    "paths = sorted(Path(base_directory).iterdir(), key=os.path.getmtime)\n",
    "dest_names = list(name_snippet_pairs.keys())\n",
    "new_keys = []\n",
    "for num, (p,des) in enumerate(zip(paths,dest_names)):\n",
    "    to_path = target_directory /  f\"image{num:03}{des}\"   \n",
    "    shutil.copy(p,  to_path)\n",
    "#    print(\"done\", to_path.name)\n",
    "    new_keys.append(to_path.name)"
   ]
  },
  {
   "cell_type": "code",
   "execution_count": 55,
   "id": "2c4fb21e-b9f8-4c2c-838d-3da43598bde3",
   "metadata": {},
   "outputs": [],
   "source": [
    "!rm -r Mobjects_Basics_files"
   ]
  },
  {
   "cell_type": "code",
   "execution_count": 68,
   "id": "e32bba63-afe6-4857-bffa-24240c9198cb",
   "metadata": {},
   "outputs": [],
   "source": [
    "new_name_snippet_pairs ={} \n",
    "new_values = list(name_snippet_pairs.values())\n",
    "#new_new_values = []\n",
    "#for val in new_values:\n",
    "#    val= val.replace('\"', \"'\")\n",
    "#    print(val)\n",
    "for key, value in zip(new_keys,new_values):\n",
    "    new_name_snippet_pairs[key]=value"
   ]
  },
  {
   "cell_type": "code",
   "execution_count": 69,
   "id": "ba500ec7-c25d-4196-ac36-f7d6c3c69f32",
   "metadata": {},
   "outputs": [
    {
     "data": {
      "text/plain": [
       "{'image000basics_Dot.png': 'd = Dot(color = YELLOW)',\n",
       " 'image001basics_Circle.png': 'circle = Circle(color= YELLOW)',\n",
       " 'image002basics_Arc.png': 'mob= Arc(radius=1.3, start_angle=-PI/16, angle=PI,color= YELLOW)',\n",
       " 'image003basics_Ellipse.png': 'mob = Ellipse(color = YELLOW)',\n",
       " 'image004basics_Square.png': 'square = Square(color= YELLOW)',\n",
       " 'image005basics_Star.png': 'star = Star(color = YELLOW)',\n",
       " 'image006basics_Triangle.png': 'mob = Triangle(color = YELLOW)',\n",
       " 'image007basics_Line.png': 'line = Line(color= YELLOW)',\n",
       " 'image008basics_DashedLine.png': 'mob = DashedLine(color= YELLOW)',\n",
       " 'image009basics_Arrow.png': 'mob = Arrow(color= YELLOW)',\n",
       " 'image010basics_DoubleArrow.png': 'mob = DoubleArrow(color= YELLOW)',\n",
       " 'image011basics_ParametricFunction.png': 'mob = ParametricFunction(lambda t: [t,0.2*np.sin(10*t),0],t_range = [-TAU, TAU],color= YELLOW)',\n",
       " 'image012basics_CurvedArrow.png': 'mob = CurvedArrow(LEFT,RIGHT,color= YELLOW)',\n",
       " 'image013basics_AnnotationDot.png': 'mob = AnnotationDot(fill_color=RED)',\n",
       " 'image014basics_LabeledDot.png': 'mob = LabeledDot(Tex(\"42\", color=GREEN))',\n",
       " 'image015basics_ManimBanner.png': 'mob = ManimBanner()',\n",
       " 'image016basics_Text.png': 'mob = Text(\"Hello\", color=BLUE)'}"
      ]
     },
     "execution_count": 69,
     "metadata": {},
     "output_type": "execute_result"
    }
   ],
   "source": [
    "new_name_snippet_pairs"
   ]
  },
  {
   "cell_type": "code",
   "execution_count": 70,
   "id": "ab1b24cd-ce2a-4a6c-9e8f-6718dca88478",
   "metadata": {},
   "outputs": [],
   "source": [
    "with open('name_snippet_pairs.json', 'w') as fp:\n",
    "    json.dump(new_name_snippet_pairs, fp)"
   ]
  },
  {
   "cell_type": "code",
   "execution_count": 59,
   "id": "3f2e3684-d9ee-4433-af9d-717eeb711ab5",
   "metadata": {},
   "outputs": [],
   "source": [
    "!git add ."
   ]
  },
  {
   "cell_type": "code",
   "execution_count": null,
   "id": "ea5ca212-6c22-466f-9c08-18e90d4c31a6",
   "metadata": {},
   "outputs": [],
   "source": []
  }
 ],
 "metadata": {
  "interpreter": {
   "hash": "956ae1017c005de10cf980548dc93247cd70ec3257bcb31b6a6c2783ea7553f4"
  },
  "kernelspec": {
   "display_name": "Python 3",
   "language": "python",
   "name": "python3"
  },
  "language_info": {
   "codemirror_mode": {
    "name": "ipython",
    "version": 3
   },
   "file_extension": ".py",
   "mimetype": "text/x-python",
   "name": "python",
   "nbconvert_exporter": "python",
   "pygments_lexer": "ipython3",
   "version": "3.9.5"
  }
 },
 "nbformat": 4,
 "nbformat_minor": 5
}
