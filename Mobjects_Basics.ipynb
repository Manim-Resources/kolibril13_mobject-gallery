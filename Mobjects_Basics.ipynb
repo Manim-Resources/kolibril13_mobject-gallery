{
 "cells": [
  {
   "cell_type": "code",
   "execution_count": 76,
   "id": "e4ba2c91-b12e-4d60-98e6-7e51046d5745",
   "metadata": {},
   "outputs": [],
   "source": [
    "from manim import *\n",
    "from pathlib import Path\n",
    "import shutil\n",
    "import time\n",
    "import json\n",
    "\n",
    "params = \" -v WARNING -r 80,40 -s  --disable_caching Example\"\n",
    "\n",
    "#def latest_file(path: Path, pattern: str = \"*\"):\n",
    "#   files = path.glob(pattern)\n",
    "#   return max(files, key=lambda x: x.stat().st_ctime)\n",
    "\n",
    "def save_image(name):\n",
    "    #from_file = latest_file(Path(\"./media/images/mobject-gallery\"))\n",
    "    from_file = Path(\"./media/images/mobject-gallery/Example_ManimCE_v0.10.0.png\")\n",
    "    to_file = Path.cwd() / name\n",
    "    shutil.copy(from_file, to_file)\n",
    "    \n",
    "name_snippet_pairs = {}"
   ]
  },
  {
   "cell_type": "code",
   "execution_count": 77,
   "id": "3d228c15",
   "metadata": {},
   "outputs": [
    {
     "data": {
      "image/png": "[encoded data removed]",
      "text/plain": [
       "<IPython.core.display.Image object>"
      ]
     },
     "metadata": {},
     "output_type": "display_data"
    }
   ],
   "source": [
    "%%manim $params\n",
    "class Example(ZoomedScene):\n",
    "    def construct(self):\n",
    "        self.camera.frame.scale(1/20)\n",
    "        d = Dot(color = YELLOW)\n",
    "        self.add(d)\n",
    "###******        \n",
    "category = \"basics\"\n",
    "image_file_name = \"Dot.png\"\n",
    "snippet = \"d = Dot(color = YELLOW)\"\n",
    "image_full_name = category + \"_\" + image_file_name\n",
    "name_snippet_pairs[image_full_name] = snippet"
   ]
  },
  {
   "cell_type": "code",
   "execution_count": 78,
   "id": "ad594e35",
   "metadata": {},
   "outputs": [
    {
     "data": {
      "image/png": "[encoded data removed]",
      "text/plain": [
       "<IPython.core.display.Image object>"
      ]
     },
     "metadata": {},
     "output_type": "display_data"
    }
   ],
   "source": [
    "%%manim $params\n",
    "class Example(ZoomedScene):\n",
    "    def construct(self):\n",
    "        mob= Circle(color= YELLOW)\n",
    "        self.add(mob)\n",
    "        mob.scale(0.1)\n",
    "        self.camera.frame.scale(1/25)\n",
    "###******        \n",
    "category = \"basics\"\n",
    "image_file_name = \"Circle.png\"\n",
    "snippet = \"circle = Circle(color= YELLOW)\"\n",
    "image_full_name = category + \"_\" + image_file_name\n",
    "name_snippet_pairs[image_full_name] = snippet"
   ]
  },
  {
   "cell_type": "code",
   "execution_count": 79,
   "id": "ce890072-a608-4654-941b-198b4dd37280",
   "metadata": {},
   "outputs": [
    {
     "data": {
      "image/png": "[encoded data removed]",
      "text/plain": [
       "<IPython.core.display.Image object>"
      ]
     },
     "metadata": {},
     "output_type": "display_data"
    }
   ],
   "source": [
    "%%manim $params\n",
    "class Example(ZoomedScene):\n",
    "    def construct(self):\n",
    "        mob= Arc(radius=1.3, start_angle=-PI/16, angle=PI,color= YELLOW)\n",
    "        mob.move_to(ORIGIN)\n",
    "        self.add(mob)\n",
    "        mob.scale(0.1)\n",
    "        self.camera.frame.scale(1/25)\n",
    "###******        \n",
    "category = \"basics\"\n",
    "image_file_name = \"Arc.png\"\n",
    "snippet = \"mob= Arc(radius=1.3, start_angle=-PI/16, angle=PI,color= YELLOW)\"\n",
    "image_full_name = category + \"_\" + image_file_name\n",
    "name_snippet_pairs[image_full_name] = snippet"
   ]
  },
  {
   "cell_type": "code",
   "execution_count": 80,
   "id": "cd2434de-f766-4d7d-9aee-af607580a62b",
   "metadata": {},
   "outputs": [
    {
     "data": {
      "image/png": "[encoded data removed]",
      "text/plain": [
       "<IPython.core.display.Image object>"
      ]
     },
     "metadata": {},
     "output_type": "display_data"
    }
   ],
   "source": [
    "%%manim $params\n",
    "class Example(ZoomedScene):\n",
    "    def construct(self):\n",
    "        mob= Ellipse(color= YELLOW)\n",
    "        mob.move_to(ORIGIN)\n",
    "        self.add(mob)\n",
    "        mob.scale(0.1)\n",
    "        self.camera.frame.scale(1/25)\n",
    "###******        \n",
    "category = \"basics\"\n",
    "image_file_name = \"Ellipse.png\"\n",
    "snippet = \"star = Ellipse(color = YELLOW)\"\n",
    "image_full_name = category + \"_\" + image_file_name\n",
    "name_snippet_pairs[image_full_name] = snippet"
   ]
  },
  {
   "cell_type": "code",
   "execution_count": 81,
   "id": "78d4b603",
   "metadata": {},
   "outputs": [
    {
     "data": {
      "image/png": "[encoded data removed]",
      "text/plain": [
       "<IPython.core.display.Image object>"
      ]
     },
     "metadata": {},
     "output_type": "display_data"
    }
   ],
   "source": [
    "%%manim $params\n",
    "class Example(ZoomedScene):\n",
    "    def construct(self):\n",
    "        mob= Square(color= YELLOW)\n",
    "        self.add(mob)\n",
    "        mob.scale(0.1)\n",
    "        self.camera.frame.scale(1/25)\n",
    "###******        \n",
    "category = \"basics\"\n",
    "image_file_name = \"Square.png\"\n",
    "snippet = \"square = Square(color= YELLOW)\"\n",
    "image_full_name = category + \"_\" + image_file_name\n",
    "name_snippet_pairs[image_full_name] = snippet"
   ]
  },
  {
   "cell_type": "code",
   "execution_count": 82,
   "id": "ca89b62d",
   "metadata": {},
   "outputs": [
    {
     "data": {
      "image/png": "[encoded data removed]",
      "text/plain": [
       "<IPython.core.display.Image object>"
      ]
     },
     "metadata": {},
     "output_type": "display_data"
    }
   ],
   "source": [
    "%%manim $params\n",
    "class Example(ZoomedScene):\n",
    "    def construct(self):\n",
    "        mob= Star(color= YELLOW)\n",
    "        mob.move_to(ORIGIN)\n",
    "        self.add(mob)\n",
    "        mob.scale(0.1)\n",
    "        self.camera.frame.scale(1/25)\n",
    "###******        \n",
    "category = \"basics\"\n",
    "image_file_name = \"Star.png\"\n",
    "snippet = \"star = Star(color = YELLOW)\"\n",
    "image_full_name = category + \"_\" + image_file_name\n",
    "name_snippet_pairs[image_full_name] = snippet"
   ]
  },
  {
   "cell_type": "code",
   "execution_count": 83,
   "id": "9075a9c7-0eff-4eea-8ce7-dc533bc54120",
   "metadata": {},
   "outputs": [
    {
     "data": {
      "image/png": "[encoded data removed]",
      "text/plain": [
       "<IPython.core.display.Image object>"
      ]
     },
     "metadata": {},
     "output_type": "display_data"
    }
   ],
   "source": [
    "%%manim $params\n",
    "class Example(ZoomedScene):\n",
    "    def construct(self):\n",
    "        mob= Triangle(color= YELLOW)\n",
    "        mob.move_to(ORIGIN)\n",
    "        self.add(mob)\n",
    "        mob.scale(0.1)\n",
    "        self.camera.frame.scale(1/25)\n",
    "###******        \n",
    "category = \"basics\"\n",
    "image_file_name = \"Triangle.png\"\n",
    "snippet = \"star = Triangle(color = YELLOW)\"\n",
    "image_full_name = category + \"_\" + image_file_name\n",
    "name_snippet_pairs[image_full_name] = snippet"
   ]
  },
  {
   "cell_type": "code",
   "execution_count": 84,
   "id": "bc54081a",
   "metadata": {},
   "outputs": [
    {
     "data": {
      "image/png": "[encoded data removed]",
      "text/plain": [
       "<IPython.core.display.Image object>"
      ]
     },
     "metadata": {},
     "output_type": "display_data"
    }
   ],
   "source": [
    "%%manim $params\n",
    "class Example(ZoomedScene):\n",
    "    def construct(self):\n",
    "        mob = Line(color= YELLOW)\n",
    "        self.add(mob)\n",
    "        mob.scale(0.1)\n",
    "        self.camera.frame.scale(1/25)\n",
    "###******        \n",
    "category = \"basics\"\n",
    "image_file_name = \"Line.png\"\n",
    "snippet = \"line = Line(color= YELLOW)\"\n",
    "image_full_name = category + \"_\" + image_file_name\n",
    "name_snippet_pairs[image_full_name] = snippet"
   ]
  },
  {
   "cell_type": "code",
   "execution_count": 85,
   "id": "214af3ad-d1a0-446b-bb8d-6d02304ffaec",
   "metadata": {},
   "outputs": [
    {
     "data": {
      "image/png": "[encoded data removed]",
      "text/plain": [
       "<IPython.core.display.Image object>"
      ]
     },
     "metadata": {},
     "output_type": "display_data"
    }
   ],
   "source": [
    "%%manim $params\n",
    "class Example(ZoomedScene):\n",
    "    def construct(self):\n",
    "        mob = DashedLine(0.2*LEFT, 0.2*RIGHT,color= YELLOW)\n",
    "        self.add(mob)\n",
    "        self.camera.frame.scale(1/25)\n",
    "###******        \n",
    "category = \"basics\"\n",
    "image_file_name = \"DashedLine.png\"\n",
    "snippet = \"line = DashedLine(color= YELLOW)\"\n",
    "image_full_name = category + \"_\" + image_file_name\n",
    "name_snippet_pairs[image_full_name] = snippet"
   ]
  },
  {
   "cell_type": "markdown",
   "id": "7150aa82-899b-49cd-bcad-344ef8bb3e9c",
   "metadata": {},
   "source": [
    "# Save here!"
   ]
  },
  {
   "cell_type": "code",
   "execution_count": 86,
   "id": "b96dd10b-3830-4208-a2fd-7fe9e1c3e577",
   "metadata": {},
   "outputs": [
    {
     "name": "stdout",
     "output_type": "stream",
     "text": [
      "rm: Mobjects_Basics_files: No such file or directory\n"
     ]
    }
   ],
   "source": [
    "!rm -r Mobjects_Basics_files"
   ]
  },
  {
   "cell_type": "code",
   "execution_count": 87,
   "id": "7dc0296a-ac01-4e2e-940b-71c82a5ffb77",
   "metadata": {},
   "outputs": [
    {
     "name": "stdout",
     "output_type": "stream",
     "text": [
      "[NbConvertApp] Converting notebook Mobjects_Basics.ipynb to markdown\n",
      "[NbConvertApp] Support files will be in Mobjects_Basics_files/\n",
      "[NbConvertApp] Making directory Mobjects_Basics_files\n",
      "[NbConvertApp] Making directory Mobjects_Basics_files\n",
      "[NbConvertApp] Making directory Mobjects_Basics_files\n",
      "[NbConvertApp] Making directory Mobjects_Basics_files\n",
      "[NbConvertApp] Making directory Mobjects_Basics_files\n",
      "[NbConvertApp] Making directory Mobjects_Basics_files\n",
      "[NbConvertApp] Making directory Mobjects_Basics_files\n",
      "[NbConvertApp] Making directory Mobjects_Basics_files\n",
      "[NbConvertApp] Making directory Mobjects_Basics_files\n",
      "[NbConvertApp] Writing 7701 bytes to Mobjects_Basics.md\n"
     ]
    }
   ],
   "source": [
    "!jupyter nbconvert Mobjects_Basics.ipynb --to markdown"
   ]
  },
  {
   "cell_type": "code",
   "execution_count": 88,
   "id": "bda246f2-9afc-45fc-b3e6-4745465d5f4d",
   "metadata": {},
   "outputs": [],
   "source": [
    "!rm -r Mobjects_Basics.md"
   ]
  },
  {
   "cell_type": "code",
   "execution_count": 89,
   "id": "9d624a60-fd80-4156-a23f-ebb8203f3d59",
   "metadata": {},
   "outputs": [],
   "source": [
    "base_directory = Path.cwd() / \"Mobjects_Basics_files\"\n",
    "import os\n",
    "paths = sorted(Path(base_directory).iterdir(), key=os.path.getmtime)\n",
    "dest_names = list(name_snippet_pairs.keys())\n",
    "new_keys = []\n",
    "for num, (p,des) in enumerate(zip(paths,dest_names)):\n",
    "    to_path = Path.cwd() /  f\"image{num:03}{des}\"   \n",
    "    shutil.copy(p,  to_path)\n",
    "#    print(\"done\", to_path.name)\n",
    "    new_keys.append(to_path.name)"
   ]
  },
  {
   "cell_type": "code",
   "execution_count": 90,
   "id": "2c4fb21e-b9f8-4c2c-838d-3da43598bde3",
   "metadata": {},
   "outputs": [],
   "source": [
    "!rm -r Mobjects_Basics_files"
   ]
  },
  {
   "cell_type": "code",
   "execution_count": 91,
   "id": "e32bba63-afe6-4857-bffa-24240c9198cb",
   "metadata": {},
   "outputs": [],
   "source": [
    "new_name_snippet_pairs ={} \n",
    "new_values = list(name_snippet_pairs.values())\n",
    "for key, value in zip(new_keys,new_values):\n",
    "    new_name_snippet_pairs[key]=value"
   ]
  },
  {
   "cell_type": "code",
   "execution_count": 92,
   "id": "ba500ec7-c25d-4196-ac36-f7d6c3c69f32",
   "metadata": {},
   "outputs": [
    {
     "data": {
      "text/plain": [
       "{'image000basics_Dot.png': 'd = Dot(color = YELLOW)',\n",
       " 'image001basics_Circle.png': 'circle = Circle(color= YELLOW)',\n",
       " 'image002basics_Arc.png': 'mob= Arc(radius=1.3, start_angle=-PI/16, angle=PI,color= YELLOW)',\n",
       " 'image003basics_Ellipse.png': 'star = Ellipse(color = YELLOW)',\n",
       " 'image004basics_Square.png': 'square = Square(color= YELLOW)',\n",
       " 'image005basics_Star.png': 'star = Star(color = YELLOW)',\n",
       " 'image006basics_Triangle.png': 'star = Triangle(color = YELLOW)',\n",
       " 'image007basics_Line.png': 'line = Line(color= YELLOW)',\n",
       " 'image008basics_DashedLine.png': 'line = DashedLine(color= YELLOW)'}"
      ]
     },
     "execution_count": 92,
     "metadata": {},
     "output_type": "execute_result"
    }
   ],
   "source": [
    "new_name_snippet_pairs"
   ]
  },
  {
   "cell_type": "code",
   "execution_count": 93,
   "id": "ab1b24cd-ce2a-4a6c-9e8f-6718dca88478",
   "metadata": {},
   "outputs": [],
   "source": [
    "with open('name_snippet_pairs.json', 'w') as fp:\n",
    "    json.dump(new_name_snippet_pairs, fp)"
   ]
  },
  {
   "cell_type": "code",
   "execution_count": null,
   "id": "3f2e3684-d9ee-4433-af9d-717eeb711ab5",
   "metadata": {},
   "outputs": [],
   "source": []
  }
 ],
 "metadata": {
  "interpreter": {
   "hash": "956ae1017c005de10cf980548dc93247cd70ec3257bcb31b6a6c2783ea7553f4"
  },
  "kernelspec": {
   "display_name": "Python 3",
   "language": "python",
   "name": "python3"
  },
  "language_info": {
   "codemirror_mode": {
    "name": "ipython",
    "version": 3
   },
   "file_extension": ".py",
   "mimetype": "text/x-python",
   "name": "python",
   "nbconvert_exporter": "python",
   "pygments_lexer": "ipython3",
   "version": "3.9.5"
  }
 },
 "nbformat": 4,
 "nbformat_minor": 5
}
