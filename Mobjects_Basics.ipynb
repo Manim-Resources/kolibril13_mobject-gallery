{
 "cells": [
  {
   "cell_type": "code",
   "execution_count": 1,
   "id": "e4ba2c91-b12e-4d60-98e6-7e51046d5745",
   "metadata": {},
   "outputs": [
    {
     "data": {
      "text/html": [
       "<pre style=\"white-space:pre;overflow-x:auto;line-height:normal;font-family:Menlo,'DejaVu Sans Mono',consolas,'Courier New',monospace\">Manim Community <span style=\"color: #008000; text-decoration-color: #008000\">v0.10.0</span>\n",
       "\n",
       "</pre>\n"
      ],
      "text/plain": [
       "Manim Community \u001b[32mv0.\u001b[0m\u001b[32m10.0\u001b[0m\n",
       "\n"
      ]
     },
     "metadata": {},
     "output_type": "display_data"
    }
   ],
   "source": [
    "from manim import *\n",
    "from pathlib import Path\n",
    "import shutil\n",
    "import time\n",
    "import json\n",
    "\n",
    "params = \" -v WARNING -r 80,40 -s  --disable_caching Example\"\n",
    "\n",
    "#def latest_file(path: Path, pattern: str = \"*\"):\n",
    "#   files = path.glob(pattern)\n",
    "#   return max(files, key=lambda x: x.stat().st_ctime)\n",
    "\n",
    "def save_image(name):\n",
    "    #from_file = latest_file(Path(\"./media/images/mobject-gallery\"))\n",
    "    from_file = Path(\"./media/images/mobject-gallery/Example_ManimCE_v0.10.0.png\")\n",
    "    to_file = Path.cwd() / name\n",
    "    shutil.copy(from_file, to_file)\n",
    "    \n",
    "name_snippet_pairs = {}"
   ]
  },
  {
   "cell_type": "markdown",
   "id": "4863ffad-8ac7-4370-accd-a089ad2f02ff",
   "metadata": {},
   "source": [
    "# ----------------"
   ]
  },
  {
   "cell_type": "code",
   "execution_count": 2,
   "id": "3d228c15",
   "metadata": {},
   "outputs": [
    {
     "data": {
      "image/png": "[encoded data removed]",
      "text/plain": [
       "<IPython.core.display.Image object>"
      ]
     },
     "metadata": {},
     "output_type": "display_data"
    }
   ],
   "source": [
    "%%manim $params\n",
    "class Example(ZoomedScene):\n",
    "    def construct(self):\n",
    "        self.camera.frame.scale(1/20)\n",
    "        d = Dot(color = YELLOW)\n",
    "        self.add(d)\n",
    "###******        \n",
    "category = \"basics01\"\n",
    "image_file_name = \"dot.png\"\n",
    "snippet = \"d = Dot(color = YELLOW)\""
   ]
  },
  {
   "cell_type": "code",
   "execution_count": 3,
   "id": "fb6da625-026b-45d0-a22c-8a69c0467962",
   "metadata": {},
   "outputs": [],
   "source": [
    "image_full_name = category + \"_\" + image_file_name\n",
    "save_image(image_full_name)\n",
    "name_snippet_pairs[image_full_name] = snippet"
   ]
  },
  {
   "cell_type": "markdown",
   "id": "518357a2-5d24-4ce2-bb77-b180b0da3ea5",
   "metadata": {},
   "source": [
    "# ----------------"
   ]
  },
  {
   "cell_type": "code",
   "execution_count": 4,
   "id": "ad594e35",
   "metadata": {},
   "outputs": [
    {
     "data": {
      "image/png": "[encoded data removed]",
      "text/plain": [
       "<IPython.core.display.Image object>"
      ]
     },
     "metadata": {},
     "output_type": "display_data"
    }
   ],
   "source": [
    "%%manim $params\n",
    "class Example(ZoomedScene):\n",
    "    def construct(self):\n",
    "        mob= Circle(color= YELLOW)\n",
    "        self.add(mob)\n",
    "        mob.scale(0.1)\n",
    "        self.camera.frame.scale(1/25)\n",
    "###******        \n",
    "category = \"basics02\"\n",
    "image_file_name = \"circle.png\"\n",
    "snippet = \"circle = Circle(color= YELLOW)\""
   ]
  },
  {
   "cell_type": "code",
   "execution_count": 5,
   "id": "db6d50e4-9da3-4a96-96fd-1c6d88d0e44d",
   "metadata": {},
   "outputs": [],
   "source": [
    "image_full_name = category + \"_\" + image_file_name\n",
    "save_image(image_full_name)\n",
    "name_snippet_pairs[image_full_name] = snippet"
   ]
  },
  {
   "cell_type": "markdown",
   "id": "1f8f6f69-74c4-42bd-9672-f54c6aff05e3",
   "metadata": {},
   "source": [
    "# ----------------\n"
   ]
  },
  {
   "cell_type": "code",
   "execution_count": 6,
   "id": "78d4b603",
   "metadata": {},
   "outputs": [
    {
     "data": {
      "image/png": "[encoded data removed]",
      "text/plain": [
       "<IPython.core.display.Image object>"
      ]
     },
     "metadata": {},
     "output_type": "display_data"
    }
   ],
   "source": [
    "%%manim $params\n",
    "class Example(ZoomedScene):\n",
    "    def construct(self):\n",
    "        mob= Square(color= YELLOW)\n",
    "        self.add(mob)\n",
    "        mob.scale(0.1)\n",
    "        self.camera.frame.scale(1/25)\n",
    "###******        \n",
    "category = \"basics03\"\n",
    "image_file_name = \"square.png\"\n",
    "snippet = \"square = Square(color= YELLOW)\""
   ]
  },
  {
   "cell_type": "code",
   "execution_count": 7,
   "id": "71a9366d-cf68-4d7b-b647-d34d98799edd",
   "metadata": {},
   "outputs": [],
   "source": [
    "image_full_name = category + \"_\" + image_file_name\n",
    "save_image(image_full_name)\n",
    "name_snippet_pairs[image_full_name] = snippet"
   ]
  },
  {
   "cell_type": "markdown",
   "id": "ed311019-e6bd-4e3d-8626-aac82ba3dddf",
   "metadata": {},
   "source": [
    "# ----------------"
   ]
  },
  {
   "cell_type": "code",
   "execution_count": 8,
   "id": "bc54081a",
   "metadata": {},
   "outputs": [
    {
     "data": {
      "image/png": "[encoded data removed]",
      "text/plain": [
       "<IPython.core.display.Image object>"
      ]
     },
     "metadata": {},
     "output_type": "display_data"
    }
   ],
   "source": [
    "%%manim $params\n",
    "class Example(ZoomedScene):\n",
    "    def construct(self):\n",
    "        mob = Line(color= YELLOW)\n",
    "        self.add(mob)\n",
    "        mob.scale(0.1)\n",
    "        self.camera.frame.scale(1/25)\n",
    "###******        \n",
    "category = \"basics04\"\n",
    "image_file_name = \"line.png\"\n",
    "snippet = \"line = Line(color= YELLOW)\""
   ]
  },
  {
   "cell_type": "code",
   "execution_count": 9,
   "id": "0b34e199-d4d7-488f-b082-c3079505abf1",
   "metadata": {},
   "outputs": [],
   "source": [
    "image_full_name = category + \"_\" + image_file_name\n",
    "save_image(image_full_name)\n",
    "name_snippet_pairs[image_full_name] = snippet"
   ]
  },
  {
   "cell_type": "markdown",
   "id": "32ff193f-16d1-4e36-9184-bbb763a27d00",
   "metadata": {},
   "source": [
    "# ----------------"
   ]
  },
  {
   "cell_type": "code",
   "execution_count": 10,
   "id": "ca89b62d",
   "metadata": {},
   "outputs": [
    {
     "data": {
      "image/png": "[encoded data removed]",
      "text/plain": [
       "<IPython.core.display.Image object>"
      ]
     },
     "metadata": {},
     "output_type": "display_data"
    }
   ],
   "source": [
    "%%manim $params\n",
    "class Example(ZoomedScene):\n",
    "    def construct(self):\n",
    "        mob= Star(color= YELLOW)\n",
    "        mob.move_to(ORIGIN)\n",
    "        self.add(mob)\n",
    "        mob.scale(0.1)\n",
    "        self.camera.frame.scale(1/25)\n",
    "###******        \n",
    "category = \"basics05\"\n",
    "image_file_name = \"star.png\"\n",
    "snippet = \"star = Star(color = YELLOW)\""
   ]
  },
  {
   "cell_type": "code",
   "execution_count": 11,
   "id": "919d96ef-f910-4289-a7ed-19b54b765d26",
   "metadata": {},
   "outputs": [],
   "source": [
    "image_full_name = category + \"_\" + image_file_name\n",
    "save_image(image_full_name)\n",
    "name_snippet_pairs[image_full_name] = snippet"
   ]
  },
  {
   "cell_type": "markdown",
   "id": "2ee59eea-27a8-4de3-a260-0c5af3b0e37b",
   "metadata": {},
   "source": [
    "# ----------------"
   ]
  },
  {
   "cell_type": "code",
   "execution_count": 12,
   "id": "e32bba63-afe6-4857-bffa-24240c9198cb",
   "metadata": {},
   "outputs": [
    {
     "data": {
      "text/plain": [
       "{'basics01_dot.png': 'd = Dot(color = YELLOW)',\n",
       " 'basics02_circle.png': 'circle = Circle(color= YELLOW)',\n",
       " 'basics03_square.png': 'square = Square(color= YELLOW)',\n",
       " 'basics04_line.png': 'line = Line(color= YELLOW)',\n",
       " 'basics05_star.png': 'star = Star(color = YELLOW)'}"
      ]
     },
     "execution_count": 12,
     "metadata": {},
     "output_type": "execute_result"
    }
   ],
   "source": [
    "name_snippet_pairs"
   ]
  },
  {
   "cell_type": "code",
   "execution_count": 13,
   "id": "ab1b24cd-ce2a-4a6c-9e8f-6718dca88478",
   "metadata": {},
   "outputs": [],
   "source": [
    "with open('name_snippet_pairs.json', 'w') as fp:\n",
    "    json.dump(name_snippet_pairs, fp)"
   ]
  }
 ],
 "metadata": {
  "interpreter": {
   "hash": "956ae1017c005de10cf980548dc93247cd70ec3257bcb31b6a6c2783ea7553f4"
  },
  "kernelspec": {
   "display_name": "Python 3",
   "language": "python",
   "name": "python3"
  },
  "language_info": {
   "codemirror_mode": {
    "name": "ipython",
    "version": 3
   },
   "file_extension": ".py",
   "mimetype": "text/x-python",
   "name": "python",
   "nbconvert_exporter": "python",
   "pygments_lexer": "ipython3",
   "version": "3.9.5"
  }
 },
 "nbformat": 4,
 "nbformat_minor": 5
}
