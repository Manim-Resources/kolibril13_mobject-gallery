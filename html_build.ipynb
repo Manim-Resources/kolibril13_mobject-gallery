{
 "cells": [
  {
   "cell_type": "markdown",
   "metadata": {},
   "source": [
    "This notebook takes the parameters from `gallery_config.yaml` and updates the file `index.html` with the function `generate_html`."
   ]
  },
  {
   "cell_type": "code",
   "execution_count": 1,
   "metadata": {},
   "outputs": [
    {
     "name": "stdout",
     "output_type": "stream",
     "text": [
      "Plywood Gallery v0.0.12\n",
      "Successfully read gallery_config.yaml\n",
      "Successfully created index.html\n",
      "Now you can start crafting your examples with the file gallery.ipynb and see the results in `index.html`!🚪 \n",
      "Just opening index.html in the browser won't load the interactive parts, so better use `from plywood_gallery import open_webpage; open_webpage()` or in VS Code select 'Live Preview: Show Preview' in VSCode to start the page with a server\n"
     ]
    }
   ],
   "source": [
    "from plywood_gallery import generate_html\n",
    "generate_html(yaml_file=\"gallery_config.yaml\", html_file=\"index.html\")"
   ]
  },
  {
   "cell_type": "code",
   "execution_count": null,
   "metadata": {},
   "outputs": [],
   "source": [
    "# from plywood_gallery import open_webpage\n",
    "# open_webpage()"
   ]
  }
 ],
 "metadata": {
  "kernelspec": {
   "display_name": ".venv11",
   "language": "python",
   "name": "python3"
  },
  "language_info": {
   "codemirror_mode": {
    "name": "ipython",
    "version": 3
   },
   "file_extension": ".py",
   "mimetype": "text/x-python",
   "name": "python",
   "nbconvert_exporter": "python",
   "pygments_lexer": "ipython3",
   "version": "3.11.1"
  },
  "orig_nbformat": 4,
  "vscode": {
   "interpreter": {
    "hash": "f218556be0a20762f65e7abb3cdb7fef2249cccfce82d92ef1ee9b66d723adfc"
   }
  }
 },
 "nbformat": 4,
 "nbformat_minor": 2
}
