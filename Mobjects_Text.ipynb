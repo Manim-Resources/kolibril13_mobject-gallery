{
 "cells": [
  {
   "cell_type": "code",
   "execution_count": 1,
   "id": "e4ba2c91-b12e-4d60-98e6-7e51046d5745",
   "metadata": {},
   "outputs": [
    {
     "data": {
      "text/html": [
       "<pre style=\"white-space:pre;overflow-x:auto;line-height:normal;font-family:Menlo,'DejaVu Sans Mono',consolas,'Courier New',monospace\">Manim Community <span style=\"color: #008000; text-decoration-color: #008000\">v0.10.0</span>\n",
       "\n",
       "</pre>\n"
      ],
      "text/plain": [
       "Manim Community \u001b[32mv0.\u001b[0m\u001b[32m10.0\u001b[0m\n",
       "\n"
      ]
     },
     "metadata": {},
     "output_type": "display_data"
    }
   ],
   "source": [
    "from manim import *\n",
    "from pathlib import Path\n",
    "import shutil\n",
    "import time\n",
    "import json\n",
    "import os\n",
    "\n",
    "params = \" -v WARNING -r 80,40 -s  --disable_caching Example\"\n",
    "    \n",
    "name_snippet_pairs = {}"
   ]
  },
  {
   "cell_type": "code",
   "execution_count": 2,
   "id": "0fd61567-423c-4c00-a242-1ab6c8dd9787",
   "metadata": {},
   "outputs": [
    {
     "data": {
      "image/png": "[encoded data removed]",
      "text/plain": [
       "<IPython.core.display.Image object>"
      ]
     },
     "metadata": {},
     "output_type": "display_data"
    }
   ],
   "source": [
    "%%manim $params\n",
    "class Example(ZoomedScene):\n",
    "    def construct(self):\n",
    "        mob = Text(\"Hello\", color=WHITE)\n",
    "        self.add(mob)\n",
    "        self.camera.frame.scale(1/8)\n",
    "###******        \n",
    "image_full_name = \"Text1.png\"\n",
    "snippet = 'mob = Text(\"Hello\", color=WHITE)'\n",
    "name_snippet_pairs[image_full_name] = snippet"
   ]
  },
  {
   "cell_type": "code",
   "execution_count": 3,
   "id": "83dea982-bd01-4677-8f52-c0c0cc03b294",
   "metadata": {},
   "outputs": [
    {
     "data": {
      "image/png": "[encoded data removed]",
      "text/plain": [
       "<IPython.core.display.Image object>"
      ]
     },
     "metadata": {},
     "output_type": "display_data"
    }
   ],
   "source": [
    "%%manim $params\n",
    "class Example(ZoomedScene):\n",
    "    def construct(self):\n",
    "        mob = Text(\"World\", color=YELLOW,slant=ITALIC)\n",
    "        self.add(mob)\n",
    "        self.camera.frame.scale(1/8)\n",
    "###******       \n",
    "image_full_name = \"Text2.png\"\n",
    "snippet = 'mob = Text(\"World\", color=YELLOW,slant=ITALIC)'\n",
    "name_snippet_pairs[image_full_name] = snippet"
   ]
  },
  {
   "cell_type": "code",
   "execution_count": 4,
   "id": "6b947937-3554-42af-95d5-cc07a958b0bc",
   "metadata": {},
   "outputs": [
    {
     "data": {
      "image/png": "[encoded data removed]",
      "text/plain": [
       "<IPython.core.display.Image object>"
      ]
     },
     "metadata": {},
     "output_type": "display_data"
    }
   ],
   "source": [
    "%%manim $params\n",
    "class Example(ZoomedScene):\n",
    "    def construct(self):\n",
    "        t = Tex(\"YES\")\n",
    "        ul = Underline(t, color=YELLOW)\n",
    "        self.add(t, ul)\n",
    "        self.camera.frame.scale(1/8)\n",
    "###******        \n",
    "image_full_name = \"Underline.png\"\n",
    "snippet = 't = Tex(\"YES\")\\nul = Underline(t, color=YELLOW)'\n",
    "name_snippet_pairs[image_full_name] = snippet"
   ]
  },
  {
   "cell_type": "code",
   "execution_count": 5,
   "id": "3d6c9d9f-d32d-4811-8b47-2d768d062624",
   "metadata": {},
   "outputs": [
    {
     "data": {
      "image/png": "[encoded data removed]",
      "text/plain": [
       "<IPython.core.display.Image object>"
      ]
     },
     "metadata": {},
     "output_type": "display_data"
    }
   ],
   "source": [
    "%%manim $params\n",
    "class Example(ZoomedScene):\n",
    "    def construct(self):\n",
    "        mob = Text(\"NO\", color=YELLOW,weight=BOLD)\n",
    "        self.add(mob)\n",
    "        self.camera.frame.scale(1/8)\n",
    "###******       \n",
    "image_full_name = \"Bold.png\"\n",
    "snippet = 'mob = Text(\"NO\", color=YELLOW,weight=BOLD)'\n",
    "name_snippet_pairs[image_full_name] = snippet"
   ]
  },
  {
   "cell_type": "code",
   "execution_count": 6,
   "id": "38447001-be94-4df2-b101-645036c6c3a1",
   "metadata": {},
   "outputs": [
    {
     "data": {
      "image/png": "[encoded data removed]",
      "text/plain": [
       "<IPython.core.display.Image object>"
      ]
     },
     "metadata": {},
     "output_type": "display_data"
    }
   ],
   "source": [
    "%%manim $params\n",
    "class Example(ZoomedScene):\n",
    "    def construct(self):\n",
    "        mob = MathTex(r\"\\Psi(x)\", color=WHITE)\n",
    "        self.add(mob)\n",
    "        self.camera.frame.scale(1/8)\n",
    "###******        \n",
    "image_full_name = \"MathTex.png\"\n",
    "snippet = 'mob = MathTex(r\"\\Psi(x)\", color=WHITE)'\n",
    "name_snippet_pairs[image_full_name] = snippet"
   ]
  },
  {
   "cell_type": "code",
   "execution_count": 7,
   "id": "f5c9059c-f2dc-4219-b5bb-f8bcea454323",
   "metadata": {},
   "outputs": [
    {
     "data": {
      "image/png": "[encoded data removed]",
      "text/plain": [
       "<IPython.core.display.Image object>"
      ]
     },
     "metadata": {},
     "output_type": "display_data"
    }
   ],
   "source": [
    "%%manim $params\n",
    "class Example(ZoomedScene):\n",
    "    def construct(self):\n",
    "        mob = MathTex(r\"e^x\",substrings_to_isolate=\"x\")\n",
    "        mob.set_color_by_tex(\"x\", YELLOW)\n",
    "        self.add(mob)\n",
    "        self.camera.frame.scale(1/10)\n",
    "###******\n",
    "\n",
    "image_full_name = \"MathTex2.png\"\n",
    "snippet = \"\"\"\n",
    "mob = MathTex(r\"e^x\",substrings_to_isolate=\"x\")\n",
    "mob.set_color_by_tex(\"x\", YELLOW)\n",
    "\"\"\"\n",
    "name_snippet_pairs[image_full_name] = snippet"
   ]
  },
  {
   "cell_type": "code",
   "execution_count": 8,
   "id": "91267955-c0a4-4184-8149-6b71e6c3158a",
   "metadata": {},
   "outputs": [
    {
     "data": {
      "image/png": "[encoded data removed]",
      "text/plain": [
       "<IPython.core.display.Image object>"
      ]
     },
     "metadata": {},
     "output_type": "display_data"
    }
   ],
   "source": [
    "%%manim $params\n",
    "class Example(ZoomedScene):\n",
    "    def construct(self):\n",
    "        check= Tex(r\"\\checkmark\", color= GREEN, stroke_width=8).scale(3)\n",
    "        check.stretch(0.8, dim = 1)\n",
    "        check.stretch(1.1, dim = 0)\n",
    "        self.camera.frame.scale(1/7)\n",
    "        self.add(check)\n",
    "image_full_name = \"Check.png\"\n",
    "snippet = \"\"\"\n",
    "check= Tex(r\"\\checkmark\", color= GREEN, stroke_width=8).scale(3)\n",
    "check.stretch(0.8, dim = 1)\n",
    "check.stretch(1.1, dim = 0)\n",
    "\"\"\"\n",
    "name_snippet_pairs[image_full_name] = snippet"
   ]
  },
  {
   "cell_type": "markdown",
   "id": "7150aa82-899b-49cd-bcad-344ef8bb3e9c",
   "metadata": {},
   "source": [
    "# Save here!"
   ]
  },
  {
   "cell_type": "code",
   "execution_count": 9,
   "id": "53529e00-0617-4ce7-bdbb-fe76d8ae6ad4",
   "metadata": {},
   "outputs": [],
   "source": [
    "#pip install keyboard\n",
    "import keyboard\n",
    "keyboard.press_and_release('command+s')"
   ]
  },
  {
   "cell_type": "code",
   "execution_count": 10,
   "id": "a0a9f13e-13ec-4a03-b5ad-981fcd535dac",
   "metadata": {},
   "outputs": [],
   "source": [
    "file_name = \"Mobjects_Text\""
   ]
  },
  {
   "cell_type": "code",
   "execution_count": 11,
   "id": "312f4676-113b-464d-b7d5-03e0c7ca3c93",
   "metadata": {},
   "outputs": [
    {
     "name": "stdout",
     "output_type": "stream",
     "text": [
      "rm: Mobjects_Text_files: No such file or directory\n",
      "[NbConvertApp] Converting notebook Mobjects_Text.ipynb to markdown\n",
      "[NbConvertApp] Support files will be in Mobjects_Text_files/\n",
      "[NbConvertApp] Making directory Mobjects_Text_files\n",
      "[NbConvertApp] Making directory Mobjects_Text_files\n",
      "[NbConvertApp] Making directory Mobjects_Text_files\n",
      "[NbConvertApp] Making directory Mobjects_Text_files\n",
      "[NbConvertApp] Making directory Mobjects_Text_files\n",
      "[NbConvertApp] Making directory Mobjects_Text_files\n",
      "[NbConvertApp] Making directory Mobjects_Text_files\n",
      "[NbConvertApp] Writing 4865 bytes to Mobjects_Text.md\n"
     ]
    },
    {
     "data": {
      "text/plain": [
       "{'Mobjects_Text_000_Text1.png': 'mob = Text(\"Hello\", color=WHITE)',\n",
       " 'Mobjects_Text_001_Text2.png': 'mob = Text(\"World\", color=YELLOW,slant=ITALIC)',\n",
       " 'Mobjects_Text_002_Underline.png': 't = Tex(\"YES\")\\nul = Underline(t, color=YELLOW)',\n",
       " 'Mobjects_Text_003_Bold.png': 'mob = Text(\"NO\", color=YELLOW,weight=BOLD)',\n",
       " 'Mobjects_Text_004_MathTex.png': 'mob = MathTex(r\"\\\\Psi(x)\", color=WHITE)',\n",
       " 'Mobjects_Text_005_MathTex2.png': '\\nmob = MathTex(r\"e^x\",substrings_to_isolate=\"x\")\\nmob.set_color_by_tex(\"x\", YELLOW)\\n',\n",
       " 'Mobjects_Text_006_Check.png': '\\ncheck= Tex(r\"\\\\checkmark\", color= GREEN, stroke_width=8).scale(3)\\ncheck.stretch(0.8, dim = 1)\\ncheck.stretch(1.1, dim = 0)\\n'}"
      ]
     },
     "metadata": {},
     "output_type": "display_data"
    }
   ],
   "source": [
    "folder_name = file_name + \"_files\"\n",
    "notebook_name = file_name + \".ipynb\"\n",
    "markdown_name = file_name + \".md\"\n",
    "!rm -r $folder_name\n",
    "!jupyter nbconvert $notebook_name --to markdown\n",
    "!rm -r $markdown_name\n",
    "base_directory = Path.cwd() / folder_name\n",
    "target_directory = Path.cwd() / \"images\"\n",
    "target_directory.mkdir(parents=True, exist_ok=True)\n",
    "\n",
    "prefix = file_name # delete files that where created in the past \n",
    "for file in target_directory.rglob(\"*\"):\n",
    "    if (prefix in file.name):\n",
    "        file.unlink() \n",
    "\n",
    "paths = sorted(Path(base_directory).iterdir(), key=os.path.getmtime)\n",
    "dest_names = list(name_snippet_pairs.keys())\n",
    "new_keys = []\n",
    "for num, (p,des) in enumerate(zip(paths,dest_names)):\n",
    "    to_path = target_directory /  f\"{file_name}_{num:03}_{des}\"   \n",
    "    shutil.copy(p,  to_path)\n",
    "    new_keys.append(to_path.name)\n",
    "    \n",
    "new_name_snippet_pairs ={} \n",
    "new_values = list(name_snippet_pairs.values())\n",
    "for key, value in zip(new_keys,new_values):\n",
    "    new_name_snippet_pairs[key]=value\n",
    "with open(f'{file_name}.json', 'w') as fp:\n",
    "    json.dump(new_name_snippet_pairs, fp,indent=2)\n",
    "display(new_name_snippet_pairs)\n",
    "!rm -r $folder_name\n",
    "!git add ."
   ]
  },
  {
   "cell_type": "code",
   "execution_count": null,
   "id": "b406bbb5-cf73-4183-a198-3ce788f32aeb",
   "metadata": {},
   "outputs": [],
   "source": []
  },
  {
   "cell_type": "code",
   "execution_count": null,
   "id": "6f22315d-1668-49ec-b8ff-dce483d15631",
   "metadata": {},
   "outputs": [],
   "source": []
  }
 ],
 "metadata": {
  "interpreter": {
   "hash": "956ae1017c005de10cf980548dc93247cd70ec3257bcb31b6a6c2783ea7553f4"
  },
  "kernelspec": {
   "display_name": "Python 3",
   "language": "python",
   "name": "python3"
  },
  "language_info": {
   "codemirror_mode": {
    "name": "ipython",
    "version": 3
   },
   "file_extension": ".py",
   "mimetype": "text/x-python",
   "name": "python",
   "nbconvert_exporter": "python",
   "pygments_lexer": "ipython3",
   "version": "3.9.5"
  }
 },
 "nbformat": 4,
 "nbformat_minor": 5
}
