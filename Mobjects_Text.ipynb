{
 "cells": [
  {
   "cell_type": "code",
   "execution_count": 6,
   "id": "e4ba2c91-b12e-4d60-98e6-7e51046d5745",
   "metadata": {},
   "outputs": [],
   "source": [
    "from manim import *\n",
    "from pathlib import Path\n",
    "import shutil\n",
    "import time\n",
    "import json\n",
    "\n",
    "params = \" -v WARNING -r 80,40 -s  --disable_caching Example\"\n",
    "\n",
    "#def latest_file(path: Path, pattern: str = \"*\"):\n",
    "#   files = path.glob(pattern)\n",
    "#   return max(files, key=lambda x: x.stat().st_ctime)\n",
    "\n",
    "def save_image(name):\n",
    "    #from_file = latest_file(Path(\"./media/images/mobject-gallery\"))\n",
    "    from_file = Path(\"./media/images/mobject-gallery/Example_ManimCE_v0.10.0.png\")\n",
    "    to_file = Path.cwd() / name\n",
    "    shutil.copy(from_file, to_file)\n",
    "    \n",
    "name_snippet_pairs = {}"
   ]
  },
  {
   "cell_type": "code",
   "execution_count": 7,
   "id": "0fd61567-423c-4c00-a242-1ab6c8dd9787",
   "metadata": {},
   "outputs": [
    {
     "data": {
      "image/png": "[encoded data removed]",
      "text/plain": [
       "<IPython.core.display.Image object>"
      ]
     },
     "metadata": {},
     "output_type": "display_data"
    }
   ],
   "source": [
    "%%manim $params\n",
    "class Example(ZoomedScene):\n",
    "    def construct(self):\n",
    "        mob = Text(\"Hello\", color=WHITE)\n",
    "        self.add(mob)\n",
    "        self.camera.frame.scale(1/8)\n",
    "###******        \n",
    "category = \"text\"\n",
    "image_file_name = \"Text.png\"\n",
    "snippet = 'mob = Text(\"Hello\", color=WHITE)'\n",
    "image_full_name = category + \"_\" + image_file_name\n",
    "name_snippet_pairs[image_full_name] = snippet"
   ]
  },
  {
   "cell_type": "code",
   "execution_count": 8,
   "id": "38447001-be94-4df2-b101-645036c6c3a1",
   "metadata": {},
   "outputs": [
    {
     "data": {
      "image/png": "[encoded data removed]",
      "text/plain": [
       "<IPython.core.display.Image object>"
      ]
     },
     "metadata": {},
     "output_type": "display_data"
    }
   ],
   "source": [
    "%%manim $params\n",
    "class Example(ZoomedScene):\n",
    "    def construct(self):\n",
    "        mob = MathTex(r\"\\Psi(x)\", color=WHITE)\n",
    "        self.add(mob)\n",
    "        self.camera.frame.scale(1/8)\n",
    "###******        \n",
    "category = \"text\"\n",
    "image_file_name = \"MathTex.png\"\n",
    "snippet = 'mob = MathTex(r\"\\Psi(x)\", color=WHITE)'\n",
    "image_full_name = category + \"_\" + image_file_name\n",
    "name_snippet_pairs[image_full_name] = snippet"
   ]
  },
  {
   "cell_type": "code",
   "execution_count": 19,
   "id": "f5c9059c-f2dc-4219-b5bb-f8bcea454323",
   "metadata": {},
   "outputs": [
    {
     "data": {
      "image/png": "[encoded data removed]",
      "text/plain": [
       "<IPython.core.display.Image object>"
      ]
     },
     "metadata": {},
     "output_type": "display_data"
    }
   ],
   "source": [
    "%%manim $params\n",
    "class Example(ZoomedScene):\n",
    "    def construct(self):\n",
    "        mob = MathTex(r\"e^x\",substrings_to_isolate=\"x\")\n",
    "        mob.set_color_by_tex(\"x\", YELLOW)\n",
    "        self.add(mob)\n",
    "        self.camera.frame.scale(1/10)\n",
    "###******        \n",
    "category = \"text\"\n",
    "image_file_name = \"MathTex.png\"\n",
    "snippet = 'mob = MathTex(r\"e^x\",substrings_to_isolate=\"x\") \\nmob.set_color_by_tex(\"x\", YELLOW)'\n",
    "\n",
    "image_full_name = category + \"_\" + image_file_name\n",
    "name_snippet_pairs[image_full_name] = snippet"
   ]
  },
  {
   "cell_type": "markdown",
   "id": "7150aa82-899b-49cd-bcad-344ef8bb3e9c",
   "metadata": {},
   "source": [
    "# Save here!"
   ]
  },
  {
   "cell_type": "code",
   "execution_count": 20,
   "id": "b96dd10b-3830-4208-a2fd-7fe9e1c3e577",
   "metadata": {},
   "outputs": [],
   "source": [
    "!rm -r Mobjects_Text_files"
   ]
  },
  {
   "cell_type": "code",
   "execution_count": 21,
   "id": "7dc0296a-ac01-4e2e-940b-71c82a5ffb77",
   "metadata": {},
   "outputs": [
    {
     "name": "stdout",
     "output_type": "stream",
     "text": [
      "[NbConvertApp] Converting notebook Mobjects_Text.ipynb to markdown\n",
      "[NbConvertApp] Support files will be in Mobjects_Text_files/\n",
      "[NbConvertApp] Making directory Mobjects_Text_files\n",
      "[NbConvertApp] Making directory Mobjects_Text_files\n",
      "[NbConvertApp] Making directory Mobjects_Text_files\n",
      "[NbConvertApp] Writing 3813 bytes to Mobjects_Text.md\n"
     ]
    }
   ],
   "source": [
    "!jupyter nbconvert Mobjects_Text.ipynb --to markdown"
   ]
  },
  {
   "cell_type": "code",
   "execution_count": 22,
   "id": "bda246f2-9afc-45fc-b3e6-4745465d5f4d",
   "metadata": {},
   "outputs": [],
   "source": [
    "!rm -r Mobjects_Text.md"
   ]
  },
  {
   "cell_type": "code",
   "execution_count": 23,
   "id": "9d624a60-fd80-4156-a23f-ebb8203f3d59",
   "metadata": {},
   "outputs": [],
   "source": [
    "base_directory = Path.cwd() / \"Mobjects_Text_files\"\n",
    "target_directory = Path.cwd() / \"images\"\n",
    "import os\n",
    "paths = sorted(Path(base_directory).iterdir(), key=os.path.getmtime)\n",
    "dest_names = list(name_snippet_pairs.keys())\n",
    "new_keys = []\n",
    "for num, (p,des) in enumerate(zip(paths,dest_names)):\n",
    "    to_path = target_directory /  f\"image{num:03}{des}\"   \n",
    "    shutil.copy(p,  to_path)\n",
    "#    print(\"done\", to_path.name)\n",
    "    new_keys.append(to_path.name)"
   ]
  },
  {
   "cell_type": "code",
   "execution_count": 24,
   "id": "2c4fb21e-b9f8-4c2c-838d-3da43598bde3",
   "metadata": {},
   "outputs": [
    {
     "name": "stdout",
     "output_type": "stream",
     "text": [
      "rm: Mobjects_Basics_files: No such file or directory\n"
     ]
    }
   ],
   "source": [
    "!rm -r Mobjects_Basics_files"
   ]
  },
  {
   "cell_type": "code",
   "execution_count": 25,
   "id": "e32bba63-afe6-4857-bffa-24240c9198cb",
   "metadata": {},
   "outputs": [],
   "source": [
    "new_name_snippet_pairs ={} \n",
    "new_values = list(name_snippet_pairs.values())\n",
    "#new_new_values = []\n",
    "#for val in new_values:\n",
    "#    val= val.replace('\"', \"'\")\n",
    "#    print(val)\n",
    "for key, value in zip(new_keys,new_values):\n",
    "    new_name_snippet_pairs[key]=value"
   ]
  },
  {
   "cell_type": "code",
   "execution_count": 26,
   "id": "ba500ec7-c25d-4196-ac36-f7d6c3c69f32",
   "metadata": {},
   "outputs": [
    {
     "data": {
      "text/plain": [
       "{'image000text_Text.png': 'mob = Text(\"Hello\", color=WHITE)',\n",
       " 'image001text_MathTex.png': 'mob = MathTex(r\"e^x\",substrings_to_isolate=\"x\") \\nmob.set_color_by_tex(\"x\", YELLOW)'}"
      ]
     },
     "execution_count": 26,
     "metadata": {},
     "output_type": "execute_result"
    }
   ],
   "source": [
    "new_name_snippet_pairs"
   ]
  },
  {
   "cell_type": "code",
   "execution_count": 27,
   "id": "ab1b24cd-ce2a-4a6c-9e8f-6718dca88478",
   "metadata": {},
   "outputs": [],
   "source": [
    "with open('name_snippet_pairs_text.json', 'w') as fp:\n",
    "    json.dump(new_name_snippet_pairs, fp,indent=2)"
   ]
  },
  {
   "cell_type": "code",
   "execution_count": 18,
   "id": "3f2e3684-d9ee-4433-af9d-717eeb711ab5",
   "metadata": {},
   "outputs": [],
   "source": [
    "!git add ."
   ]
  },
  {
   "cell_type": "code",
   "execution_count": null,
   "id": "312f4676-113b-464d-b7d5-03e0c7ca3c93",
   "metadata": {},
   "outputs": [],
   "source": []
  }
 ],
 "metadata": {
  "interpreter": {
   "hash": "956ae1017c005de10cf980548dc93247cd70ec3257bcb31b6a6c2783ea7553f4"
  },
  "kernelspec": {
   "display_name": "Python 3",
   "language": "python",
   "name": "python3"
  },
  "language_info": {
   "codemirror_mode": {
    "name": "ipython",
    "version": 3
   },
   "file_extension": ".py",
   "mimetype": "text/x-python",
   "name": "python",
   "nbconvert_exporter": "python",
   "pygments_lexer": "ipython3",
   "version": "3.9.5"
  }
 },
 "nbformat": 4,
 "nbformat_minor": 5
}
